{
 "cells": [
  {
   "cell_type": "code",
   "execution_count": 73,
   "metadata": {},
   "outputs": [],
   "source": [
    "import requests\n",
    "import csv\n",
    "import re\n",
    "import time\n",
    "from bs4 import BeautifulSoup\n",
    "import pandas as pd"
   ]
  },
  {
   "cell_type": "code",
   "execution_count": 74,
   "metadata": {},
   "outputs": [
    {
     "name": "stdout",
     "output_type": "stream",
     "text": [
      "200\n"
     ]
    }
   ],
   "source": [
    "url = \"https://steam250.com/most_played\"\n",
    "response = requests.get(url)\n",
    "print(response.status_code)"
   ]
  },
  {
   "cell_type": "code",
   "execution_count": 75,
   "metadata": {},
   "outputs": [],
   "source": [
    "soup = BeautifulSoup(response.content, \"html.parser\")\n",
    "main_ranking = soup.find(\"div\",class_=\"col1 main ranking\")"
   ]
  },
  {
   "cell_type": "code",
   "execution_count": 76,
   "metadata": {},
   "outputs": [
    {
     "name": "stdout",
     "output_type": "stream",
     "text": [
      "Counter-Strike: Global Offensive\n",
      "586,446\n"
     ]
    }
   ],
   "source": [
    "first = main_ranking.find(id=\"1\")\n",
    "title = first.find(\"span\",class_=\"title\").find(\"a\")\n",
    "print(title.text.strip())\n",
    "score = first.find(\"span\",class_=\"players\")\n",
    "print(score.text.strip())"
   ]
  },
  {
   "cell_type": "code",
   "execution_count": 77,
   "metadata": {},
   "outputs": [],
   "source": [
    "names = []\n",
    "players = []\n",
    "for i in range(250):\n",
    "    idx = i + 1\n",
    "    content = main_ranking.find(id=str(idx))\n",
    "    title = content.find(\"span\",class_=\"title\").find(\"a\").text.strip()\n",
    "    names.append(title)\n",
    "    score = content.find(\"span\",class_=\"players\").text.strip()\n",
    "    players.append(score)"
   ]
  },
  {
   "cell_type": "code",
   "execution_count": 78,
   "metadata": {},
   "outputs": [
    {
     "data": {
      "text/plain": "250"
     },
     "execution_count": 78,
     "metadata": {},
     "output_type": "execute_result"
    }
   ],
   "source": [
    "len(names)"
   ]
  },
  {
   "cell_type": "code",
   "execution_count": 79,
   "metadata": {},
   "outputs": [
    {
     "data": {
      "text/plain": "250"
     },
     "execution_count": 79,
     "metadata": {},
     "output_type": "execute_result"
    }
   ],
   "source": [
    "len(players)"
   ]
  },
  {
   "cell_type": "code",
   "execution_count": 80,
   "metadata": {},
   "outputs": [
    {
     "data": {
      "text/plain": "                                 Name  players\n0    Counter-Strike: Global Offensive  586,446\n1                              Dota 2  413,327\n2                 PUBG: BATTLEGROUNDS  184,883\n3                       Apex Legends™  170,289\n4                            Lost Ark  127,457\n..                                ...      ...\n245                         ASTRONEER    1,970\n246           Incremental Epic Hero 2    1,960\n247            Batman™: Arkham Knight    1,955\n248          CarX Drift Racing Online    1,948\n249                        Subnautica    1,932\n\n[250 rows x 2 columns]",
      "text/html": "<div>\n<style scoped>\n    .dataframe tbody tr th:only-of-type {\n        vertical-align: middle;\n    }\n\n    .dataframe tbody tr th {\n        vertical-align: top;\n    }\n\n    .dataframe thead th {\n        text-align: right;\n    }\n</style>\n<table border=\"1\" class=\"dataframe\">\n  <thead>\n    <tr style=\"text-align: right;\">\n      <th></th>\n      <th>Name</th>\n      <th>players</th>\n    </tr>\n  </thead>\n  <tbody>\n    <tr>\n      <th>0</th>\n      <td>Counter-Strike: Global Offensive</td>\n      <td>586,446</td>\n    </tr>\n    <tr>\n      <th>1</th>\n      <td>Dota 2</td>\n      <td>413,327</td>\n    </tr>\n    <tr>\n      <th>2</th>\n      <td>PUBG: BATTLEGROUNDS</td>\n      <td>184,883</td>\n    </tr>\n    <tr>\n      <th>3</th>\n      <td>Apex Legends™</td>\n      <td>170,289</td>\n    </tr>\n    <tr>\n      <th>4</th>\n      <td>Lost Ark</td>\n      <td>127,457</td>\n    </tr>\n    <tr>\n      <th>...</th>\n      <td>...</td>\n      <td>...</td>\n    </tr>\n    <tr>\n      <th>245</th>\n      <td>ASTRONEER</td>\n      <td>1,970</td>\n    </tr>\n    <tr>\n      <th>246</th>\n      <td>Incremental Epic Hero 2</td>\n      <td>1,960</td>\n    </tr>\n    <tr>\n      <th>247</th>\n      <td>Batman™: Arkham Knight</td>\n      <td>1,955</td>\n    </tr>\n    <tr>\n      <th>248</th>\n      <td>CarX Drift Racing Online</td>\n      <td>1,948</td>\n    </tr>\n    <tr>\n      <th>249</th>\n      <td>Subnautica</td>\n      <td>1,932</td>\n    </tr>\n  </tbody>\n</table>\n<p>250 rows × 2 columns</p>\n</div>"
     },
     "execution_count": 80,
     "metadata": {},
     "output_type": "execute_result"
    }
   ],
   "source": [
    "df = pd.DataFrame()\n",
    "df['Name'] = names\n",
    "df['players'] = players\n",
    "df"
   ]
  },
  {
   "cell_type": "code",
   "execution_count": 81,
   "metadata": {},
   "outputs": [],
   "source": [
    "df.to_csv(\"rank.csv\")"
   ]
  }
 ],
 "metadata": {
  "kernelspec": {
   "display_name": "Python 3.9.7 ('base')",
   "language": "python",
   "name": "python3"
  },
  "language_info": {
   "codemirror_mode": {
    "name": "ipython",
    "version": 3
   },
   "file_extension": ".py",
   "mimetype": "text/x-python",
   "name": "python",
   "nbconvert_exporter": "python",
   "pygments_lexer": "ipython3",
   "version": "3.9.7"
  },
  "orig_nbformat": 4,
  "vscode": {
   "interpreter": {
    "hash": "d7288e82646d3164eca24130947288f8779d11454649f2c02a5dfc42af7f324c"
   }
  }
 },
 "nbformat": 4,
 "nbformat_minor": 2
}
