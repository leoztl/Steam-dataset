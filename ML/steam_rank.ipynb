{
 "cells": [
  {
   "cell_type": "code",
   "execution_count": 751,
   "metadata": {
    "collapsed": false
   },
   "outputs": [],
   "source": [
    "import pandas as pd\n",
    "import csv\n",
    "import numpy\n",
    "import sys\n",
    "from ast import literal_eval\n",
    "import math\n",
    "from sklearn import preprocessing"
   ]
  },
  {
   "cell_type": "code",
   "execution_count": 752,
   "metadata": {
    "collapsed": false
   },
   "outputs": [
    {
     "data": {
      "text/plain": "       Unnamed: 0                                      name  steam_appid  \\\n0               0                                    Dota 2          570   \n1               1          Counter-Strike: Global Offensive          730   \n2               2                       PUBG: BATTLEGROUNDS       578080   \n3               3                                 New World      1063730   \n4               4                           Team Fortress 2          440   \n...           ...                                       ...          ...   \n56237       56237                                   Crawler      1506770   \n56238       56238                 Coins Collector Simulator      1868280   \n56239       56239                      You Arrive in a Town      1466190   \n56240       56240  Hidden Treasures in the Forest of Dreams      1853990   \n56241       56241                            The Chaos Gene      1503000   \n\n       release_date  is_free required_age      rate  price     owners  \\\n0              2013     True            0  0.829342      0  350000000   \n1              2012     True            0  0.882848      0   75000000   \n2              2017     True            0  0.565037      0   75000000   \n3              2021    False            0  0.680567   3999   75000000   \n4              2007     True            0  0.936167      0   75000000   \n...             ...      ...          ...       ...    ...        ...   \n56237          2021    False            0  0.416667    399      10000   \n56238          2022    False            0  0.625000    499      10000   \n56239          2021    False            0  0.473684    499      10000   \n56240          2022    False            0  1.000000   1999      10000   \n56241          2021    False            0  1.000000   1299      10000   \n\n                                                    tags  \n0      [Free to Play, MOBA, Multiplayer, Strategy, e-...  \n1      [FPS, Shooter, Multiplayer, Competitive, Actio...  \n2      [Survival, Shooter, Multiplayer, Battle Royale...  \n3      [Massively Multiplayer, Open World, MMORPG, RP...  \n4      [Free to Play, Hero Shooter, Multiplayer, FPS,...  \n...                                                  ...  \n56237  [Adventure, Action RPG, Exploration, Dungeon C...  \n56238  [Casual, Racing, Simulation, Sports, Strategy,...  \n56239  [Indie, Action, Casual, RPG, Action RPG, Arcad...  \n56240  [Relaxing, Nature, Walking Simulator, Procedur...  \n56241  [Early Access, Fighting, Arcade, Indie, Casual...  \n\n[56242 rows x 10 columns]",
      "text/html": "<div>\n<style scoped>\n    .dataframe tbody tr th:only-of-type {\n        vertical-align: middle;\n    }\n\n    .dataframe tbody tr th {\n        vertical-align: top;\n    }\n\n    .dataframe thead th {\n        text-align: right;\n    }\n</style>\n<table border=\"1\" class=\"dataframe\">\n  <thead>\n    <tr style=\"text-align: right;\">\n      <th></th>\n      <th>Unnamed: 0</th>\n      <th>name</th>\n      <th>steam_appid</th>\n      <th>release_date</th>\n      <th>is_free</th>\n      <th>required_age</th>\n      <th>rate</th>\n      <th>price</th>\n      <th>owners</th>\n      <th>tags</th>\n    </tr>\n  </thead>\n  <tbody>\n    <tr>\n      <th>0</th>\n      <td>0</td>\n      <td>Dota 2</td>\n      <td>570</td>\n      <td>2013</td>\n      <td>True</td>\n      <td>0</td>\n      <td>0.829342</td>\n      <td>0</td>\n      <td>350000000</td>\n      <td>[Free to Play, MOBA, Multiplayer, Strategy, e-...</td>\n    </tr>\n    <tr>\n      <th>1</th>\n      <td>1</td>\n      <td>Counter-Strike: Global Offensive</td>\n      <td>730</td>\n      <td>2012</td>\n      <td>True</td>\n      <td>0</td>\n      <td>0.882848</td>\n      <td>0</td>\n      <td>75000000</td>\n      <td>[FPS, Shooter, Multiplayer, Competitive, Actio...</td>\n    </tr>\n    <tr>\n      <th>2</th>\n      <td>2</td>\n      <td>PUBG: BATTLEGROUNDS</td>\n      <td>578080</td>\n      <td>2017</td>\n      <td>True</td>\n      <td>0</td>\n      <td>0.565037</td>\n      <td>0</td>\n      <td>75000000</td>\n      <td>[Survival, Shooter, Multiplayer, Battle Royale...</td>\n    </tr>\n    <tr>\n      <th>3</th>\n      <td>3</td>\n      <td>New World</td>\n      <td>1063730</td>\n      <td>2021</td>\n      <td>False</td>\n      <td>0</td>\n      <td>0.680567</td>\n      <td>3999</td>\n      <td>75000000</td>\n      <td>[Massively Multiplayer, Open World, MMORPG, RP...</td>\n    </tr>\n    <tr>\n      <th>4</th>\n      <td>4</td>\n      <td>Team Fortress 2</td>\n      <td>440</td>\n      <td>2007</td>\n      <td>True</td>\n      <td>0</td>\n      <td>0.936167</td>\n      <td>0</td>\n      <td>75000000</td>\n      <td>[Free to Play, Hero Shooter, Multiplayer, FPS,...</td>\n    </tr>\n    <tr>\n      <th>...</th>\n      <td>...</td>\n      <td>...</td>\n      <td>...</td>\n      <td>...</td>\n      <td>...</td>\n      <td>...</td>\n      <td>...</td>\n      <td>...</td>\n      <td>...</td>\n      <td>...</td>\n    </tr>\n    <tr>\n      <th>56237</th>\n      <td>56237</td>\n      <td>Crawler</td>\n      <td>1506770</td>\n      <td>2021</td>\n      <td>False</td>\n      <td>0</td>\n      <td>0.416667</td>\n      <td>399</td>\n      <td>10000</td>\n      <td>[Adventure, Action RPG, Exploration, Dungeon C...</td>\n    </tr>\n    <tr>\n      <th>56238</th>\n      <td>56238</td>\n      <td>Coins Collector Simulator</td>\n      <td>1868280</td>\n      <td>2022</td>\n      <td>False</td>\n      <td>0</td>\n      <td>0.625000</td>\n      <td>499</td>\n      <td>10000</td>\n      <td>[Casual, Racing, Simulation, Sports, Strategy,...</td>\n    </tr>\n    <tr>\n      <th>56239</th>\n      <td>56239</td>\n      <td>You Arrive in a Town</td>\n      <td>1466190</td>\n      <td>2021</td>\n      <td>False</td>\n      <td>0</td>\n      <td>0.473684</td>\n      <td>499</td>\n      <td>10000</td>\n      <td>[Indie, Action, Casual, RPG, Action RPG, Arcad...</td>\n    </tr>\n    <tr>\n      <th>56240</th>\n      <td>56240</td>\n      <td>Hidden Treasures in the Forest of Dreams</td>\n      <td>1853990</td>\n      <td>2022</td>\n      <td>False</td>\n      <td>0</td>\n      <td>1.000000</td>\n      <td>1999</td>\n      <td>10000</td>\n      <td>[Relaxing, Nature, Walking Simulator, Procedur...</td>\n    </tr>\n    <tr>\n      <th>56241</th>\n      <td>56241</td>\n      <td>The Chaos Gene</td>\n      <td>1503000</td>\n      <td>2021</td>\n      <td>False</td>\n      <td>0</td>\n      <td>1.000000</td>\n      <td>1299</td>\n      <td>10000</td>\n      <td>[Early Access, Fighting, Arcade, Indie, Casual...</td>\n    </tr>\n  </tbody>\n</table>\n<p>56242 rows × 10 columns</p>\n</div>"
     },
     "execution_count": 752,
     "metadata": {},
     "output_type": "execute_result"
    }
   ],
   "source": [
    "raw_rank = pd.read_csv(\"rank.csv\")\n",
    "raw_source = pd.read_csv(\"data.csv\",converters={\"tags\":literal_eval})\n",
    "df = raw_rank\n",
    "raw_source"
   ]
  },
  {
   "cell_type": "code",
   "execution_count": 753,
   "metadata": {
    "collapsed": false
   },
   "outputs": [
    {
     "data": {
      "text/plain": "     Unnamed: 0                              Name  players\n0             0  Counter-Strike: Global Offensive   586446\n1             1                            Dota 2   413327\n2             2               PUBG: BATTLEGROUNDS   184883\n3             3                     Apex Legends™   170289\n4             4                          Lost Ark   127457\n..          ...                               ...      ...\n245         245                         ASTRONEER     1970\n246         246           Incremental Epic Hero 2     1960\n247         247            Batman™: Arkham Knight     1955\n248         248          CarX Drift Racing Online     1948\n249         249                        Subnautica     1932\n\n[250 rows x 3 columns]",
      "text/html": "<div>\n<style scoped>\n    .dataframe tbody tr th:only-of-type {\n        vertical-align: middle;\n    }\n\n    .dataframe tbody tr th {\n        vertical-align: top;\n    }\n\n    .dataframe thead th {\n        text-align: right;\n    }\n</style>\n<table border=\"1\" class=\"dataframe\">\n  <thead>\n    <tr style=\"text-align: right;\">\n      <th></th>\n      <th>Unnamed: 0</th>\n      <th>Name</th>\n      <th>players</th>\n    </tr>\n  </thead>\n  <tbody>\n    <tr>\n      <th>0</th>\n      <td>0</td>\n      <td>Counter-Strike: Global Offensive</td>\n      <td>586446</td>\n    </tr>\n    <tr>\n      <th>1</th>\n      <td>1</td>\n      <td>Dota 2</td>\n      <td>413327</td>\n    </tr>\n    <tr>\n      <th>2</th>\n      <td>2</td>\n      <td>PUBG: BATTLEGROUNDS</td>\n      <td>184883</td>\n    </tr>\n    <tr>\n      <th>3</th>\n      <td>3</td>\n      <td>Apex Legends™</td>\n      <td>170289</td>\n    </tr>\n    <tr>\n      <th>4</th>\n      <td>4</td>\n      <td>Lost Ark</td>\n      <td>127457</td>\n    </tr>\n    <tr>\n      <th>...</th>\n      <td>...</td>\n      <td>...</td>\n      <td>...</td>\n    </tr>\n    <tr>\n      <th>245</th>\n      <td>245</td>\n      <td>ASTRONEER</td>\n      <td>1970</td>\n    </tr>\n    <tr>\n      <th>246</th>\n      <td>246</td>\n      <td>Incremental Epic Hero 2</td>\n      <td>1960</td>\n    </tr>\n    <tr>\n      <th>247</th>\n      <td>247</td>\n      <td>Batman™: Arkham Knight</td>\n      <td>1955</td>\n    </tr>\n    <tr>\n      <th>248</th>\n      <td>248</td>\n      <td>CarX Drift Racing Online</td>\n      <td>1948</td>\n    </tr>\n    <tr>\n      <th>249</th>\n      <td>249</td>\n      <td>Subnautica</td>\n      <td>1932</td>\n    </tr>\n  </tbody>\n</table>\n<p>250 rows × 3 columns</p>\n</div>"
     },
     "execution_count": 753,
     "metadata": {},
     "output_type": "execute_result"
    }
   ],
   "source": [
    "players = df['players']\n",
    "players_replace = []\n",
    "for num in players:\n",
    "    res = num.replace(',','')\n",
    "    res = int(res[0:])\n",
    "    players_replace.append(res)\n",
    "df['players'] = players_replace\n",
    "df"
   ]
  },
  {
   "cell_type": "code",
   "execution_count": 754,
   "metadata": {
    "collapsed": false
   },
   "outputs": [
    {
     "name": "stdout",
     "output_type": "stream",
     "text": [
      "22\n",
      "15                                    EA SPORTS™ FIFA 23\n",
      "18                                                  MIR4\n",
      "42                                 Yu-Gi-Oh! Master Duel\n",
      "44                                          SUPER PEOPLE\n",
      "65                                               Brotato\n",
      "78                                  Torchlight: Infinite\n",
      "84                                             Marauders\n",
      "95                                           Shatterline\n",
      "105                                        Terra Invicta\n",
      "108    Pathfinder: Wrath of the Righteous - Enhanced ...\n",
      "113                                     GUNDAM EVOLUTION\n",
      "114                                      eFootball™ 2023\n",
      "123                                         Coral Island\n",
      "134                                        Idle Skilling\n",
      "150                                       Omega Strikers\n",
      "168                               Construction Simulator\n",
      "183                                          Dome Keeper\n",
      "198                         Farmer Against Potatoes Idle\n",
      "203                                           ヘブンバーンズレッド\n",
      "223                                      Slime Rancher 2\n",
      "240                                           Lost Light\n",
      "246                              Incremental Epic Hero 2\n",
      "Name: Name, dtype: object\n"
     ]
    }
   ],
   "source": [
    "miss_count = 0\n",
    "miss_index = []\n",
    "hit_index = []\n",
    "rate_list = []\n",
    "tags_list = []\n",
    "owner_list = []\n",
    "year_list = []\n",
    "for i in range(len(df['Name'])):\n",
    "    find_flag = 1\n",
    "    target_name = df['Name'][i]\n",
    "    res = raw_source[raw_source.name == target_name].index.tolist()\n",
    "    if res == []:\n",
    "        find_flag = 0\n",
    "    else:\n",
    "        hit_index.append(res[0])\n",
    "    if find_flag == 0:\n",
    "        miss_count += 1\n",
    "        hit_index.append(0)\n",
    "        miss_index.append(i)\n",
    "    else:\n",
    "        continue\n",
    "print(miss_count)\n",
    "miss = df['Name'][miss_index]\n",
    "print(miss)"
   ]
  },
  {
   "cell_type": "code",
   "execution_count": 755,
   "metadata": {
    "collapsed": false
   },
   "outputs": [
    {
     "data": {
      "text/plain": "     Unnamed: 0                              Name  players      rate  \\\n0             0  Counter-Strike: Global Offensive   586446  0.882848   \n1             1                            Dota 2   413327  0.829342   \n2             2               PUBG: BATTLEGROUNDS   184883  0.565037   \n3             3                     Apex Legends™   170289  0.858303   \n4             4                          Lost Ark   127457  0.738609   \n..          ...                               ...      ...       ...   \n245         245                         ASTRONEER     1970  0.914825   \n246         246           Incremental Epic Hero 2     1960  0.829342   \n247         247            Batman™: Arkham Knight     1955  0.840942   \n248         248          CarX Drift Racing Online     1948  0.953353   \n249         249                        Subnautica     1932  0.964148   \n\n        owners  year                                               tags  \n0     75000000  2012  [FPS, Shooter, Multiplayer, Competitive, Actio...  \n1    350000000  2013  [Free to Play, MOBA, Multiplayer, Strategy, e-...  \n2     75000000  2017  [Survival, Shooter, Multiplayer, Battle Royale...  \n3     75000000  2020  [Free to Play, Multiplayer, Battle Royale, Sho...  \n4     35000000  2022  [MMORPG, Free to Play, Action RPG, RPG, Multip...  \n..         ...   ...                                                ...  \n245    3500000  2019  [Multiplayer, Open World, Open World Survival ...  \n246  350000000  2013  [Free to Play, MOBA, Multiplayer, Strategy, e-...  \n247    3500000  2015  [Action, Open World, Superhero, Stealth, Adven...  \n248    1500000  2017  [Racing, Driving, Simulation, Automobile Sim, ...  \n249    3500000  2018  [Open World Survival Craft, Survival, Open Wor...  \n\n[250 rows x 7 columns]",
      "text/html": "<div>\n<style scoped>\n    .dataframe tbody tr th:only-of-type {\n        vertical-align: middle;\n    }\n\n    .dataframe tbody tr th {\n        vertical-align: top;\n    }\n\n    .dataframe thead th {\n        text-align: right;\n    }\n</style>\n<table border=\"1\" class=\"dataframe\">\n  <thead>\n    <tr style=\"text-align: right;\">\n      <th></th>\n      <th>Unnamed: 0</th>\n      <th>Name</th>\n      <th>players</th>\n      <th>rate</th>\n      <th>owners</th>\n      <th>year</th>\n      <th>tags</th>\n    </tr>\n  </thead>\n  <tbody>\n    <tr>\n      <th>0</th>\n      <td>0</td>\n      <td>Counter-Strike: Global Offensive</td>\n      <td>586446</td>\n      <td>0.882848</td>\n      <td>75000000</td>\n      <td>2012</td>\n      <td>[FPS, Shooter, Multiplayer, Competitive, Actio...</td>\n    </tr>\n    <tr>\n      <th>1</th>\n      <td>1</td>\n      <td>Dota 2</td>\n      <td>413327</td>\n      <td>0.829342</td>\n      <td>350000000</td>\n      <td>2013</td>\n      <td>[Free to Play, MOBA, Multiplayer, Strategy, e-...</td>\n    </tr>\n    <tr>\n      <th>2</th>\n      <td>2</td>\n      <td>PUBG: BATTLEGROUNDS</td>\n      <td>184883</td>\n      <td>0.565037</td>\n      <td>75000000</td>\n      <td>2017</td>\n      <td>[Survival, Shooter, Multiplayer, Battle Royale...</td>\n    </tr>\n    <tr>\n      <th>3</th>\n      <td>3</td>\n      <td>Apex Legends™</td>\n      <td>170289</td>\n      <td>0.858303</td>\n      <td>75000000</td>\n      <td>2020</td>\n      <td>[Free to Play, Multiplayer, Battle Royale, Sho...</td>\n    </tr>\n    <tr>\n      <th>4</th>\n      <td>4</td>\n      <td>Lost Ark</td>\n      <td>127457</td>\n      <td>0.738609</td>\n      <td>35000000</td>\n      <td>2022</td>\n      <td>[MMORPG, Free to Play, Action RPG, RPG, Multip...</td>\n    </tr>\n    <tr>\n      <th>...</th>\n      <td>...</td>\n      <td>...</td>\n      <td>...</td>\n      <td>...</td>\n      <td>...</td>\n      <td>...</td>\n      <td>...</td>\n    </tr>\n    <tr>\n      <th>245</th>\n      <td>245</td>\n      <td>ASTRONEER</td>\n      <td>1970</td>\n      <td>0.914825</td>\n      <td>3500000</td>\n      <td>2019</td>\n      <td>[Multiplayer, Open World, Open World Survival ...</td>\n    </tr>\n    <tr>\n      <th>246</th>\n      <td>246</td>\n      <td>Incremental Epic Hero 2</td>\n      <td>1960</td>\n      <td>0.829342</td>\n      <td>350000000</td>\n      <td>2013</td>\n      <td>[Free to Play, MOBA, Multiplayer, Strategy, e-...</td>\n    </tr>\n    <tr>\n      <th>247</th>\n      <td>247</td>\n      <td>Batman™: Arkham Knight</td>\n      <td>1955</td>\n      <td>0.840942</td>\n      <td>3500000</td>\n      <td>2015</td>\n      <td>[Action, Open World, Superhero, Stealth, Adven...</td>\n    </tr>\n    <tr>\n      <th>248</th>\n      <td>248</td>\n      <td>CarX Drift Racing Online</td>\n      <td>1948</td>\n      <td>0.953353</td>\n      <td>1500000</td>\n      <td>2017</td>\n      <td>[Racing, Driving, Simulation, Automobile Sim, ...</td>\n    </tr>\n    <tr>\n      <th>249</th>\n      <td>249</td>\n      <td>Subnautica</td>\n      <td>1932</td>\n      <td>0.964148</td>\n      <td>3500000</td>\n      <td>2018</td>\n      <td>[Open World Survival Craft, Survival, Open Wor...</td>\n    </tr>\n  </tbody>\n</table>\n<p>250 rows × 7 columns</p>\n</div>"
     },
     "execution_count": 755,
     "metadata": {},
     "output_type": "execute_result"
    }
   ],
   "source": [
    "for i in hit_index:\n",
    "    rate_list.append(raw_source['rate'][i])\n",
    "    owner_list.append(raw_source['owners'][i])\n",
    "    year_list.append(raw_source['release_date'][i])\n",
    "    tags_list.append(raw_source['tags'][i])\n",
    "df['rate'] = rate_list\n",
    "df['owners'] = owner_list\n",
    "df['year'] = year_list\n",
    "df['tags'] = tags_list\n",
    "df"
   ]
  },
  {
   "cell_type": "code",
   "execution_count": 756,
   "metadata": {
    "collapsed": false
   },
   "outputs": [
    {
     "data": {
      "text/plain": "list"
     },
     "execution_count": 756,
     "metadata": {},
     "output_type": "execute_result"
    }
   ],
   "source": [
    "type(df['tags'][0])"
   ]
  },
  {
   "cell_type": "code",
   "execution_count": 757,
   "metadata": {
    "collapsed": false
   },
   "outputs": [
    {
     "name": "stdout",
     "output_type": "stream",
     "text": [
      "['FPS', 'Shooter', 'Multiplayer', 'Competitive', 'Action', 'Team-Based', 'e-sports', 'Tactical', 'First-Person', 'PvP', 'Online Co-Op', 'Co-op', 'Strategy', 'Military', 'War', 'Difficult', 'Trading', 'Realistic', 'Fast-Paced', 'Free to Play', 'MOBA', 'RTS', 'Tower Defense', 'Fantasy', 'RPG', 'Character Customization', 'Replay Value', 'Action RPG', 'Survival', 'Battle Royale', 'Third-Person Shooter', 'Early Access', 'Third Person', 'Simulation', 'Hero Shooter', 'Sci-fi', 'Loot', 'Funny', 'Lore-Rich', 'Cyberpunk', 'MMORPG', 'Hack and Slash', 'Massively Multiplayer', 'Adventure', 'PvE', 'Isometric', 'Sexual Content', 'Class-Based', 'Violent', 'Gore', 'Cartoony', 'Comedy', 'Robots', 'Cartoon', 'Open World', 'Crime', 'Automobile Sim', 'Mature', 'Singleplayer', 'Racing', 'Atmospheric', 'Sandbox', 'Great Soundtrack', 'Crafting', 'Open World Survival Craft', 'Building', 'Nudity', 'Indie', 'Post-apocalyptic', '2D', 'Pixel Graphics', 'Exploration', 'Platformer', 'Futuristic', 'Story Rich', 'Looter Shooter', 'Space', 'Zombies', 'Casual', 'Martial Arts', 'Parkour', 'Swordplay', 'Female Protagonist', 'Fighting', 'Anime', 'Dinosaurs', 'Base-Building', 'Dragons', 'Driving', 'Combat Racing', 'Arcade', 'Sports', 'Split Screen', 'Destruction', 'Ninja', 'Vehicular Combat', 'Combat', 'VR', 'World War II', 'Flight', 'Naval Combat', 'Modern', 'Tanks', 'Cold War', 'Historical', 'Management', 'Soccer', 'Real Time Tactics', 'Football', '3D', 'Turn-Based Strategy', 'Turn-Based', 'Grand Strategy', '4X', 'City Builder', 'Moddable', 'Hex Grid', 'Heist', 'Stealth', 'Gun Customization', 'Horror', 'Survival Horror', 'Blood', 'Psychological Horror', 'Alternate History', 'Real-Time with Pause', 'Diplomacy', 'Walking Simulator', 'Physics', 'Dark Fantasy', 'Colorful', 'Games Workshop', 'Souls-like', 'Relaxing', 'Farming Sim', 'Life Sim', 'Agriculture', 'Cute', 'Dating Sim', 'JRPG', 'Magic', 'Mod', 'Animation & Modeling', 'Controller', 'Local Multiplayer', 'Local Co-Op', 'Family Friendly', 'Immersive Sim', 'Voxel', 'Procedural Generation', 'Hunting', 'Nature', 'Memes', 'Hentai', 'NSFW', 'Transportation', 'Economy', 'Colony Sim', 'Tactical RPG', 'Western', 'Supernatural', 'Investigation', 'Dark', 'Mystery', 'Demons', 'Detective', 'Thriller', 'Classic', 'Remake', 'America', 'Political', 'Nonlinear', 'Resource Management', 'Education', '3D Platformer', 'Cooking', 'Medieval', 'Horses', 'Addictive', 'Automation', 'Beautiful', 'Choices Matter', 'Choose Your Own Adventure', 'Rogue-lite', 'Dungeon Crawler', 'Inventory Management', 'Mythology', 'Rogue-like', 'Strategy RPG', 'Real-Time', 'Action Roguelike', 'Perma Death', 'Trains', 'Multiple Endings', 'Romance', 'Basketball', '4 Player Local', '2D Fighter', '2D Platformer', 'Dark Comedy', 'Capitalism', 'Assassin', 'Space Sim', 'Clicker', 'Idler', 'Collectathon', 'Touch-Friendly', 'Music', 'Precision Platformer', 'Level Editor', 'Rhythm', 'Side Scroller', 'Social Deduction', 'Psychological', \"1990's\", 'Old School', 'Score Attack', '1980s', 'Pirates', 'Sailing', 'Naval', 'Deckbuilding', 'Gambling', 'Underwater', 'Wargame', 'Roguelike Deckbuilder', 'Card Game', 'Card Battler', 'Mouse only', 'Action RTS', 'CRPG', 'Party-Based RPG', 'Co-op Campaign', '3D Vision', 'TrackIR', 'Bullet Hell', 'Vampire', 'Retro', 'Dungeons & Dragons', 'Cinematic', 'Top-Down', 'Top-Down Shooter', 'Soundtrack', 'Party Game', 'Minigames', 'Aliens', 'Surreal', 'Short', 'Epic', 'Fishing', 'Submarine', 'Mining', 'Minimalist', 'Point & Click', '3D Fighter', \"Beat 'em up\", 'Rome', 'Turn-Based Tactics', 'Trading Card Game', 'World War I', 'Hand-drawn', 'Action-Adventure', 'Time Management', 'Time Manipulation', 'Superhero', 'Comic Book', 'Metroidvania', 'Illuminati', 'Tabletop', 'Board Game', 'Sniper', 'Puzzle', 'Puzzle-Platformer', 'Cult Classic', 'Spaceships', 'Political Sim', 'Politics', 'Quick-Time Events', 'Steampunk', 'Emotional', 'Science', 'Motorbike', 'Archery', 'Kickstarter', 'Turn-Based Combat', 'Lovecraftian', 'Gothic', 'Dark Humor', 'Mechs', 'LGBTQ+', 'Twin Stick Shooter', 'Snow', 'ATV', '2.5D', 'Vikings', 'Dynamic Narration', 'Narration', 'Creature Collector', 'Design & Illustration', 'Experimental', 'Auto Battler', 'Chess', 'Roguevania', 'Programming', 'Tutorial']\n"
     ]
    }
   ],
   "source": [
    "final_tag_list = []\n",
    "for tags_list in df['tags']:\n",
    "    for tag in tags_list:\n",
    "        if tag not in final_tag_list:\n",
    "            final_tag_list.append(tag)\n",
    "print(final_tag_list)"
   ]
  },
  {
   "cell_type": "code",
   "execution_count": 758,
   "outputs": [
    {
     "name": "stdout",
     "output_type": "stream",
     "text": [
      "[5.35545756376406, 5.418553502731676, 6.5003795753071945, 5.374041497826878, 6.433838276369194, 5.556163165977983, 5.0652159335816735, 5.109838363424962, 5.6378790993018875, 5.8581428735765275, 5.924944222222149, 6.201421815393432, 5.705669934717802, 4.4649998111260905, 4.595140296840593, 5.30012409137185, 4.338360385227959, 4.649691632978929, 4.151962603547937, 5.1437372412179245, 4.217587430901374, 4.396589881561924, 4.247249009329783, 4.817144481129414, 5.221843128910175, 5.216334456956408, 4.522132478059338, 4.757540198654414, 4.806554397659129, 3.8642785605898378, 3.75289841572048, 4.179187608216859, 4.472244959328093, 4.721907693660251, 3.527584712609894, 4.043806357731643, 3.450529505887902, 4.172425617409764, 3.493867282075126, 3.2893705188487465, 3.647995834599944, 3.353114347523903, 4.404149542805449, 5.112695354214488, 3.762493720282519, 3.142011105928216, 3.4711824859536375, 3.3546020710765823, 3.851453589510234, 3.595011180079967, 2.9548036806314397, 3.512008032446749, 2.711690354948945, 2.7107495339393752, 5.046532381667264, 2.790826002749083, 2.9691763448750166, 3.302972717813339, 5.246645257944188, 3.085752673874563, 4.429201229185466, 4.661685726440676, 4.208301266205092, 3.989129596222892, 3.832926293354648, 3.9682569496271163, 3.428680447015801, 4.084811193346957, 3.424657324964912, 3.589088544875982, 2.90280355010573, 3.858399002296101, 2.635636904673465, 2.648420019325498, 3.544087094268496, 2.9839597765174894, 3.137864266882395, 3.098029406425687, 3.670145309437514, 2.393333458112837, 2.785508790386985, 2.4128788195532533, 2.753947540089172, 2.4915573289876254, 2.970483917221715, 2.29195260312927, 3.3125881388748573, 2.5329123435879564, 2.7381623267385446, 2.142044543185089, 2.608019263149226, 2.985957263663103, 2.1808608181998106, 2.690383383518362, 2.2051565229851002, 2.2181783135186874, 2.737059586100876, 2.6732289110976852, 2.7575492476767534, 2.203148755714112, 2.1725097754721503, 2.472427188802173, 2.380955799706922, 2.077014413387875, 3.3967220589048126, 3.4592621889629944, 2.305178914642888, 2.535860988427079, 2.305178914642888, 3.264375661581673, 2.709889393993327, 2.646176418629159, 3.059877796507512, 2.3853426170517644, 2.8497083000272867, 3.591969914429487, 2.2228933625656278, 2.02801521940749, 2.755281161113818, 2.106954364607347, 3.28377900184776, 2.914082784168661, 2.237888149250283, 2.5360755918215805, 2.290206383936773, 2.6589883852341765, 2.5039108137475483, 2.1397260753908918, 2.932387300116252, 2.6986513802934495, 2.6534055583699514, 2.071791186556128, 2.4598763493855267, 2.7241853624636354, 2.217318836371701, 2.1204162404014695, 2.2117250532438804, 2.63739660236585, 2.267701528759998, 2.3960914461627376, 2.6980915099242506, 2.092493046493735, 1.8065824602651905, 2.7443518944399186, 2.450416280771875, 2.6276192011218424, 3.0245759874084794, 2.773880595465548, 1.8262710933278639, 2.6377372219053727, 2.0216611724365356, 2.191971086870773, 2.1543385110836284, 1.7538169401543218, 1.8071122281499183, 1.9050064205468733, 2.8239584584615995, 2.1038738375005575, 1.9409004021323095, 2.2086453743873604, 1.7248371008714143, 1.7248371008714143, 2.4397787757408036, 1.7248371008714143, 1.827603547770035, 1.7706055064136454, 1.7248371008714143, 2.46800709505082, 2.177115343895171, 1.9358889276734608, 2.015139722413657, 1.676645030820215, 2.8500485292124824, 1.7954560739136467, 1.818110468811619, 1.8779656233074509, 2.8258437526809486, 2.053299977296683, 1.9514143222547558, 2.160401186289502, 2.153938346026812, 2.285184578028384, 1.7739736981904881, 2.5584313595816726, 2.279127044095538, 1.6097014461702834, 2.216159825589016, 2.3716028288429327, 1.7703126898305743, 1.9962865454876433, 2.220008532954223, 1.855033170656714, 1.680977619564139, 1.7750698281840285, 1.7148114107508179, 1.739199253642643, 2.0154604306701787, 1.679396414146368, 1.6896732292703611, 1.5025122003185172, 1.6713422878861013, 1.9017980001918766, 1.8616167243055135, 1.946771903305716, 2.0569578297546602, 1.6304548344384608, 1.7081289697303021, 1.4488911597380998, 1.4488911597380998, 1.618883048878989, 1.4488911597380998, 1.6271571709502266, 1.6164617304751707, 1.6164617304751707, 1.5382181117020757, 1.617289745244013, 1.7293018563894522, 1.5382181117020757, 1.4096840419781433, 1.4920857325460386, 1.8270914102455333, 1.9104076837625343, 1.4053807080030676, 1.6366202106462002, 1.6893621987501872, 1.466129200786891, 1.8445665087924112, 1.5963191043991896, 1.3656279424896904, 1.3392013823419107, 1.3360677487127226, 1.4834694848768901, 1.660855679766795, 1.3318020515923832, 1.5446685204997286, 1.4414364904183656, 1.4524533792896417, 1.3296271540045368, 1.3127714172548886, 1.607900278030146, 1.823350004723163, 1.2899733523242127, 1.282631814108975, 1.278105788582243, 1.278105788582243, 1.691019047325845, 1.2633021528488133, 1.2633021528488133, 1.419836788837599, 1.6398612275083737, 1.2483447149393554, 1.3599979963827085, 1.2322285917679852, 1.581834072477548, 1.2298163871999013, 1.485303951882782, 1.22324520880465, 1.753747421027553, 1.5589843040757985, 1.210903724439527, 1.658230158693981, 1.6722785919847252, 1.1824606316537376, 1.1824606316537376, 1.4514733157226996, 1.4514733157226996, 1.3013520086438273, 1.4582521973107423, 1.3062587079392753, 1.4107092187884833, 1.1616558569927393, 1.6113472221355407, 1.4293056302299387, 1.1504097012826635, 1.1185702591041375, 1.1135347667512336, 1.1135347667512336, 1.10091920779413, 1.0995113198281543, 1.4038019048248223, 1.2743775644961628, 1.0851254978430818, 1.082474400045822, 1.2403651755007354, 1.375580211159993, 1.0707550901258953, 1.0707550901258953, 1.0676872854479118, 1.0661434139320214, 1.0473974775464723, 1.044776779420418, 1.041140801925436, 1.041140801925436, 1.0408083637578136, 1.0366818523588777, 1.0334127665108952, 1.0334127665108952, 1.0295401056486864, 1.0235313097252317, 1.0153910150787038, 1.0120311311049426, 1.0120311311049426, 1.003729088938093, 1.001869749515493, 1.001869749515493]\n"
     ]
    }
   ],
   "source": [
    "final_score_list = [0 for i in range(len(final_tag_list))]\n",
    "for index, row in df.iterrows():\n",
    "    score = row['players'] /2000\n",
    "    tags = row['tags']\n",
    "    for tag in tags:\n",
    "        for i in range(len(final_tag_list)):\n",
    "            if tag == final_tag_list[i]:\n",
    "                final_score_list[i] += score\n",
    "for i in range(len(final_score_list)):\n",
    "    final_score_list[i] = math.sqrt(math.sqrt(final_score_list[i]))\n",
    "print(final_score_list)"
   ],
   "metadata": {
    "collapsed": false
   }
  },
  {
   "cell_type": "code",
   "execution_count": 759,
   "metadata": {},
   "outputs": [],
   "source": [
    "'''\n",
    "dictionary\n",
    "key: year\n",
    "val: dictionary mapping tag to number\n",
    "'''\n",
    "year_tag_dict = {}\n",
    "for index, row in raw_source.iterrows():\n",
    "    year = row[\"release_date\"]\n",
    "    tags = row[\"tags\"]\n",
    "    if year in year_tag_dict:\n",
    "        tag_count_dict = year_tag_dict[year]\n",
    "        for tag in tags:\n",
    "            if tag in tag_count_dict:\n",
    "                tag_count_dict[tag] += 1\n",
    "            else:\n",
    "                tag_count_dict[tag] = 1\n",
    "    else:\n",
    "        year_tag_dict[year] = {}\n",
    "        for tag in tags:\n",
    "            year_tag_dict[year][tag] = 1"
   ]
  },
  {
   "cell_type": "code",
   "execution_count": 760,
   "metadata": {},
   "outputs": [],
   "source": [
    "tag_name = []\n",
    "for idx, row in raw_source.iterrows():\n",
    "    tags = row[\"tags\"]\n",
    "    for tag in tags:\n",
    "        if tag not in tag_name:\n",
    "            tag_name.append(tag)"
   ]
  },
  {
   "cell_type": "code",
   "execution_count": 761,
   "outputs": [
    {
     "data": {
      "text/plain": "['Free to Play',\n 'MOBA',\n 'Multiplayer',\n 'Strategy',\n 'e-sports',\n 'Team-Based',\n 'Competitive',\n 'Action',\n 'Online Co-Op',\n 'PvP',\n 'Difficult',\n 'Co-op',\n 'RTS',\n 'Tower Defense',\n 'Fantasy',\n 'RPG',\n 'Character Customization',\n 'Replay Value',\n 'Action RPG',\n 'FPS',\n 'Shooter',\n 'Tactical',\n 'First-Person',\n 'Military',\n 'War',\n 'Trading',\n 'Realistic',\n 'Fast-Paced',\n 'Survival',\n 'Battle Royale',\n 'Third-Person Shooter',\n 'Early Access',\n 'Third Person',\n 'Simulation',\n 'Massively Multiplayer',\n 'Open World',\n 'MMORPG',\n 'Adventure',\n 'PvE',\n 'Walking Simulator',\n 'Crafting',\n 'Open World Survival Craft',\n 'Sandbox',\n 'Violent',\n 'Sexual Content',\n 'Hero Shooter',\n 'Class-Based',\n 'Funny',\n 'Cartoony',\n 'Comedy',\n 'Robots',\n 'Cartoon',\n 'Sci-fi',\n 'Loot',\n 'Lore-Rich',\n 'Cyberpunk',\n 'Zombies',\n 'Post-apocalyptic',\n 'Singleplayer',\n 'Indie',\n 'Casual',\n 'Crime',\n 'Automobile Sim',\n 'Mature',\n 'Racing',\n 'Atmospheric',\n 'Great Soundtrack',\n 'Horror',\n 'Gore',\n 'Moddable',\n 'Survival Horror',\n 'Local Co-Op',\n 'Looter Shooter',\n 'Space',\n 'Parkour',\n 'Ninja',\n 'Building',\n 'Nudity',\n 'Hack and Slash',\n 'Isometric',\n '2D',\n 'Pixel Graphics',\n 'Exploration',\n 'Platformer',\n 'Mod',\n 'Physics',\n 'Animation & Modeling',\n 'Fighting',\n '2D Fighter',\n '2D Platformer',\n 'Local Multiplayer',\n 'Family Friendly',\n 'Controller',\n '4 Player Local',\n 'Vehicular Combat',\n 'Combat',\n 'VR',\n 'World War II',\n 'Flight',\n 'Naval Combat',\n 'Modern',\n 'Tanks',\n 'Cold War',\n 'Historical',\n 'Destruction',\n 'Souls-like',\n 'Relaxing',\n 'Dark Fantasy',\n '3D',\n 'Social Deduction',\n 'Psychological',\n 'Party Game',\n 'Minigames',\n 'Colorful',\n 'Aliens',\n 'Short',\n 'Dystopian ',\n 'Classic',\n 'Benchmark',\n 'Futuristic',\n 'Silent Protagonist',\n 'Story Rich',\n 'Dungeon Crawler',\n 'Inventory Management',\n 'Base-Building',\n 'Mythology',\n 'Heist',\n 'Stealth',\n 'Gun Customization',\n 'Utilities',\n 'Software',\n 'Anime',\n 'Design & Illustration',\n 'Memes',\n 'Cute',\n 'NSFW',\n 'Photo Editing',\n 'Game Development',\n '3D Platformer',\n 'Cinematic',\n 'Tactical RPG',\n 'Management',\n 'Choose Your Own Adventure',\n 'Dating Sim',\n 'Hand-drawn',\n 'Action-Adventure',\n \"1990's\",\n 'Old School',\n 'Score Attack',\n '1980s',\n 'Assassin',\n 'Point & Click',\n 'Psychological Horror',\n 'Dark',\n 'Mystery',\n 'Puzzle',\n 'Hidden Object',\n 'Romance',\n 'Dark Humor',\n 'Choices Matter',\n 'Medieval',\n 'Multiple Endings',\n 'Magic',\n 'Blood',\n 'Dinosaurs',\n 'Dragons',\n 'Hentai',\n 'Farming Sim',\n 'Life Sim',\n 'Agriculture',\n 'Driving',\n 'Transportation',\n 'Immersive Sim',\n 'Economy',\n 'Soccer',\n 'Sports',\n 'Football',\n 'Split Screen',\n 'Arena Shooter',\n 'Puzzle-Platformer',\n 'Female Protagonist',\n 'Level Editor',\n 'Science',\n 'Naval',\n 'Supernatural',\n 'Investigation',\n 'Demons',\n 'Detective',\n 'Thriller',\n 'Rogue-lite',\n 'JRPG',\n 'Voxel',\n 'Arcade',\n 'Horses',\n 'Retro',\n 'Turn-Based Strategy',\n 'Turn-Based',\n '4X',\n 'Addictive',\n 'Hex Grid',\n 'Grand Strategy',\n 'Diplomacy',\n 'Underwater',\n 'Episodic',\n 'Drama',\n 'LGBTQ+',\n 'Metroidvania',\n \"Beat 'em up\",\n 'Wrestling',\n 'Side Scroller',\n 'Steampunk',\n 'Surreal',\n 'Stylized',\n 'Logic',\n 'Basketball',\n 'Capitalism',\n 'Noir',\n 'Card Battler',\n 'Auto Battler',\n 'Card Game',\n 'Deckbuilding',\n 'Procedural Generation',\n 'Space Sim',\n 'Turn-Based Tactics',\n 'Chess',\n 'Board Game',\n 'Automation',\n 'Conspiracy',\n 'Cult Classic',\n 'City Builder',\n 'Resource Management',\n 'Real-Time with Pause',\n 'Quick-Time Events',\n 'Reboot',\n 'Martial Arts',\n 'Swordplay',\n 'Narration',\n 'Action Roguelike',\n 'Rogue-like',\n 'Soundtrack',\n 'Kickstarter',\n 'Remake',\n 'Western',\n 'Beautiful',\n 'Linear',\n 'Gaming',\n 'Character Action Game',\n 'Clicker',\n 'Touch-Friendly',\n 'Idler',\n 'Cooking',\n 'Epic',\n 'Hunting',\n 'World War I',\n 'Time Travel',\n 'Time Manipulation',\n 'Real-Time',\n 'Games Workshop',\n 'Real Time Tactics',\n 'Trains',\n 'Dungeons & Dragons',\n 'Pirates',\n 'Sailing',\n 'Perma Death',\n 'Cats',\n 'Alternate History',\n 'Twin Stick Shooter',\n 'Top-Down Shooter',\n 'Villain Protagonist',\n 'Top-Down',\n 'Dark Comedy',\n 'CRPG',\n 'Party-Based RPG',\n 'Strategy RPG',\n 'Co-op Campaign',\n 'Colony Sim',\n 'Illuminati',\n 'Based On A Novel',\n 'Hacking',\n 'Nature',\n 'Video Production',\n 'GameMaker',\n '3D Vision',\n 'Tabletop',\n 'Superhero',\n 'Parody ',\n 'Political',\n 'Nonlinear',\n 'Education',\n 'Satire',\n '2.5D',\n 'Well-Written',\n 'Bullet Hell',\n \"Shoot 'Em Up\",\n 'Vampire',\n 'Emotional',\n 'Spectacle fighter',\n 'Roguevania',\n 'Warhammer 40K',\n 'Lovecraftian',\n 'Gothic',\n 'Roguelike Deckbuilder',\n 'Mouse only',\n 'Trading Card Game',\n 'Wargame',\n 'Comic Book',\n 'Turn-Based Combat',\n 'Music',\n 'Precision Platformer',\n 'Rhythm',\n 'Minimalist',\n 'Immersive',\n 'Vikings',\n 'TrackIR',\n 'America',\n 'Fishing',\n 'Experimental',\n 'Political Sim',\n 'Politics',\n 'Combat Racing',\n 'Visual Novel',\n 'Sniper',\n 'Music-Based Procedural Generation',\n 'Rome',\n 'Mechs',\n 'Unforgiving',\n 'Philosophical',\n 'Spaceships',\n 'Time Attack',\n '3D Fighter',\n 'Psychedelic',\n 'Mystery Dungeon',\n 'Grid-Based Movement',\n 'Nostalgia',\n 'Dynamic Narration',\n 'Match 3',\n 'Outbreak Sim',\n 'Action RTS',\n 'Mini Golf',\n 'Golf',\n 'Collectathon',\n 'Tutorial',\n 'Offroad',\n 'Bullet Time',\n 'Ambient',\n 'LEGO',\n 'God Game',\n 'Crowdfunded',\n 'Transhumanism',\n 'Mars',\n 'Movie',\n 'Motorbike',\n 'Intentionally Awkward Controls',\n 'Medical Sim',\n 'Party',\n 'Creature Collector',\n 'Interactive Fiction',\n 'Text-Based',\n 'RPGMaker',\n 'Submarine',\n 'Jump Scare',\n 'FMV',\n 'Typing',\n 'Programming',\n 'Word Game',\n 'Time Management',\n 'Abstract',\n 'Hardware',\n 'Runner',\n 'Artificial Intelligence',\n 'Archery',\n 'Conversation',\n 'Audio Production',\n 'Escape Room',\n 'Musou',\n 'Werewolves',\n '6DOF',\n 'Snowboarding',\n 'Skiing',\n 'Snow',\n 'Gambling',\n 'Dog',\n 'Faith',\n 'Asymmetric VR',\n 'Jet',\n 'Asynchronous Multiplayer',\n 'Boss Rush',\n 'Software Training',\n 'Mining',\n 'Spelling',\n 'Skating',\n 'Boxing',\n 'Traditional Roguelike',\n 'Underground',\n 'Pinball',\n 'Voice Control',\n 'Foreign',\n 'Web Publishing',\n 'Narrative',\n 'Farming',\n 'Rock Music',\n 'Skateboarding',\n 'Sokoban',\n 'Cozy',\n 'Sequel',\n 'Wholesome',\n 'On-Rails Shooter',\n 'Pool',\n 'Bowling',\n 'Experience',\n 'Snooker',\n 'Hockey',\n 'Tennis',\n 'Trivia',\n '360 Video',\n 'Cycling',\n 'Bikes',\n 'BMX',\n 'Electronic Music',\n 'Tile-Matching',\n 'Motocross',\n 'Otome',\n 'ATV',\n 'Lemmings',\n 'Solitaire',\n 'Documentary',\n 'Feature Film',\n 'Mahjong',\n 'Baseball',\n 'Shop Keeper',\n 'Electronic',\n 'Job Simulator',\n 'Steam Machine',\n 'Cricket',\n 'Instrumental Music',\n '8-bit Music',\n 'Volleyball',\n 'Rugby',\n 'Masterpiece']"
     },
     "execution_count": 761,
     "metadata": {},
     "output_type": "execute_result"
    }
   ],
   "source": [
    "tag_name"
   ],
   "metadata": {
    "collapsed": false
   }
  },
  {
   "cell_type": "code",
   "execution_count": 762,
   "metadata": {},
   "outputs": [],
   "source": [
    "years = list(year_tag_dict.keys())\n",
    "years.sort()"
   ]
  },
  {
   "cell_type": "code",
   "execution_count": 763,
   "outputs": [
    {
     "data": {
      "text/plain": "[1997,\n 1998,\n 1999,\n 2000,\n 2001,\n 2002,\n 2003,\n 2004,\n 2005,\n 2006,\n 2007,\n 2008,\n 2009,\n 2010,\n 2011,\n 2012,\n 2013,\n 2014,\n 2015,\n 2016,\n 2017,\n 2018,\n 2019,\n 2020,\n 2021,\n 2022]"
     },
     "execution_count": 763,
     "metadata": {},
     "output_type": "execute_result"
    }
   ],
   "source": [
    "years"
   ],
   "metadata": {
    "collapsed": false
   }
  },
  {
   "cell_type": "code",
   "execution_count": 764,
   "metadata": {},
   "outputs": [],
   "source": [
    "rating = [[0 for i in range(len(tag_name))] for j in range(len(years))]\n",
    "owners = [[0 for i in range(len(tag_name))] for j in range(len(years))]\n",
    "for idx, row in raw_source.iterrows():\n",
    "    year = row[\"release_date\"]\n",
    "    tags = row[\"tags\"]\n",
    "    rate = row[\"rate\"]\n",
    "    if math.isnan(rate):\n",
    "        continue\n",
    "    sales = row[\"owners\"]\n",
    "    idx1 = years.index(year)\n",
    "    for tag in tags:\n",
    "        idx2 = tag_name.index(tag)\n",
    "        rating[idx1][idx2] += sales * rate\n",
    "        owners[idx1][idx2] += sales"
   ]
  },
  {
   "cell_type": "code",
   "execution_count": 765,
   "outputs": [],
   "source": [
    "for i in range(len(years)):\n",
    "    for j in range(len(tag_name)):\n",
    "        if owners[i][j] != 0:\n",
    "            rating [i][j] = rating[i][j] / owners[i][j]"
   ],
   "metadata": {
    "collapsed": false
   }
  },
  {
   "cell_type": "code",
   "execution_count": 766,
   "outputs": [],
   "source": [
    "tag_count_list = []\n",
    "for i in range(len(years)):\n",
    "    tag_count = 0\n",
    "    for j in range(len(tag_name)):\n",
    "        try:\n",
    "            tag_count += year_tag_dict[years[i]][tag_name[j]]\n",
    "        except:\n",
    "            tag_count += 0\n",
    "    tag_count_list.append(tag_count)"
   ],
   "metadata": {
    "collapsed": false
   }
  },
  {
   "cell_type": "code",
   "execution_count": 767,
   "outputs": [],
   "source": [
    "share = [[0 for i in range(len(tag_name))] for j in range(len(years))]\n",
    "for i in range(len(years)):\n",
    "    for j in range(len(tag_name)):\n",
    "        try:\n",
    "            share[i][j] = year_tag_dict[years[i]][tag_name[j]]/tag_count_list[i]\n",
    "        except:\n",
    "            share[i][j] = 0"
   ],
   "metadata": {
    "collapsed": false
   }
  },
  {
   "cell_type": "code",
   "execution_count": 784,
   "outputs": [
    {
     "name": "stdout",
     "output_type": "stream",
     "text": [
      "[1.3871313169801691, 0.33296184671172346, 2.0680641923709873, 1.9678173618464712, 1.4142296847088476, 0.6984419457657798, 1.298963245914434, 2.071212099141617, 2.054661440292848, 1.9358967575681463, 2.725529909794717, 2.3955323387089065, 1.2870628301992115, 1.289110557759665, 2.1195883195250342, 2.0924301187377736, 1.6970261987769009, 2.60505315474999, 2.0700580959181525, 1.3138096935767363, 1.4214013490787347, 1.5968705876281808, 1.6000654601699205, 0.6107109913297826, 1.4296129141570857, 1.1054753283538932, 0.9575890861075442, 2.4552075812934824, 2.0601299171067957, 0.4529865031866631, 0.5326823593014873, 2.097117099451454, 2.6027702411849973, 2.2006938373794096, 1.3049630143179847, 2.701407963247094, 1.3904419528058465, 1.9661800700109444, 1.4769660940897544, 1.4653562785000285, 2.501033760549137, 2.6273149501726945, 2.364160855799964, 2.124429406835856, 1.4603298819085386, 1.6306971501292744, 1.4930717548365025, 2.548251837026736, 2.1715410488836797, 2.5675842868407472, 2.783086447847105, 2.564692655233962, 1.9291658103856812, 1.1787971896316551, 2.0409977347658783, 2.5582548126875713, 1.4791299931844792, 1.203683269936996, 2.4902615099617966, 2.375084927088953, 2.0844549096911424, 1.1457980360256592, 0.8944687211253632, 2.1551974764879955, 1.6313780705865044, 2.4901801841935187, 3.0262663316821348, 1.8876677897766814, 1.6282590196561775, 2.4004404563292803, 1.2548235596987933, 1.9976366395287792, 0.44966099503497947, 1.7002960487339691, 2.304476512101825, 2.5031536467012083, 2.3345261463578773, 1.9014979886485195, 1.646198651744103, 1.4866773137584999, 2.314705999185176, 2.2981305610161726, 2.2044795120452374, 2.833036595486461, 0, 2.485631267796118, 1.048241866795584, 2.619567967553389, 2.5735614970051257, 2.4405563936169594, 2.2110511712066216, 2.378560179025179, 2.4260859969369553, 1.2852019729499564, 2.3219659287932712, 1.8305387515916516, 1.2069264456698647, 0.7917947242822188, 1.7804843387852587, 1.3201105227754006, 1.9722811940593, 1.9430393880724384, 0.881453796660634, 0.8117126421977139, 2.582901175664576, 2.8088387641406154, 2.7908747339811404, 2.557408850069974, 2.396326759791252, 0.49969888451345645, 1.844655765503438, 2.4535327685164834, 3.0983354054477, 2.390229420587043, 2.143586262387865, 2.534241729231992, 2.6977106330235667, 1.802156811984218, 0, 1.6103307246318976, 0, 2.3159602091770415, 1.806226031221121, 1.5352399271827244, 2.50419976285019, 2.5778410845319666, 1.6044842458526476, 1.2329898498279634, 1.203086878184082, 2.8996251199802057, 2.8538790099068123, 2.3640207855797635, 2.5969492025401264, 2.872252664291209, 2.6159291646205176, 1.3990617845782116, 0.11830302996328701, 2.781881778769064, 0.9386176171579896, 1.0701075997243181, 0.8048142442434225, 1.808533669133987, 2.3702076200673194, 2.383957076546647, 2.850240811295781, 1.7109765932986232, 2.1182329744661432, 2.000353290799355, 2.5393609928036023, 2.517548571914844, 0, 2.4312513265837508, 1.8597789894681105, 1.8083054107439689, 2.580135312545264, 2.516612329421497, 2.022667308922257, 2.592567033302424, 1.8458510250403537, 2.3405498174312624, 1.5885395297111393, 2.483690347997908, 1.5011739823468506, 1.7974730471597422, 3.105607202016587, 2.384094909389156, 1.5169398281470137, 2.503633316606498, 1.850890986027196, 2.5085329197328643, 1.6732527349022353, 1.1589787619570158, 2.147333740344629, 1.9151269704322293, 2.833224348122245, 1.615896397694081, 1.722903934746679, 1.6837028153085332, 1.3386179884391014, 2.608534319166486, 2.415844210182488, 2.187507580886703, 2.109573055019658, 0.7153882330265227, 1.9812457587200671, 1.9198651110364495, 0.8801187485251938, 2.2386592841018684, 1.1130646982582226, 2.4822377617908256, 1.9983619183471635, 3.40256633897299, 2.3199898909767014, 1.9419204821719172, 2.1715235395552135, 1.6326033208195512, 2.534071052633741, 1.9002739207452868, 3.0279757175638187, 2.5066785326828347, 0.48090788968143783, 2.262578732888587, 2.767268751808639, 2.21878832474859, 2.4707406390255127, 2.456297496096538, 2.6430216490717617, 2.0006992330252746, 0, 2.5801488240075376, 1.951398867239792, 2.512973901234381, 2.0838181616259, 2.3315247840255013, 0.08838077029602376, 2.1507791066814095, 1.1915952885011039, 2.0501786042383774, 1.752435236544393, 2.1498403347357833, 2.4672630465564205, 2.399359353773518, 1.8800557195969037, 1.6049254262436852, 3.3496901440826674, 2.035426261793006, 2.470237039910672, 2.3417508290252864, 2.9622842382608594, 1.7745748216059487, 1.9183410995265149, 2.1903954473063014, 2.2072540406943775, 0, 1.9835829268356797, 1.5797865442224923, 2.377784766319021, 2.2069091828739653, 2.2973766228019663, 2.139406283549621, 0, 2.8756401406601895, 1.8542959730565467, 3.481336829371029, 2.373862046496036, 0.9999999999999998, 2.251520478021046, 1.8238124371768472, 2.4936295588469495, 1.1384748830833313, 2.674717765118811, 3.2274033190942433, 2.299994092444191, 1.8251678634471569, 2.2218654270010973, 1.0235620186825278, 2.454195406313576, 0.8536437104509986, 0.8045546628937972, 1.1642854324245333, 3.067775409680781, 1.0853078100380464, 0.6219586934577526, 2.250734905492301, 3.555824675358017, 1.8672479490691085, 3.102791183851723, 2.081259221211459, 2.5595770371765205, 2.250041825411062, 2.6496662449288175, 1.8401365154339266, 1.2415791970155343, 0.7783087743020767, 1.1368870116779384, 2.3895345960798817, 2.555787149720933, 3.3220338983050848, 0, 2.3403716304322595, 2.4643509468180502, 0, 1.3010619132536239, 2.191762105797469, 2.8417677317416636, 1.831573924142913, 2.5079029673150757, 1.7436306529098178, 1.9537563409544656, 2.8489234176876623, 1.9057468472971217, 3.57799352750809, 1.5822913163384567, 1.6377625837647047, 2.7001618860535004, 3.0563895404034627, 2.284196945628758, 1.9560629526057394, 1.4625066335680326, 2.0593372878823315, 1.9860809836618976, 2.85686839387, 1.8908311607559858, 2.4749452828049145, 1.927067553991465]\n"
     ]
    }
   ],
   "source": [
    "final_rate_list = []\n",
    "for i in range(len(final_tag_list)):\n",
    "    try:\n",
    "        final_rate_list.append(rating[-1][i])\n",
    "    except:\n",
    "        final_rate_list.append(0)\n",
    "for i in range(len(final_rate_list)):\n",
    "    if final_rate_list[i] == 1:\n",
    "        final_rate_list[i] = 0.7\n",
    "    num = final_rate_list[i]\n",
    "    num = num-0.6\n",
    "    if num <= 0:\n",
    "        num = 0\n",
    "    final_rate_list[i] = num *10\n",
    "print(final_rate_list)"
   ],
   "metadata": {
    "collapsed": false
   }
  },
  {
   "cell_type": "code",
   "execution_count": 804,
   "outputs": [
    {
     "name": "stdout",
     "output_type": "stream",
     "text": [
      "[8.431159873362125, 2.350038405769921, 10.71782009202956, 8.547008353881404, 4.375407377499454, 5.556869200664077, 5.844147732208361, 11.636680508804812, 10.192495170245643, 9.957352959312727, 8.467218747365612, 9.452091799002387, 5.398720522825695, 4.719222123541133, 10.400425447549969, 10.59279931182539, 8.705698207839832, 4.672138691535502, 9.85356479515924, 7.6943512047776155, 7.533807756431694, 6.744757778836619, 8.661216127959527, 5.537831024001302, 5.988974275192866, 3.5975240243179454, 7.27946187557618, 4.689203922554022, 7.59103285551747, 4.809372829428049, 5.3274132459043155, 8.61877263402931, 9.12691953845814, 8.267086215793755, 8.298105245614318, 9.435469540845327, 7.83843279216085, 10.776028018226647, 8.817026206102579, 4.842734640584506, 6.913118875109417, 5.9106391481063065, 7.566048316356884, 9.683680275606031, 8.063211692319065, 4.3498147004699526, 7.890344077737898, 7.26385736596553, 6.044638269813192, 6.3324462343968495, 5.172830590742297, 5.7206762138673035, 7.350358537987137, 5.163776065240123, 4.704885080549647, 5.3795531651779, 5.825901260487881, 5.7253442521972016, 11.157011870434202, 9.100333029300707, 8.376400980203789, 4.201114446753717, 4.124887819950205, 4.268590769596987, 4.696460901584594, 9.831277748162854, 7.8954283925595075, 7.256671563652743, 8.563775885112845, 4.39025457888223, 5.270283562073515, 4.965647592396777, 5.065693915024148, 5.900929646501498, 5.0810098688008045, 3.0, 7.405449232341348, 4.396151509000536, 8.534367635538123, 8.053417671093932, 8.726839694794393, 7.453004572720416, 8.416941310014822, 5.82905944523334, 3.4996355115805833, 6.0844280520707565, 2.77734123043438, 3.734477966326934, 4.93992597958966, 6.141878558529144, 4.767246202445079, 6.223329772884783, 6.290685008392867, 4.189263512215989, 3.278275862416453, 7.460541548728416, 4.971761678582005, 3.522736669975611, 4.569530940678824, 2.638975964004231, 4.258915019957202, 3.2531531233955717, 2.8502698827717983, 5.6533984141393905, 4.465131805151656, 8.255113575814889, 8.508916349312162, 8.398433181155246, 9.879463088143234, 3.208680436096278, 4.43248042346365, 2.5457298950218306, 2.2795070569547775, 8.152562549212943, 4.757989370032634, 3.0496782812075667, 5.535621635560827, 4.007789715567548, 3.4996355115805833, 6.142418005950667, 1.6817928305074292, 8.279447588242554, 5.557597540571016, 4.175595259859688, 6.762611944294637, 5.4825429072993375, 4.088796093876593, 5.022842982125335, 4.053600464421103, 3.1054227990714813, 3.4908534210066655, 6.77751697241869, 3.009216698434564, 5.226184130653581, 7.278165328748456, 3.1583173798131816, 2.189938703094842, 3.0671556630065893, 5.564865239554687, 5.256567678561382, 5.207696539223578, 5.84602557138353, 5.394744147937925, 4.323762146076021, 5.880136328287035, 7.292389402742652, 5.737957412381924, 5.455799861823602, 4.678254869953035, 5.526757521241775, 3.602881483722046, 5.465778855074482, 5.7139876999017964, 6.148880316839736, 6.434789913083937, 7.532638182887735, 5.063769624490846, 4.748678191619154, 5.1298532858047245, 6.686985047883892, 5.789529473470943, 6.378701750365654, 5.974373322378632, 3.613525267270259, 3.3062978623435795, 4.909576518029626, 3.3863468430123507, 4.294076025710976, 4.9430338301230785, 3.8292137964098036, 4.915901946457958, 3.58673672441519, 5.857254783327842, 5.205039324374805, 2.0305431848689306, 5.035617605240883, 2.457950973228979, 3.8985489805273272, 5.162867988872433, 5.319957085933101, 6.277588787940483, 4.568220304966608, 3.7126875376323043, 2.5607496020310148, 4.63367139033228, 4.962582060988967, 5.206811252912085, 4.79356345385686, 4.656123214507838, 6.355943655622531, 5.9027538302362474, 4.149599421356544, 6.6944971193206975, 2.5607496020310148, 6.319113135258999, 6.180890145422918, 4.459504658743092, 3.559334131452107, 2.2581008643532257, 2.9670538301199567, 5.123359200447825, 3.626699110481307, 5.728671587972545, 1.4564753151219703, 5.811943866565564, 4.075935196471621, 4.3253077270721105, 5.041480938601045, 1.189207115002721, 5.427094337677048, 3.088590619387661, 4.631156506697567, 6.443217946747894, 5.167403588422079, 2.6457513110645907, 3.83808804779883, 4.163524447311402, 3.946189491445822, 3.7976578442318836, 4.294076025710976, 4.334546600055874, 5.944846010969887, 4.352849103919916, 5.872744564678517, 1.7320508075688772, 4.441067768376882, 3.942114948592957, 3.9132330407367197, 2.0739244522212745, 4.978866388293733, 5.6339276261066535, 3.536947271758063, 3.1301691601465746, 1.189207115002721, 4.175595259859688, 4.72278604461344, 4.759149430918539, 5.745880962780064, 6.5400806429201195, 3.6240758182692177, 1.3160740129524924, 2.6723451177837885, 3.0046189513204324, 4.830582136674219, 5.528237836767902, 1.0, 2.4322992790977875, 4.6524037681518315, 1.8415116050578215, 4.446765108849937, 4.13729897017652, 2.9622566376652992, 4.715650109787312, 2.741650632226224, 3.027400104035091, 3.3131932029463775, 2.7596690210718946, 4.328393927913123, 5.355302120272952, 3.3234561855374687, 1.7782794100389228, 3.0, 2.7355647997347607, 4.180736573015398, 4.756828460010884, 4.927435548473259, 3.8090180005543304, 4.85260998624794, 3.0046189513204324, 6.669779069734653, 4.254052311720421, 4.569530940678824, 4.865684042712127, 5.317464718378241, 3.929814908043444, 4.51212511700444, 2.9765790050550773, 1.0, 3.23114631499574, 5.369084708849279, 2.0739244522212745, 1.3677823998673804, 4.39762203989994, 4.387297181058078, 4.773004452102369, 3.5255925593658795, 3.9743639741386687, 4.618520218392634, 4.6349272981289396, 3.3766483753851806, 4.944068478809799, 1.4564753151219703, 5.141848707693039, 5.052177553906874, 4.508037425854135, 5.467309242696104, 3.411809890193593, 2.833935285447518, 2.5226892457611436, 4.574762238243245, 3.5676213450081633, 3.3927664866921416, 2.8003916816543826, 2.3690686102687932, 5.0599144487811465]\n"
     ]
    }
   ],
   "source": [
    "final_owners_list = []\n",
    "for i in range(len(final_tag_list)):\n",
    "    try:\n",
    "        final_owners_list.append(owners[-1][i])\n",
    "    except:\n",
    "        final_owners_list.append(0)\n",
    "for i in range(len(final_owners_list)):\n",
    "    if final_owners_list[i] == 0:\n",
    "        final_owners_list[i] = 1500000\n",
    "    final_owners_list[i] = final_owners_list[i]/10000\n",
    "    num = final_owners_list[i]\n",
    "    num = math.sqrt(math.sqrt(num))\n",
    "    final_owners_list[i] = num\n",
    "print(final_owners_list)"
   ],
   "metadata": {
    "collapsed": false
   }
  },
  {
   "cell_type": "code",
   "execution_count": 820,
   "outputs": [
    {
     "name": "stdout",
     "output_type": "stream",
     "text": [
      "[0.04918493535694211, 0.015056612864370031, 0.6675098369870713, 1.3229743836826469, 0.060226451457480124, 0.12647554806070826, 0.05420380631173212, 2.6891110575764876, 0.2549586445033325, 0.48883803099654705, 0.41455874086565486, 0.32421906367943465, 0.1525736770256163, 0.16261141893519634, 1.1222195454910462, 1.2517064161246287, 0.44567574078535294, 0.1043925158596322, 0.4516983859311009, 0.5048984180518751, 0.8943628041435798, 0.3754115474182928, 1.0650044166064403, 0.1887095479001044, 0.2419095800208785, 0.04918493535694211, 0.6665060627961134, 0.11643780615112824, 0.5440456114992371, 0.06725287079418614, 0.1917208704729784, 1.062996868224524, 0.6976230627158114, 1.2657592547980405, 0.07628683851280815, 0.490845579378463, 0.02409058058299205, 2.5997751545812253, 0.47880028908696703, 0.2459246767847105, 0.3121737733879386, 0.038143419256404076, 0.41455874086565486, 0.2740303541315346, 0.24893599935758454, 0.0963623223319682, 0.07126796755801815, 0.7668834818919136, 0.6384003854492893, 0.473781418132177, 0.16060387055328035, 0.38745683770978884, 0.6865815466152735, 0.13952461254316229, 0.1435397093069943, 0.17766803179956636, 0.21882277362884447, 0.23488316068417248, 3.3947643138199632, 2.6469525415562516, 2.7152091865413954, 0.0993736449048422, 0.1355095157793303, 0.10539629005059022, 0.2680077089857865, 1.410302738295993, 0.03713964506544608, 0.6685136111780293, 0.23889825744800453, 0.06424154822131213, 0.29009074118686257, 0.15859632217136432, 0.060226451457480124, 0.34027945073476273, 0.09836987071388421, 0.044166064402152094, 0.39448325704649484, 0.1897133220910624, 0.2910945153778206, 0.23287561230225648, 2.5254958644503334, 1.3289970288283948, 1.2707781257528308, 0.7668834818919136, 0.3, 0.5450493856901951, 0.023086806392034045, 0.05520758050269011, 0.1375170641612463, 0.8060306753392757, 0.21079258010118043, 0.8050269011483177, 0.7176985465349714, 0.09033967718622019, 0.07026419336706015, 0.8813137396611258, 0.28607564442303063, 0.04918493535694211, 0.16662651569902834, 0.023086806392034045, 0.1355095157793303, 0.03914719344736208, 0.02409058058299205, 0.21681522524692848, 0.10338874166867422, 0.14153216092507828, 0.8481891913595118, 0.29912470890548465, 1.996506865815466, 0.013049064482454025, 0.15156990283465832, 0.038143419256404076, 0.022083032201076047, 1.5016461896731712, 0.1957359672368104, 0.056211354693648116, 0.12747932225166625, 0.012045290291496025, 0.3, 0.35734361198104875, 0.0030113225728740063, 1.1222195454910462, 0.2920982895687786, 0.10640006424154821, 0.23488316068417248, 0.10740383843250623, 0.02409058058299205, 0.2037661607644744, 0.05821890307556412, 0.07026419336706015, 0.04015096763832009, 0.6805589014695255, 0.05420380631173212, 0.10338874166867422, 1.2065365775315184, 0.06825664498514414, 0.009033967718622018, 0.038143419256404076, 0.4205813860114029, 0.20075483819160042, 0.18369067694531438, 0.36035493455392276, 0.32321528948847666, 0.16763028988998635, 0.4065285473379908, 1.0790572552798523, 0.3212077411065607, 0.45571348269493295, 0.2780454508953666, 0.2318718381112985, 0.03914719344736208, 0.44366819240343697, 0.41556251505661285, 0.5570946759816912, 0.509917289006665, 1.3591102545571347, 0.40050590219224286, 0.21781899943788646, 0.15859632217136432, 0.5340078695896571, 0.35132096683530073, 0.5119248373885811, 0.462739902031639, 0.02609812896490805, 0.031116999919698067, 0.06725287079418614, 0.08732835461334618, 0.0913434513771782, 0.21982654781980246, 0.07227174174897615, 0.16160764474423833, 0.0471773869750261, 0.3332530313980567, 0.16963783827190235, 0.017064161246286035, 0.28005299927728255, 0.016060387055328033, 0.05320003212077411, 0.16963783827190235, 0.38444551513691483, 0.6143098048662973, 0.10740383843250623, 0.08732835461334618, 0.02910945153778206, 0.1355095157793303, 0.21882277362884447, 0.20577370914639043, 0.1917208704729784, 0.16662651569902834, 0.4296153537300249, 0.26198506384003856, 0.04617361278406809, 1.0358949650686582, 0.015056612864370031, 0.7478117722637115, 0.3442945474985947, 0.06825664498514414, 0.028105677346824058, 0.0070264193367060145, 0.04316229021119409, 0.07327551593993416, 0.02409058058299205, 0.04918493535694211, 0.002007548381916004, 0.3974945796193688, 0.11443025776921224, 0.13249819320645628, 0.12848309644262426, 0.002007548381916004, 0.4065285473379908, 0.03412832249257207, 0.23086806392034045, 0.7237211916807195, 0.44868706335822695, 0.010037741909580022, 0.060226451457480124, 0.07126796755801815, 0.11443025776921224, 0.08030193527664017, 0.19673974142776843, 0.11844535453304425, 0.3663775796996708, 0.08833212880430419, 0.3593511603629647, 0.009033967718622018, 0.17064161246286036, 0.08833212880430419, 0.07628683851280815, 0.002007548381916004, 0.16361519312615433, 0.26600016060387055, 0.020075483819160043, 0.06323777403035413, 0.002007548381916004, 0.05420380631173212, 0.0963623223319682, 0.19372841885489442, 0.3222115152975187, 0.4396530956396049, 0.06123022564843813, 0.0030113225728740063, 0.012045290291496025, 0.03713964506544608, 0.018067935437244036, 0.6163173532482134, 0.001003774190958002, 0.02609812896490805, 0.24893599935758454, 0.009033967718622018, 0.16763028988998635, 0.08130570946759817, 0.0030113225728740063, 0.04516983859311009, 0.013049064482454025, 0.03713964506544608, 0.060226451457480124, 0.016060387055328033, 0.002007548381916004, 0.18469445113627236, 0.020075483819160043, 0.010037741909580022, 0.03914719344736208, 0.02409058058299205, 0.1505661286437003, 0.12346422548783426, 0.10539629005059022, 0.08732835461334618, 0.2469284509756685, 0.018067935437244036, 0.7367702561631735, 0.07729061270376616, 0.11643780615112824, 0.12948687063358227, 0.19372841885489442, 0.0471773869750261, 0.08632458042238818, 0.014052838673412029, 0.001003774190958002, 0.03312454830161407, 0.3011322572874006, 0.016060387055328033, 0.001003774190958002, 0.07729061270376616, 0.1877057737091464, 0.03914719344736208, 0.050188709547900105, 0.038143419256404076, 0.16963783827190235, 0.22384164458363448, 0.04918493535694211, 0.22785674134746647, 0.002007548381916004, 0.2840680960411146, 0.2920982895687786, 0.02710190315586606, 0.31016622500602264, 0.07628683851280815, 0.019071709628202038, 0.004015096763832008, 0.07026419336706015, 0.05320003212077411, 0.031116999919698067, 0.04015096763832009, 0.019071709628202038, 0.17566048341765036]\n"
     ]
    }
   ],
   "source": [
    "final_share_list = []\n",
    "for i in range(len(final_tag_list)):\n",
    "    try:\n",
    "        final_share_list.append(share[-1][i])\n",
    "    except:\n",
    "        final_share_list.append(0)\n",
    "for i in range(len(final_share_list)):\n",
    "    if final_share_list[i] == 0:\n",
    "        final_share_list[i] = 0.003\n",
    "    num = final_share_list[i]\n",
    "    num = num * 100\n",
    "    final_share_list[i] = num\n",
    "print(final_share_list)"
   ],
   "metadata": {
    "collapsed": false
   }
  },
  {
   "cell_type": "code",
   "execution_count": 821,
   "outputs": [],
   "source": [
    "final_df = pd.DataFrame(columns=['Score', 'Rate', 'Owners', 'Share'])\n",
    "final_df['Score'] = final_score_list\n",
    "final_df['Rate'] = final_rate_list\n",
    "final_df['Owners'] = final_owners_list\n",
    "final_df['Share'] = final_share_list"
   ],
   "metadata": {
    "collapsed": false
   }
  },
  {
   "cell_type": "code",
   "execution_count": 822,
   "outputs": [],
   "source": [
    "final_df\n",
    "final_df.to_csv(\"rank_data.csv\")"
   ],
   "metadata": {
    "collapsed": false
   }
  },
  {
   "cell_type": "code",
   "execution_count": 823,
   "outputs": [
    {
     "data": {
      "text/plain": "            Score        Rate      Owners       Share\ncount  305.000000  305.000000  305.000000  305.000000\nmean     2.487280    1.951408    5.131793    0.307299\nstd      1.242298    0.729256    2.072689    0.470576\nmin      1.001870    0.000000    1.000000    0.001004\n25%      1.558984    1.535240    3.712688    0.049185\n50%      2.177115    2.068064    4.852610    0.158596\n75%      3.059878    2.474945    6.044638    0.357344\nmax      6.500380    3.577994   11.636681    3.394764",
      "text/html": "<div>\n<style scoped>\n    .dataframe tbody tr th:only-of-type {\n        vertical-align: middle;\n    }\n\n    .dataframe tbody tr th {\n        vertical-align: top;\n    }\n\n    .dataframe thead th {\n        text-align: right;\n    }\n</style>\n<table border=\"1\" class=\"dataframe\">\n  <thead>\n    <tr style=\"text-align: right;\">\n      <th></th>\n      <th>Score</th>\n      <th>Rate</th>\n      <th>Owners</th>\n      <th>Share</th>\n    </tr>\n  </thead>\n  <tbody>\n    <tr>\n      <th>count</th>\n      <td>305.000000</td>\n      <td>305.000000</td>\n      <td>305.000000</td>\n      <td>305.000000</td>\n    </tr>\n    <tr>\n      <th>mean</th>\n      <td>2.487280</td>\n      <td>1.951408</td>\n      <td>5.131793</td>\n      <td>0.307299</td>\n    </tr>\n    <tr>\n      <th>std</th>\n      <td>1.242298</td>\n      <td>0.729256</td>\n      <td>2.072689</td>\n      <td>0.470576</td>\n    </tr>\n    <tr>\n      <th>min</th>\n      <td>1.001870</td>\n      <td>0.000000</td>\n      <td>1.000000</td>\n      <td>0.001004</td>\n    </tr>\n    <tr>\n      <th>25%</th>\n      <td>1.558984</td>\n      <td>1.535240</td>\n      <td>3.712688</td>\n      <td>0.049185</td>\n    </tr>\n    <tr>\n      <th>50%</th>\n      <td>2.177115</td>\n      <td>2.068064</td>\n      <td>4.852610</td>\n      <td>0.158596</td>\n    </tr>\n    <tr>\n      <th>75%</th>\n      <td>3.059878</td>\n      <td>2.474945</td>\n      <td>6.044638</td>\n      <td>0.357344</td>\n    </tr>\n    <tr>\n      <th>max</th>\n      <td>6.500380</td>\n      <td>3.577994</td>\n      <td>11.636681</td>\n      <td>3.394764</td>\n    </tr>\n  </tbody>\n</table>\n</div>"
     },
     "execution_count": 823,
     "metadata": {},
     "output_type": "execute_result"
    }
   ],
   "source": [
    "final_df[['Rate', 'Owners', 'Share']]\n",
    "final_df.describe()"
   ],
   "metadata": {
    "collapsed": false
   }
  }
 ],
 "metadata": {
  "kernelspec": {
   "display_name": "Python 3.9.7 ('base')",
   "language": "python",
   "name": "python3"
  },
  "language_info": {
   "codemirror_mode": {
    "name": "ipython",
    "version": 3
   },
   "file_extension": ".py",
   "mimetype": "text/x-python",
   "name": "python",
   "nbconvert_exporter": "python",
   "pygments_lexer": "ipython3",
   "version": "3.9.7"
  },
  "orig_nbformat": 4,
  "vscode": {
   "interpreter": {
    "hash": "d7288e82646d3164eca24130947288f8779d11454649f2c02a5dfc42af7f324c"
   }
  }
 },
 "nbformat": 4,
 "nbformat_minor": 2
}
