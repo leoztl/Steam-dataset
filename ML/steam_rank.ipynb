{
 "cells": [
  {
   "cell_type": "code",
   "execution_count": 57,
   "outputs": [],
   "source": [
    "import pandas as pd\n",
    "import csv\n",
    "import numpy\n",
    "import sys"
   ],
   "metadata": {
    "collapsed": false
   }
  },
  {
   "cell_type": "code",
   "execution_count": 58,
   "outputs": [
    {
     "data": {
      "text/plain": "     Unnamed: 0                              Name  players\n0             0  Counter-Strike: Global Offensive  586,446\n1             1                            Dota 2  413,327\n2             2               PUBG: BATTLEGROUNDS  184,883\n3             3                     Apex Legends™  170,289\n4             4                          Lost Ark  127,457\n..          ...                               ...      ...\n245         245                         ASTRONEER    1,970\n246         246           Incremental Epic Hero 2    1,960\n247         247            Batman™: Arkham Knight    1,955\n248         248          CarX Drift Racing Online    1,948\n249         249                        Subnautica    1,932\n\n[250 rows x 3 columns]",
      "text/html": "<div>\n<style scoped>\n    .dataframe tbody tr th:only-of-type {\n        vertical-align: middle;\n    }\n\n    .dataframe tbody tr th {\n        vertical-align: top;\n    }\n\n    .dataframe thead th {\n        text-align: right;\n    }\n</style>\n<table border=\"1\" class=\"dataframe\">\n  <thead>\n    <tr style=\"text-align: right;\">\n      <th></th>\n      <th>Unnamed: 0</th>\n      <th>Name</th>\n      <th>players</th>\n    </tr>\n  </thead>\n  <tbody>\n    <tr>\n      <th>0</th>\n      <td>0</td>\n      <td>Counter-Strike: Global Offensive</td>\n      <td>586,446</td>\n    </tr>\n    <tr>\n      <th>1</th>\n      <td>1</td>\n      <td>Dota 2</td>\n      <td>413,327</td>\n    </tr>\n    <tr>\n      <th>2</th>\n      <td>2</td>\n      <td>PUBG: BATTLEGROUNDS</td>\n      <td>184,883</td>\n    </tr>\n    <tr>\n      <th>3</th>\n      <td>3</td>\n      <td>Apex Legends™</td>\n      <td>170,289</td>\n    </tr>\n    <tr>\n      <th>4</th>\n      <td>4</td>\n      <td>Lost Ark</td>\n      <td>127,457</td>\n    </tr>\n    <tr>\n      <th>...</th>\n      <td>...</td>\n      <td>...</td>\n      <td>...</td>\n    </tr>\n    <tr>\n      <th>245</th>\n      <td>245</td>\n      <td>ASTRONEER</td>\n      <td>1,970</td>\n    </tr>\n    <tr>\n      <th>246</th>\n      <td>246</td>\n      <td>Incremental Epic Hero 2</td>\n      <td>1,960</td>\n    </tr>\n    <tr>\n      <th>247</th>\n      <td>247</td>\n      <td>Batman™: Arkham Knight</td>\n      <td>1,955</td>\n    </tr>\n    <tr>\n      <th>248</th>\n      <td>248</td>\n      <td>CarX Drift Racing Online</td>\n      <td>1,948</td>\n    </tr>\n    <tr>\n      <th>249</th>\n      <td>249</td>\n      <td>Subnautica</td>\n      <td>1,932</td>\n    </tr>\n  </tbody>\n</table>\n<p>250 rows × 3 columns</p>\n</div>"
     },
     "execution_count": 58,
     "metadata": {},
     "output_type": "execute_result"
    }
   ],
   "source": [
    "raw_rank = pd.read_csv(\"rank.csv\")\n",
    "raw_source = pd.read_csv(\"data.csv\")\n",
    "df = raw_rank\n",
    "raw_rank"
   ],
   "metadata": {
    "collapsed": false
   }
  },
  {
   "cell_type": "code",
   "execution_count": 59,
   "outputs": [
    {
     "data": {
      "text/plain": "     Unnamed: 0                              Name  players\n0             0  Counter-Strike: Global Offensive   586446\n1             1                            Dota 2   413327\n2             2               PUBG: BATTLEGROUNDS   184883\n3             3                     Apex Legends™   170289\n4             4                          Lost Ark   127457\n..          ...                               ...      ...\n245         245                         ASTRONEER     1970\n246         246           Incremental Epic Hero 2     1960\n247         247            Batman™: Arkham Knight     1955\n248         248          CarX Drift Racing Online     1948\n249         249                        Subnautica     1932\n\n[250 rows x 3 columns]",
      "text/html": "<div>\n<style scoped>\n    .dataframe tbody tr th:only-of-type {\n        vertical-align: middle;\n    }\n\n    .dataframe tbody tr th {\n        vertical-align: top;\n    }\n\n    .dataframe thead th {\n        text-align: right;\n    }\n</style>\n<table border=\"1\" class=\"dataframe\">\n  <thead>\n    <tr style=\"text-align: right;\">\n      <th></th>\n      <th>Unnamed: 0</th>\n      <th>Name</th>\n      <th>players</th>\n    </tr>\n  </thead>\n  <tbody>\n    <tr>\n      <th>0</th>\n      <td>0</td>\n      <td>Counter-Strike: Global Offensive</td>\n      <td>586446</td>\n    </tr>\n    <tr>\n      <th>1</th>\n      <td>1</td>\n      <td>Dota 2</td>\n      <td>413327</td>\n    </tr>\n    <tr>\n      <th>2</th>\n      <td>2</td>\n      <td>PUBG: BATTLEGROUNDS</td>\n      <td>184883</td>\n    </tr>\n    <tr>\n      <th>3</th>\n      <td>3</td>\n      <td>Apex Legends™</td>\n      <td>170289</td>\n    </tr>\n    <tr>\n      <th>4</th>\n      <td>4</td>\n      <td>Lost Ark</td>\n      <td>127457</td>\n    </tr>\n    <tr>\n      <th>...</th>\n      <td>...</td>\n      <td>...</td>\n      <td>...</td>\n    </tr>\n    <tr>\n      <th>245</th>\n      <td>245</td>\n      <td>ASTRONEER</td>\n      <td>1970</td>\n    </tr>\n    <tr>\n      <th>246</th>\n      <td>246</td>\n      <td>Incremental Epic Hero 2</td>\n      <td>1960</td>\n    </tr>\n    <tr>\n      <th>247</th>\n      <td>247</td>\n      <td>Batman™: Arkham Knight</td>\n      <td>1955</td>\n    </tr>\n    <tr>\n      <th>248</th>\n      <td>248</td>\n      <td>CarX Drift Racing Online</td>\n      <td>1948</td>\n    </tr>\n    <tr>\n      <th>249</th>\n      <td>249</td>\n      <td>Subnautica</td>\n      <td>1932</td>\n    </tr>\n  </tbody>\n</table>\n<p>250 rows × 3 columns</p>\n</div>"
     },
     "execution_count": 59,
     "metadata": {},
     "output_type": "execute_result"
    }
   ],
   "source": [
    "players = df['players']\n",
    "players_replace = []\n",
    "for num in players:\n",
    "    res = num.replace(',','')\n",
    "    res = int(res[0:])\n",
    "    players_replace.append(res)\n",
    "df['players'] = players_replace\n",
    "df"
   ],
   "metadata": {
    "collapsed": false
   }
  },
  {
   "cell_type": "code",
   "execution_count": 60,
   "outputs": [
    {
     "name": "stdout",
     "output_type": "stream",
     "text": [
      "22\n",
      "15                                    EA SPORTS™ FIFA 23\n",
      "18                                                  MIR4\n",
      "42                                 Yu-Gi-Oh! Master Duel\n",
      "44                                          SUPER PEOPLE\n",
      "65                                               Brotato\n",
      "78                                  Torchlight: Infinite\n",
      "84                                             Marauders\n",
      "95                                           Shatterline\n",
      "105                                        Terra Invicta\n",
      "108    Pathfinder: Wrath of the Righteous - Enhanced ...\n",
      "113                                     GUNDAM EVOLUTION\n",
      "114                                      eFootball™ 2023\n",
      "123                                         Coral Island\n",
      "134                                        Idle Skilling\n",
      "150                                       Omega Strikers\n",
      "168                               Construction Simulator\n",
      "183                                          Dome Keeper\n",
      "198                         Farmer Against Potatoes Idle\n",
      "203                                           ヘブンバーンズレッド\n",
      "223                                      Slime Rancher 2\n",
      "240                                           Lost Light\n",
      "246                              Incremental Epic Hero 2\n",
      "Name: Name, dtype: object\n"
     ]
    }
   ],
   "source": [
    "miss_count = 0\n",
    "miss_index = []\n",
    "hit_index = []\n",
    "rate_list = []\n",
    "tags_list = []\n",
    "owner_list = []\n",
    "year_list = []\n",
    "for i in range(len(df['Name'])):\n",
    "    find_flag = 1\n",
    "    target_name = df['Name'][i]\n",
    "    res = raw_source[raw_source.name == target_name].index.tolist()\n",
    "    if res == []:\n",
    "        find_flag = 0\n",
    "    else:\n",
    "        hit_index.append(res[0])\n",
    "    if find_flag == 0:\n",
    "        miss_count += 1\n",
    "        hit_index.append(0)\n",
    "        miss_index.append(i)\n",
    "    else:\n",
    "        continue\n",
    "print(miss_count)\n",
    "miss = df['Name'][miss_index]\n",
    "print(miss)"
   ],
   "metadata": {
    "collapsed": false
   }
  },
  {
   "cell_type": "code",
   "execution_count": 61,
   "outputs": [
    {
     "data": {
      "text/plain": "     Unnamed: 0                              Name  players      rate  \\\n0             0  Counter-Strike: Global Offensive   586446  0.882848   \n1             1                            Dota 2   413327  0.829342   \n2             2               PUBG: BATTLEGROUNDS   184883  0.565037   \n3             3                     Apex Legends™   170289  0.858303   \n4             4                          Lost Ark   127457  0.738609   \n..          ...                               ...      ...       ...   \n245         245                         ASTRONEER     1970  0.914825   \n246         246           Incremental Epic Hero 2     1960  0.829342   \n247         247            Batman™: Arkham Knight     1955  0.840942   \n248         248          CarX Drift Racing Online     1948  0.953353   \n249         249                        Subnautica     1932  0.964148   \n\n        owners  year                                               tags  \n0     75000000  2012  ['FPS', 'Shooter', 'Multiplayer', 'Competitive...  \n1    350000000  2013  ['Free to Play', 'MOBA', 'Multiplayer', 'Strat...  \n2     75000000  2017  ['Survival', 'Shooter', 'Multiplayer', 'Battle...  \n3     75000000  2020  ['Free to Play', 'Multiplayer', 'Battle Royale...  \n4     35000000  2022  ['MMORPG', 'Free to Play', 'Action RPG', 'RPG'...  \n..         ...   ...                                                ...  \n245    3500000  2019  ['Multiplayer', 'Open World', 'Open World Surv...  \n246  350000000  2013  ['Free to Play', 'MOBA', 'Multiplayer', 'Strat...  \n247    3500000  2015  ['Action', 'Open World', 'Superhero', 'Stealth...  \n248    1500000  2017  ['Racing', 'Driving', 'Simulation', 'Automobil...  \n249    3500000  2018  ['Open World Survival Craft', 'Survival', 'Ope...  \n\n[250 rows x 7 columns]",
      "text/html": "<div>\n<style scoped>\n    .dataframe tbody tr th:only-of-type {\n        vertical-align: middle;\n    }\n\n    .dataframe tbody tr th {\n        vertical-align: top;\n    }\n\n    .dataframe thead th {\n        text-align: right;\n    }\n</style>\n<table border=\"1\" class=\"dataframe\">\n  <thead>\n    <tr style=\"text-align: right;\">\n      <th></th>\n      <th>Unnamed: 0</th>\n      <th>Name</th>\n      <th>players</th>\n      <th>rate</th>\n      <th>owners</th>\n      <th>year</th>\n      <th>tags</th>\n    </tr>\n  </thead>\n  <tbody>\n    <tr>\n      <th>0</th>\n      <td>0</td>\n      <td>Counter-Strike: Global Offensive</td>\n      <td>586446</td>\n      <td>0.882848</td>\n      <td>75000000</td>\n      <td>2012</td>\n      <td>['FPS', 'Shooter', 'Multiplayer', 'Competitive...</td>\n    </tr>\n    <tr>\n      <th>1</th>\n      <td>1</td>\n      <td>Dota 2</td>\n      <td>413327</td>\n      <td>0.829342</td>\n      <td>350000000</td>\n      <td>2013</td>\n      <td>['Free to Play', 'MOBA', 'Multiplayer', 'Strat...</td>\n    </tr>\n    <tr>\n      <th>2</th>\n      <td>2</td>\n      <td>PUBG: BATTLEGROUNDS</td>\n      <td>184883</td>\n      <td>0.565037</td>\n      <td>75000000</td>\n      <td>2017</td>\n      <td>['Survival', 'Shooter', 'Multiplayer', 'Battle...</td>\n    </tr>\n    <tr>\n      <th>3</th>\n      <td>3</td>\n      <td>Apex Legends™</td>\n      <td>170289</td>\n      <td>0.858303</td>\n      <td>75000000</td>\n      <td>2020</td>\n      <td>['Free to Play', 'Multiplayer', 'Battle Royale...</td>\n    </tr>\n    <tr>\n      <th>4</th>\n      <td>4</td>\n      <td>Lost Ark</td>\n      <td>127457</td>\n      <td>0.738609</td>\n      <td>35000000</td>\n      <td>2022</td>\n      <td>['MMORPG', 'Free to Play', 'Action RPG', 'RPG'...</td>\n    </tr>\n    <tr>\n      <th>...</th>\n      <td>...</td>\n      <td>...</td>\n      <td>...</td>\n      <td>...</td>\n      <td>...</td>\n      <td>...</td>\n      <td>...</td>\n    </tr>\n    <tr>\n      <th>245</th>\n      <td>245</td>\n      <td>ASTRONEER</td>\n      <td>1970</td>\n      <td>0.914825</td>\n      <td>3500000</td>\n      <td>2019</td>\n      <td>['Multiplayer', 'Open World', 'Open World Surv...</td>\n    </tr>\n    <tr>\n      <th>246</th>\n      <td>246</td>\n      <td>Incremental Epic Hero 2</td>\n      <td>1960</td>\n      <td>0.829342</td>\n      <td>350000000</td>\n      <td>2013</td>\n      <td>['Free to Play', 'MOBA', 'Multiplayer', 'Strat...</td>\n    </tr>\n    <tr>\n      <th>247</th>\n      <td>247</td>\n      <td>Batman™: Arkham Knight</td>\n      <td>1955</td>\n      <td>0.840942</td>\n      <td>3500000</td>\n      <td>2015</td>\n      <td>['Action', 'Open World', 'Superhero', 'Stealth...</td>\n    </tr>\n    <tr>\n      <th>248</th>\n      <td>248</td>\n      <td>CarX Drift Racing Online</td>\n      <td>1948</td>\n      <td>0.953353</td>\n      <td>1500000</td>\n      <td>2017</td>\n      <td>['Racing', 'Driving', 'Simulation', 'Automobil...</td>\n    </tr>\n    <tr>\n      <th>249</th>\n      <td>249</td>\n      <td>Subnautica</td>\n      <td>1932</td>\n      <td>0.964148</td>\n      <td>3500000</td>\n      <td>2018</td>\n      <td>['Open World Survival Craft', 'Survival', 'Ope...</td>\n    </tr>\n  </tbody>\n</table>\n<p>250 rows × 7 columns</p>\n</div>"
     },
     "execution_count": 61,
     "metadata": {},
     "output_type": "execute_result"
    }
   ],
   "source": [
    "for i in hit_index:\n",
    "    rate_list.append(raw_source['rate'][i])\n",
    "    owner_list.append(raw_source['owners'][i])\n",
    "    year_list.append(raw_source['release_date'][i])\n",
    "    tags_list.append(raw_source['tags'][i])\n",
    "df['rate'] = rate_list\n",
    "df['owners'] = owner_list\n",
    "df['year'] = year_list\n",
    "df['tags'] = tags_list\n",
    "df"
   ],
   "metadata": {
    "collapsed": false
   }
  },
  {
   "cell_type": "code",
   "execution_count": null,
   "outputs": [],
   "source": [
    "'''\n",
    "dictionary\n",
    "key: year\n",
    "val: dictionary mapping tag to number\n",
    "'''\n",
    "year_tag_dict = {}\n",
    "for index, row in df.iterrows():\n",
    "    year = row[\"release_date\"]\n",
    "    tags = row[\"tags\"]\n",
    "    if year in year_tag_dict:\n",
    "        tag_count_dict = year_tag_dict[year]\n",
    "        for tag in tags:\n",
    "            if tag in tag_count_dict:\n",
    "                tag_count_dict[tag] += 1\n",
    "            else:\n",
    "                tag_count_dict[tag] = 1\n",
    "    else:\n",
    "        year_tag_dict[year] = {}\n",
    "        for tag in tags:\n",
    "            year_tag_dict[year][tag] = 1"
   ],
   "metadata": {
    "collapsed": false
   }
  },
  {
   "cell_type": "markdown",
   "source": [],
   "metadata": {
    "collapsed": false
   }
  }
 ],
 "metadata": {
  "kernelspec": {
   "display_name": "Python 3.8.9 64-bit",
   "language": "python",
   "name": "python3"
  },
  "language_info": {
   "name": "python",
   "version": "3.8.9"
  },
  "orig_nbformat": 4,
  "vscode": {
   "interpreter": {
    "hash": "31f2aee4e71d21fbe5cf8b01ff0e069b9275f58929596ceb00d14d90e3e16cd6"
   }
  }
 },
 "nbformat": 4,
 "nbformat_minor": 2
}
