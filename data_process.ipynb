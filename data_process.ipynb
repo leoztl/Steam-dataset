{
 "cells": [
  {
   "cell_type": "code",
   "execution_count": 1,
   "metadata": {
    "pycharm": {
     "name": "#%%\n"
    }
   },
   "outputs": [],
   "source": [
    "import pandas as pd\n",
    "from ast import literal_eval\n",
    "import json\n",
    "import numpy as np"
   ]
  },
  {
   "cell_type": "code",
   "execution_count": 2,
   "metadata": {
    "pycharm": {
     "name": "#%%\n"
    }
   },
   "outputs": [
    {
     "data": {
      "text/html": [
       "<div>\n",
       "<style scoped>\n",
       "    .dataframe tbody tr th:only-of-type {\n",
       "        vertical-align: middle;\n",
       "    }\n",
       "\n",
       "    .dataframe tbody tr th {\n",
       "        vertical-align: top;\n",
       "    }\n",
       "\n",
       "    .dataframe thead th {\n",
       "        text-align: right;\n",
       "    }\n",
       "</style>\n",
       "<table border=\"1\" class=\"dataframe\">\n",
       "  <thead>\n",
       "    <tr style=\"text-align: right;\">\n",
       "      <th></th>\n",
       "      <th>Unnamed: 0</th>\n",
       "      <th>name</th>\n",
       "      <th>steam_appid</th>\n",
       "      <th>release_date</th>\n",
       "      <th>is_free</th>\n",
       "      <th>required_age</th>\n",
       "      <th>rate</th>\n",
       "      <th>price</th>\n",
       "      <th>owners</th>\n",
       "      <th>tags</th>\n",
       "    </tr>\n",
       "  </thead>\n",
       "  <tbody>\n",
       "    <tr>\n",
       "      <th>0</th>\n",
       "      <td>0</td>\n",
       "      <td>Dota 2</td>\n",
       "      <td>570</td>\n",
       "      <td>2013</td>\n",
       "      <td>True</td>\n",
       "      <td>0</td>\n",
       "      <td>0.829342</td>\n",
       "      <td>0</td>\n",
       "      <td>350000000</td>\n",
       "      <td>[Free to Play, MOBA, Multiplayer, Strategy, e-...</td>\n",
       "    </tr>\n",
       "    <tr>\n",
       "      <th>1</th>\n",
       "      <td>1</td>\n",
       "      <td>Counter-Strike: Global Offensive</td>\n",
       "      <td>730</td>\n",
       "      <td>2012</td>\n",
       "      <td>True</td>\n",
       "      <td>0</td>\n",
       "      <td>0.882848</td>\n",
       "      <td>0</td>\n",
       "      <td>75000000</td>\n",
       "      <td>[FPS, Shooter, Multiplayer, Competitive, Actio...</td>\n",
       "    </tr>\n",
       "    <tr>\n",
       "      <th>2</th>\n",
       "      <td>2</td>\n",
       "      <td>New World</td>\n",
       "      <td>1063730</td>\n",
       "      <td>2021</td>\n",
       "      <td>False</td>\n",
       "      <td>0</td>\n",
       "      <td>0.680567</td>\n",
       "      <td>3999</td>\n",
       "      <td>75000000</td>\n",
       "      <td>[Massively Multiplayer, Open World, MMORPG, RP...</td>\n",
       "    </tr>\n",
       "    <tr>\n",
       "      <th>3</th>\n",
       "      <td>3</td>\n",
       "      <td>Team Fortress 2</td>\n",
       "      <td>440</td>\n",
       "      <td>2007</td>\n",
       "      <td>True</td>\n",
       "      <td>0</td>\n",
       "      <td>0.936167</td>\n",
       "      <td>0</td>\n",
       "      <td>75000000</td>\n",
       "      <td>[Free to Play, Hero Shooter, Multiplayer, FPS,...</td>\n",
       "    </tr>\n",
       "    <tr>\n",
       "      <th>4</th>\n",
       "      <td>4</td>\n",
       "      <td>Apex Legends™</td>\n",
       "      <td>1172470</td>\n",
       "      <td>2020</td>\n",
       "      <td>True</td>\n",
       "      <td>0</td>\n",
       "      <td>0.858303</td>\n",
       "      <td>0</td>\n",
       "      <td>75000000</td>\n",
       "      <td>[Free to Play, Multiplayer, Battle Royale, Sho...</td>\n",
       "    </tr>\n",
       "    <tr>\n",
       "      <th>...</th>\n",
       "      <td>...</td>\n",
       "      <td>...</td>\n",
       "      <td>...</td>\n",
       "      <td>...</td>\n",
       "      <td>...</td>\n",
       "      <td>...</td>\n",
       "      <td>...</td>\n",
       "      <td>...</td>\n",
       "      <td>...</td>\n",
       "      <td>...</td>\n",
       "    </tr>\n",
       "    <tr>\n",
       "      <th>49541</th>\n",
       "      <td>49541</td>\n",
       "      <td>VEHICLES FURY</td>\n",
       "      <td>749290</td>\n",
       "      <td>2017</td>\n",
       "      <td>False</td>\n",
       "      <td>0</td>\n",
       "      <td>0.166667</td>\n",
       "      <td>1499</td>\n",
       "      <td>10000</td>\n",
       "      <td>[Action, Indie, Racing]</td>\n",
       "    </tr>\n",
       "    <tr>\n",
       "      <th>49542</th>\n",
       "      <td>49542</td>\n",
       "      <td>Crawler</td>\n",
       "      <td>1506770</td>\n",
       "      <td>2021</td>\n",
       "      <td>False</td>\n",
       "      <td>0</td>\n",
       "      <td>0.416667</td>\n",
       "      <td>399</td>\n",
       "      <td>10000</td>\n",
       "      <td>[Adventure, Action RPG, Exploration, Dungeon C...</td>\n",
       "    </tr>\n",
       "    <tr>\n",
       "      <th>49543</th>\n",
       "      <td>49543</td>\n",
       "      <td>Coins Collector Simulator</td>\n",
       "      <td>1868280</td>\n",
       "      <td>2022</td>\n",
       "      <td>False</td>\n",
       "      <td>0</td>\n",
       "      <td>0.625000</td>\n",
       "      <td>499</td>\n",
       "      <td>10000</td>\n",
       "      <td>[Casual, Racing, Simulation, Sports, Strategy,...</td>\n",
       "    </tr>\n",
       "    <tr>\n",
       "      <th>49544</th>\n",
       "      <td>49544</td>\n",
       "      <td>You Arrive in a Town</td>\n",
       "      <td>1466190</td>\n",
       "      <td>2021</td>\n",
       "      <td>False</td>\n",
       "      <td>0</td>\n",
       "      <td>0.473684</td>\n",
       "      <td>499</td>\n",
       "      <td>10000</td>\n",
       "      <td>[Indie, Action, Casual, RPG, Action RPG, Arcad...</td>\n",
       "    </tr>\n",
       "    <tr>\n",
       "      <th>49545</th>\n",
       "      <td>49545</td>\n",
       "      <td>Hidden Treasures in the Forest of Dreams</td>\n",
       "      <td>1853990</td>\n",
       "      <td>2022</td>\n",
       "      <td>False</td>\n",
       "      <td>0</td>\n",
       "      <td>1.000000</td>\n",
       "      <td>1999</td>\n",
       "      <td>10000</td>\n",
       "      <td>[Relaxing, Nature, Walking Simulator, Procedur...</td>\n",
       "    </tr>\n",
       "  </tbody>\n",
       "</table>\n",
       "<p>49546 rows × 10 columns</p>\n",
       "</div>"
      ],
      "text/plain": [
       "       Unnamed: 0                                      name  steam_appid  \\\n",
       "0               0                                    Dota 2          570   \n",
       "1               1          Counter-Strike: Global Offensive          730   \n",
       "2               2                                 New World      1063730   \n",
       "3               3                           Team Fortress 2          440   \n",
       "4               4                             Apex Legends™      1172470   \n",
       "...           ...                                       ...          ...   \n",
       "49541       49541                             VEHICLES FURY       749290   \n",
       "49542       49542                                   Crawler      1506770   \n",
       "49543       49543                 Coins Collector Simulator      1868280   \n",
       "49544       49544                      You Arrive in a Town      1466190   \n",
       "49545       49545  Hidden Treasures in the Forest of Dreams      1853990   \n",
       "\n",
       "       release_date  is_free required_age      rate  price     owners  \\\n",
       "0              2013     True            0  0.829342      0  350000000   \n",
       "1              2012     True            0  0.882848      0   75000000   \n",
       "2              2021    False            0  0.680567   3999   75000000   \n",
       "3              2007     True            0  0.936167      0   75000000   \n",
       "4              2020     True            0  0.858303      0   75000000   \n",
       "...             ...      ...          ...       ...    ...        ...   \n",
       "49541          2017    False            0  0.166667   1499      10000   \n",
       "49542          2021    False            0  0.416667    399      10000   \n",
       "49543          2022    False            0  0.625000    499      10000   \n",
       "49544          2021    False            0  0.473684    499      10000   \n",
       "49545          2022    False            0  1.000000   1999      10000   \n",
       "\n",
       "                                                    tags  \n",
       "0      [Free to Play, MOBA, Multiplayer, Strategy, e-...  \n",
       "1      [FPS, Shooter, Multiplayer, Competitive, Actio...  \n",
       "2      [Massively Multiplayer, Open World, MMORPG, RP...  \n",
       "3      [Free to Play, Hero Shooter, Multiplayer, FPS,...  \n",
       "4      [Free to Play, Multiplayer, Battle Royale, Sho...  \n",
       "...                                                  ...  \n",
       "49541                            [Action, Indie, Racing]  \n",
       "49542  [Adventure, Action RPG, Exploration, Dungeon C...  \n",
       "49543  [Casual, Racing, Simulation, Sports, Strategy,...  \n",
       "49544  [Indie, Action, Casual, RPG, Action RPG, Arcad...  \n",
       "49545  [Relaxing, Nature, Walking Simulator, Procedur...  \n",
       "\n",
       "[49546 rows x 10 columns]"
      ]
     },
     "execution_count": 2,
     "metadata": {},
     "output_type": "execute_result"
    }
   ],
   "source": [
    "dataset_df = pd.read_csv('data.csv',encoding=\"utf-8\",converters={\"tags\":literal_eval})\n",
    "dataset_df"
   ]
  },
  {
   "cell_type": "code",
   "execution_count": 3,
   "metadata": {
    "pycharm": {
     "name": "#%%\n"
    }
   },
   "outputs": [],
   "source": [
    "'''\n",
    "dictionary\n",
    "key: year\n",
    "val: dictionary mapping tag to number\n",
    "'''\n",
    "year_tag_dict = {}\n",
    "for index, row in dataset_df.iterrows():\n",
    "    year = row[\"release_date\"]\n",
    "    tags = row[\"tags\"]\n",
    "    if year in year_tag_dict:\n",
    "        tag_count_dict = year_tag_dict[year]\n",
    "        for tag in tags:\n",
    "            if tag in tag_count_dict:\n",
    "                tag_count_dict[tag] += 1\n",
    "            else:\n",
    "                tag_count_dict[tag] = 1\n",
    "    else:\n",
    "        year_tag_dict[year] = {}\n",
    "        for tag in tags:\n",
    "            year_tag_dict[year][tag] = 1"
   ]
  },
  {
   "cell_type": "markdown",
   "metadata": {
    "pycharm": {
     "name": "#%% md\n"
    }
   },
   "source": [
    "## Parse data for visualization 1, force directed graph of tags"
   ]
  },
  {
   "cell_type": "code",
   "execution_count": 4,
   "metadata": {
    "pycharm": {
     "name": "#%%\n"
    }
   },
   "outputs": [],
   "source": [
    "tag_name = {}\n",
    "for i,row in dataset_df.iterrows():\n",
    "    tags = row[\"tags\"]\n",
    "    for tag in tags:\n",
    "        if tag not in tag_name:\n",
    "            tag_name[tag] = 1\n",
    "        else:\n",
    "            tag_name[tag] += 1"
   ]
  },
  {
   "cell_type": "code",
   "execution_count": 5,
   "metadata": {
    "pycharm": {
     "name": "#%%\n"
    }
   },
   "outputs": [
    {
     "data": {
      "image/png": "[encoded data removed]",
      "text/plain": [
       "<Figure size 2000x600 with 1 Axes>"
      ]
     },
     "metadata": {},
     "output_type": "display_data"
    }
   ],
   "source": [
    "import matplotlib.pyplot as plt\n",
    "fig = plt.figure(figsize=(20,6))\n",
    "ax = fig.add_axes([0,0,1,1])\n",
    "langs = tag_name.keys()\n",
    "students = tag_name.values()\n",
    "ax.bar(langs,students)\n",
    "plt.show()"
   ]
  },
  {
   "cell_type": "code",
   "execution_count": 6,
   "metadata": {
    "pycharm": {
     "name": "#%%\n"
    }
   },
   "outputs": [],
   "source": [
    "threshold = 1000\n",
    "drop_num = 0\n",
    "tag_use = []\n",
    "for key in tag_name.keys():\n",
    "    if tag_name[key] <= threshold:\n",
    "        drop_num +=1\n",
    "    else:\n",
    "        tag_use.append(key)"
   ]
  },
  {
   "cell_type": "code",
   "execution_count": 7,
   "metadata": {
    "pycharm": {
     "name": "#%%\n"
    }
   },
   "outputs": [
    {
     "name": "stdout",
     "output_type": "stream",
     "text": [
      "312\n",
      "126\n",
      "['Free to Play', 'Multiplayer', 'Strategy', 'Action', 'Online Co-Op', 'PvP', 'Difficult', 'Co-op', 'Fantasy', 'RPG', 'Character Customization', 'Replay Value', 'Action RPG', 'FPS', 'Shooter', 'Tactical', 'First-Person', 'War', 'Realistic', 'Fast-Paced', 'Open World', 'Adventure', 'PvE', 'Walking Simulator', 'Crafting', 'Third Person', 'Sandbox', 'Violent', 'Sexual Content', 'Funny', 'Cartoony', 'Comedy', 'Cartoon', 'Survival', 'Sci-fi', 'Zombies', 'Post-apocalyptic', 'Singleplayer', 'Indie', 'Casual', 'Racing', 'Atmospheric', 'Great Soundtrack', 'Horror', 'Gore', 'Survival Horror', 'Local Co-Op', 'Space', 'Hack and Slash', 'Isometric', '2D', 'Pixel Graphics', 'Building', 'Exploration', 'Platformer', 'Physics', 'Simulation', '2D Platformer', 'Local Multiplayer', 'Family Friendly', 'Controller', 'Combat', 'VR', 'Historical', 'Relaxing', 'Dark Fantasy', '3D', 'Colorful', 'Short', 'Classic', 'Futuristic', 'Story Rich', 'Dungeon Crawler', 'Stealth', 'Cute', '3D Platformer', \"1990's\", 'Old School', 'Score Attack', 'Nudity', 'Point & Click', 'Psychological Horror', 'Dark', 'Mystery', 'Puzzle', 'Hidden Object', 'Romance', 'Choices Matter', 'Medieval', 'Multiple Endings', 'Magic', 'Management', 'Sports', 'Puzzle-Platformer', 'Female Protagonist', 'Action-Adventure', 'Rogue-lite', 'JRPG', 'Arcade', 'Retro', 'Turn-Based Strategy', 'Turn-Based', 'Drama', 'Choose Your Own Adventure', 'Side Scroller', 'Hand-drawn', 'Surreal', 'Stylized', 'Logic', 'Procedural Generation', 'Turn-Based Tactics', 'Resource Management', 'Anime', 'Linear', 'Rogue-like', 'Top-Down Shooter', 'Top-Down', 'Education', 'Bullet Hell', \"Shoot 'Em Up\", 'Emotional', 'Turn-Based Combat', 'Minimalist', 'Visual Novel', 'Interactive Fiction', 'Abstract']\n"
     ]
    }
   ],
   "source": [
    "print(drop_num)\n",
    "print(len(tag_use))\n",
    "print(tag_use)"
   ]
  },
  {
   "cell_type": "code",
   "execution_count": 8,
   "metadata": {
    "pycharm": {
     "name": "#%%\n"
    }
   },
   "outputs": [],
   "source": [
    "length = len(tag_use)\n",
    "matrix = [[0 for i in range(length)] for i in range(length)]\n",
    "for i, row in dataset_df.iterrows():\n",
    "    tags = row[\"tags\"]\n",
    "    for idx, tag in enumerate(tags):\n",
    "        if tag in tag_use:\n",
    "            for i in range(idx+1,len(tags)):\n",
    "                if tags[i] in tag_use:\n",
    "                    idx1 = tag_use.index(tag)\n",
    "                    idx2 = tag_use.index(tags[i])\n",
    "                    matrix[idx1][idx2] += 1"
   ]
  },
  {
   "cell_type": "code",
   "execution_count": 9,
   "metadata": {
    "pycharm": {
     "name": "#%%\n"
    }
   },
   "outputs": [],
   "source": [
    "maxi = np.amax(matrix)\n",
    "for i in range(length):\n",
    "    for j in range(length):\n",
    "        matrix[i][j] = matrix[i][j]/maxi * 50"
   ]
  },
  {
   "cell_type": "code",
   "execution_count": 10,
   "metadata": {
    "pycharm": {
     "name": "#%%\n"
    }
   },
   "outputs": [],
   "source": [
    "'''\n",
    "GOAL: json\n",
    "{\n",
    "    \"nodes\": [{\"id\": \"tagname1\", \"group\": 1}],\n",
    "    \"links\": [{\"source\": \"tagname1\", \"target\": \"tagname2\", \"value\": co-occurance}]\n",
    "}\n",
    "'''\n",
    "links = []\n",
    "for i in range(length):\n",
    "    for j in range(length):\n",
    "        if i == j: continue\n",
    "        if matrix[i][j] < 5:continue\n",
    "        val = {\"source\":tag_use[i],\"target\":tag_use[j],\"value\":matrix[i][j]}\n",
    "        links.append(val)"
   ]
  },
  {
   "cell_type": "code",
   "execution_count": 11,
   "metadata": {
    "pycharm": {
     "name": "#%%\n"
    }
   },
   "outputs": [],
   "source": [
    "nodes = []\n",
    "for i, tag in enumerate(tag_use):\n",
    "    val = {\"id\": tag, \"group\": i+1}\n",
    "    nodes.append(val)"
   ]
  },
  {
   "cell_type": "code",
   "execution_count": 12,
   "metadata": {
    "pycharm": {
     "name": "#%%\n"
    }
   },
   "outputs": [],
   "source": [
    "vis1_dict = {\"nodes\":nodes,\"links\":links}\n",
    "# Serializing json\n",
    "json_object = json.dumps(vis1_dict, indent=4)\n",
    " \n",
    "# Writing to sample.json\n",
    "with open(\"visualization/vis1.json\", \"w\") as outfile:\n",
    "    outfile.write(json_object)"
   ]
  },
  {
   "cell_type": "markdown",
   "metadata": {
    "collapsed": false,
    "pycharm": {
     "name": "#%% md\n"
    }
   },
   "source": [
    "## Parse data for visualization 2, world cloud of tags"
   ]
  },
  {
   "cell_type": "code",
   "execution_count": 24,
   "metadata": {
    "collapsed": false,
    "pycharm": {
     "name": "#%%\n"
    }
   },
   "outputs": [
    {
     "name": "stdout",
     "output_type": "stream",
     "text": [
      "[440, 99, 187, 223, 1109, 427, 65, 261, 156, 187, 2980, 2860, 120, 384, 316, 52, 554, 210, 333, 352, 399, 213, 1244, 149, 95, 2605, 219, 1032, 167, 1806, 523, 108, 304, 574, 235, 762, 98, 143, 40, 196, 601, 65, 355, 87, 216, 75, 105, 175, 338, 893, 235, 68, 482, 127, 364, 44, 450, 82, 40, 115, 4930, 101, 114, 48, 52, 51, 81, 75, 55, 1321, 92, 143, 110, 41, 101, 34, 36, 121, 123, 109, 64, 169, 277, 65, 60, 57, 454, 208, 431, 169, 43, 145, 526, 48, 48, 393, 380, 85, 80, 81, 51, 86, 482, 213, 60, 138, 97, 30, 45, 48, 121, 341, 244, 53, 61, 53, 33, 32, 84, 173, 67, 425, 136, 43, 44, 190, 98, 120, 92, 127, 34, 93, 146, 508, 120, 33, 65, 66, 120, 41, 42, 51, 39, 99, 78, 45, 35, 30, 44, 45, 102, 415, 147, 90, 101, 85, 45, 130, 64, 532, 91, 40, 82, 217, 39, 53, 161, 30, 30, 113, 35, 31, 83, 139, 32, 37, 382, 30, 97, 56, 60, 85, 179, 56, 173, 63, 51, 32, 91, 34, 88, 237, 60, 138, 42, 103, 70, 105, 37, 31, 97, 35, 69, 65, 57, 160, 73, 44, 50, 98, 30, 41, 38, 32, 30, 91, 58]\n",
      "dict_keys(['Multiplayer', 'Online Co-Op', 'Space', 'Survival', '2D', 'Funny', 'Psychological', 'Co-op', 'Cartoony', 'Local Multiplayer', 'Casual', 'Action', 'PvP', 'Colorful', 'Sci-fi', 'Aliens', 'Free to Play', 'FPS', 'Shooter', 'First-Person', 'Fantasy', 'Controller', 'Strategy', 'Massively Multiplayer', 'Character Customization', 'Adventure', 'Open World', 'RPG', 'Third Person', 'Singleplayer', 'Difficult', 'Action RPG', 'Exploration', 'Great Soundtrack', 'Replay Value', 'Atmospheric', 'Hack and Slash', 'JRPG', 'Souls-like', 'Choices Matter', 'Story Rich', 'Drama', 'Sexual Content', 'Choose Your Own Adventure', 'Point & Click', 'LGBTQ+', 'Walking Simulator', 'Mystery', 'Nudity', 'Puzzle', 'Comedy', 'Stealth', 'Violent', 'Sandbox', 'Gore', 'Third-Person Shooter', 'Horror', 'Crafting', 'Base-Building', 'Survival Horror', 'Indie', 'Dark Fantasy', 'Rogue-lite', 'PvE', 'City Builder', 'RTS', 'Resource Management', 'Medieval', 'Real-Time', 'Simulation', 'War', 'Management', 'Building', 'Moddable', 'Procedural Generation', 'Tactical RPG', 'World War II', 'Memes', 'Zombies', 'Realistic', 'Robots', 'Dark', 'Psychological Horror', 'Post-apocalyptic', 'Economy', 'Tower Defense', 'Family Friendly', '3D', 'Cute', 'Short', 'Hentai', 'Mature', 'Anime', 'NSFW', 'Match 3', 'Female Protagonist', 'Visual Novel', 'Dating Sim', 'Historical', 'Fighting', '2D Fighter', 'Competitive', 'Arcade', 'Fast-Paced', \"Beat 'em up\", 'Local Co-Op', '4 Player Local', 'MMORPG', 'Loot', 'Military', 'Tactical', 'Sports', 'Racing', 'Automobile Sim', 'Driving', 'Flight', 'Parkour', 'Space Sim', 'Futuristic', 'Physics', 'Design & Illustration', 'Relaxing', 'Education', 'Alternate History', 'Destruction', 'Turn-Based', 'Rogue-like', 'Turn-Based Combat', 'Tabletop', 'Turn-Based Strategy', 'Party-Based RPG', 'Board Game', 'Action-Adventure', 'Retro', 'Old School', 'Lovecraftian', \"1990's\", 'Dark Humor', 'Classic', 'Arena Shooter', 'Blood', 'Level Editor', 'Mechs', 'Turn-Based Tactics', 'Isometric', 'Addictive', 'Real Time Tactics', 'CRPG', 'Soundtrack', 'Beautiful', 'Hand-drawn', 'Platformer', 'Puzzle-Platformer', 'Surreal', 'Card Game', 'Magic', 'Runner', 'Multiple Endings', 'Action Roguelike', 'Pixel Graphics', 'Dungeon Crawler', 'Precision Platformer', '2D Platformer', 'Side Scroller', 'Dark Comedy', 'Cyberpunk', 'Top-Down', 'Grand Strategy', 'Life Sim', 'Music', 'Rhythm', 'Political', '3D Platformer', 'Bullet Hell', 'Wargame', 'Demons', 'VR', 'Pirates', 'Romance', 'Detective', 'Narration', 'Clicker', 'Stylized', 'Twin Stick Shooter', \"Shoot 'Em Up\", '1980s', '2.5D', 'Nature', 'Top-Down Shooter', 'Strategy RPG', 'Text-Based', 'Minimalist', 'Perma Death', 'RPGMaker', 'Metroidvania', 'Cartoon', 'Experimental', 'Utilities', 'Video Production', 'Split Screen', 'Hidden Object', 'Word Game', 'Interactive Fiction', 'Time Management', 'Psychedelic', 'Logic', 'Linear', 'Combat', 'Emotional', 'Score Attack', 'Trivia', 'Animation & Modeling', 'GameMaker', 'Audio Production', 'Tutorial', 'Abstract', 'Mouse only'])\n"
     ]
    }
   ],
   "source": [
    "##For now, only choose one year's tag to do the vis\n",
    "tag_list = year_tag_dict[2018].keys()\n",
    "tag_count_list = []\n",
    "\n",
    "for i in list(year_tag_dict[2018].keys()):\n",
    "    if year_tag_dict[2018][i] < 30:\n",
    "        del year_tag_dict[2018][i]\n",
    "\n",
    "for i in tag_list:\n",
    "    tag_count_list.append(year_tag_dict[2018][i])\n",
    "\n",
    "print(tag_count_list)\n",
    "print(tag_list)"
   ]
  },
  {
   "cell_type": "code",
   "execution_count": 25,
   "metadata": {},
   "outputs": [],
   "source": [
    "file = open('./visualization/WordCloud.txt','w')\n",
    "\n",
    "for i in tag_list:\n",
    "    tag_count = year_tag_dict[2018][i]\n",
    "    for j in range(tag_count):\n",
    "        file.write(i + ' ')\n",
    "\n",
    "file.close()"
   ]
  }
 ],
 "metadata": {
  "kernelspec": {
   "display_name": "Python 3.9.13 ('Stats_401')",
   "language": "python",
   "name": "python3"
  },
  "language_info": {
   "codemirror_mode": {
    "name": "ipython",
    "version": 3
   },
   "file_extension": ".py",
   "mimetype": "text/x-python",
   "name": "python",
   "nbconvert_exporter": "python",
   "pygments_lexer": "ipython3",
   "version": "3.9.13"
  },
  "orig_nbformat": 4,
  "vscode": {
   "interpreter": {
    "hash": "a90a608a0fa1cf6d6ce5006a916678be1474a1ea54481c3313acc3c3a7e3f7f2"
   }
  }
 },
 "nbformat": 4,
 "nbformat_minor": 2
}
