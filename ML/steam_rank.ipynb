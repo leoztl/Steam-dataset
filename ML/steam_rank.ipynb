{
 "cells": [
  {
   "cell_type": "code",
   "execution_count": 1,
   "metadata": {
    "collapsed": false
   },
   "outputs": [],
   "source": [
    "import pandas as pd\n",
    "import csv\n",
    "import numpy\n",
    "import sys\n",
    "from ast import literal_eval\n",
    "import math\n",
    "from sklearn import preprocessing"
   ]
  },
  {
   "cell_type": "code",
   "execution_count": 2,
   "metadata": {
    "collapsed": false
   },
   "outputs": [
    {
     "data": {
      "text/plain": "       Unnamed: 0                                      name  steam_appid  \\\n0               0                                    Dota 2          570   \n1               1          Counter-Strike: Global Offensive          730   \n2               2                       PUBG: BATTLEGROUNDS       578080   \n3               3                                 New World      1063730   \n4               4                           Team Fortress 2          440   \n...           ...                                       ...          ...   \n56237       56237                                   Crawler      1506770   \n56238       56238                 Coins Collector Simulator      1868280   \n56239       56239                      You Arrive in a Town      1466190   \n56240       56240  Hidden Treasures in the Forest of Dreams      1853990   \n56241       56241                            The Chaos Gene      1503000   \n\n       release_date  is_free required_age      rate  price     owners  \\\n0              2013     True            0  0.829342      0  350000000   \n1              2012     True            0  0.882848      0   75000000   \n2              2017     True            0  0.565037      0   75000000   \n3              2021    False            0  0.680567   3999   75000000   \n4              2007     True            0  0.936167      0   75000000   \n...             ...      ...          ...       ...    ...        ...   \n56237          2021    False            0  0.416667    399      10000   \n56238          2022    False            0  0.625000    499      10000   \n56239          2021    False            0  0.473684    499      10000   \n56240          2022    False            0  1.000000   1999      10000   \n56241          2021    False            0  1.000000   1299      10000   \n\n                                                    tags  \n0      [Free to Play, MOBA, Multiplayer, Strategy, e-...  \n1      [FPS, Shooter, Multiplayer, Competitive, Actio...  \n2      [Survival, Shooter, Multiplayer, Battle Royale...  \n3      [Massively Multiplayer, Open World, MMORPG, RP...  \n4      [Free to Play, Hero Shooter, Multiplayer, FPS,...  \n...                                                  ...  \n56237  [Adventure, Action RPG, Exploration, Dungeon C...  \n56238  [Casual, Racing, Simulation, Sports, Strategy,...  \n56239  [Indie, Action, Casual, RPG, Action RPG, Arcad...  \n56240  [Relaxing, Nature, Walking Simulator, Procedur...  \n56241  [Early Access, Fighting, Arcade, Indie, Casual...  \n\n[56242 rows x 10 columns]",
      "text/html": "<div>\n<style scoped>\n    .dataframe tbody tr th:only-of-type {\n        vertical-align: middle;\n    }\n\n    .dataframe tbody tr th {\n        vertical-align: top;\n    }\n\n    .dataframe thead th {\n        text-align: right;\n    }\n</style>\n<table border=\"1\" class=\"dataframe\">\n  <thead>\n    <tr style=\"text-align: right;\">\n      <th></th>\n      <th>Unnamed: 0</th>\n      <th>name</th>\n      <th>steam_appid</th>\n      <th>release_date</th>\n      <th>is_free</th>\n      <th>required_age</th>\n      <th>rate</th>\n      <th>price</th>\n      <th>owners</th>\n      <th>tags</th>\n    </tr>\n  </thead>\n  <tbody>\n    <tr>\n      <th>0</th>\n      <td>0</td>\n      <td>Dota 2</td>\n      <td>570</td>\n      <td>2013</td>\n      <td>True</td>\n      <td>0</td>\n      <td>0.829342</td>\n      <td>0</td>\n      <td>350000000</td>\n      <td>[Free to Play, MOBA, Multiplayer, Strategy, e-...</td>\n    </tr>\n    <tr>\n      <th>1</th>\n      <td>1</td>\n      <td>Counter-Strike: Global Offensive</td>\n      <td>730</td>\n      <td>2012</td>\n      <td>True</td>\n      <td>0</td>\n      <td>0.882848</td>\n      <td>0</td>\n      <td>75000000</td>\n      <td>[FPS, Shooter, Multiplayer, Competitive, Actio...</td>\n    </tr>\n    <tr>\n      <th>2</th>\n      <td>2</td>\n      <td>PUBG: BATTLEGROUNDS</td>\n      <td>578080</td>\n      <td>2017</td>\n      <td>True</td>\n      <td>0</td>\n      <td>0.565037</td>\n      <td>0</td>\n      <td>75000000</td>\n      <td>[Survival, Shooter, Multiplayer, Battle Royale...</td>\n    </tr>\n    <tr>\n      <th>3</th>\n      <td>3</td>\n      <td>New World</td>\n      <td>1063730</td>\n      <td>2021</td>\n      <td>False</td>\n      <td>0</td>\n      <td>0.680567</td>\n      <td>3999</td>\n      <td>75000000</td>\n      <td>[Massively Multiplayer, Open World, MMORPG, RP...</td>\n    </tr>\n    <tr>\n      <th>4</th>\n      <td>4</td>\n      <td>Team Fortress 2</td>\n      <td>440</td>\n      <td>2007</td>\n      <td>True</td>\n      <td>0</td>\n      <td>0.936167</td>\n      <td>0</td>\n      <td>75000000</td>\n      <td>[Free to Play, Hero Shooter, Multiplayer, FPS,...</td>\n    </tr>\n    <tr>\n      <th>...</th>\n      <td>...</td>\n      <td>...</td>\n      <td>...</td>\n      <td>...</td>\n      <td>...</td>\n      <td>...</td>\n      <td>...</td>\n      <td>...</td>\n      <td>...</td>\n      <td>...</td>\n    </tr>\n    <tr>\n      <th>56237</th>\n      <td>56237</td>\n      <td>Crawler</td>\n      <td>1506770</td>\n      <td>2021</td>\n      <td>False</td>\n      <td>0</td>\n      <td>0.416667</td>\n      <td>399</td>\n      <td>10000</td>\n      <td>[Adventure, Action RPG, Exploration, Dungeon C...</td>\n    </tr>\n    <tr>\n      <th>56238</th>\n      <td>56238</td>\n      <td>Coins Collector Simulator</td>\n      <td>1868280</td>\n      <td>2022</td>\n      <td>False</td>\n      <td>0</td>\n      <td>0.625000</td>\n      <td>499</td>\n      <td>10000</td>\n      <td>[Casual, Racing, Simulation, Sports, Strategy,...</td>\n    </tr>\n    <tr>\n      <th>56239</th>\n      <td>56239</td>\n      <td>You Arrive in a Town</td>\n      <td>1466190</td>\n      <td>2021</td>\n      <td>False</td>\n      <td>0</td>\n      <td>0.473684</td>\n      <td>499</td>\n      <td>10000</td>\n      <td>[Indie, Action, Casual, RPG, Action RPG, Arcad...</td>\n    </tr>\n    <tr>\n      <th>56240</th>\n      <td>56240</td>\n      <td>Hidden Treasures in the Forest of Dreams</td>\n      <td>1853990</td>\n      <td>2022</td>\n      <td>False</td>\n      <td>0</td>\n      <td>1.000000</td>\n      <td>1999</td>\n      <td>10000</td>\n      <td>[Relaxing, Nature, Walking Simulator, Procedur...</td>\n    </tr>\n    <tr>\n      <th>56241</th>\n      <td>56241</td>\n      <td>The Chaos Gene</td>\n      <td>1503000</td>\n      <td>2021</td>\n      <td>False</td>\n      <td>0</td>\n      <td>1.000000</td>\n      <td>1299</td>\n      <td>10000</td>\n      <td>[Early Access, Fighting, Arcade, Indie, Casual...</td>\n    </tr>\n  </tbody>\n</table>\n<p>56242 rows × 10 columns</p>\n</div>"
     },
     "execution_count": 2,
     "metadata": {},
     "output_type": "execute_result"
    }
   ],
   "source": [
    "raw_rank = pd.read_csv(\"rank.csv\")\n",
    "raw_source = pd.read_csv(\"data.csv\",converters={\"tags\":literal_eval})\n",
    "df = raw_rank\n",
    "raw_source"
   ]
  },
  {
   "cell_type": "code",
   "execution_count": 3,
   "metadata": {
    "collapsed": false
   },
   "outputs": [
    {
     "data": {
      "text/plain": "     Unnamed: 0                              Name  players\n0             0  Counter-Strike: Global Offensive   586446\n1             1                            Dota 2   413327\n2             2               PUBG: BATTLEGROUNDS   184883\n3             3                     Apex Legends™   170289\n4             4                          Lost Ark   127457\n..          ...                               ...      ...\n245         245                         ASTRONEER     1970\n246         246           Incremental Epic Hero 2     1960\n247         247            Batman™: Arkham Knight     1955\n248         248          CarX Drift Racing Online     1948\n249         249                        Subnautica     1932\n\n[250 rows x 3 columns]",
      "text/html": "<div>\n<style scoped>\n    .dataframe tbody tr th:only-of-type {\n        vertical-align: middle;\n    }\n\n    .dataframe tbody tr th {\n        vertical-align: top;\n    }\n\n    .dataframe thead th {\n        text-align: right;\n    }\n</style>\n<table border=\"1\" class=\"dataframe\">\n  <thead>\n    <tr style=\"text-align: right;\">\n      <th></th>\n      <th>Unnamed: 0</th>\n      <th>Name</th>\n      <th>players</th>\n    </tr>\n  </thead>\n  <tbody>\n    <tr>\n      <th>0</th>\n      <td>0</td>\n      <td>Counter-Strike: Global Offensive</td>\n      <td>586446</td>\n    </tr>\n    <tr>\n      <th>1</th>\n      <td>1</td>\n      <td>Dota 2</td>\n      <td>413327</td>\n    </tr>\n    <tr>\n      <th>2</th>\n      <td>2</td>\n      <td>PUBG: BATTLEGROUNDS</td>\n      <td>184883</td>\n    </tr>\n    <tr>\n      <th>3</th>\n      <td>3</td>\n      <td>Apex Legends™</td>\n      <td>170289</td>\n    </tr>\n    <tr>\n      <th>4</th>\n      <td>4</td>\n      <td>Lost Ark</td>\n      <td>127457</td>\n    </tr>\n    <tr>\n      <th>...</th>\n      <td>...</td>\n      <td>...</td>\n      <td>...</td>\n    </tr>\n    <tr>\n      <th>245</th>\n      <td>245</td>\n      <td>ASTRONEER</td>\n      <td>1970</td>\n    </tr>\n    <tr>\n      <th>246</th>\n      <td>246</td>\n      <td>Incremental Epic Hero 2</td>\n      <td>1960</td>\n    </tr>\n    <tr>\n      <th>247</th>\n      <td>247</td>\n      <td>Batman™: Arkham Knight</td>\n      <td>1955</td>\n    </tr>\n    <tr>\n      <th>248</th>\n      <td>248</td>\n      <td>CarX Drift Racing Online</td>\n      <td>1948</td>\n    </tr>\n    <tr>\n      <th>249</th>\n      <td>249</td>\n      <td>Subnautica</td>\n      <td>1932</td>\n    </tr>\n  </tbody>\n</table>\n<p>250 rows × 3 columns</p>\n</div>"
     },
     "execution_count": 3,
     "metadata": {},
     "output_type": "execute_result"
    }
   ],
   "source": [
    "players = df['players']\n",
    "players_replace = []\n",
    "for num in players:\n",
    "    res = num.replace(',','')\n",
    "    res = int(res[0:])\n",
    "    players_replace.append(res)\n",
    "df['players'] = players_replace\n",
    "df"
   ]
  },
  {
   "cell_type": "code",
   "execution_count": 4,
   "metadata": {
    "collapsed": false
   },
   "outputs": [
    {
     "name": "stdout",
     "output_type": "stream",
     "text": [
      "22\n",
      "15                                    EA SPORTS™ FIFA 23\n",
      "18                                                  MIR4\n",
      "42                                 Yu-Gi-Oh! Master Duel\n",
      "44                                          SUPER PEOPLE\n",
      "65                                               Brotato\n",
      "78                                  Torchlight: Infinite\n",
      "84                                             Marauders\n",
      "95                                           Shatterline\n",
      "105                                        Terra Invicta\n",
      "108    Pathfinder: Wrath of the Righteous - Enhanced ...\n",
      "113                                     GUNDAM EVOLUTION\n",
      "114                                      eFootball™ 2023\n",
      "123                                         Coral Island\n",
      "134                                        Idle Skilling\n",
      "150                                       Omega Strikers\n",
      "168                               Construction Simulator\n",
      "183                                          Dome Keeper\n",
      "198                         Farmer Against Potatoes Idle\n",
      "203                                           ヘブンバーンズレッド\n",
      "223                                      Slime Rancher 2\n",
      "240                                           Lost Light\n",
      "246                              Incremental Epic Hero 2\n",
      "Name: Name, dtype: object\n"
     ]
    }
   ],
   "source": [
    "miss_count = 0\n",
    "miss_index = []\n",
    "hit_index = []\n",
    "rate_list = []\n",
    "tags_list = []\n",
    "owner_list = []\n",
    "year_list = []\n",
    "for i in range(len(df['Name'])):\n",
    "    find_flag = 1\n",
    "    target_name = df['Name'][i]\n",
    "    res = raw_source[raw_source.name == target_name].index.tolist()\n",
    "    if res == []:\n",
    "        find_flag = 0\n",
    "    else:\n",
    "        hit_index.append(res[0])\n",
    "    if find_flag == 0:\n",
    "        miss_count += 1\n",
    "        hit_index.append(0)\n",
    "        miss_index.append(i)\n",
    "    else:\n",
    "        continue\n",
    "print(miss_count)\n",
    "miss = df['Name'][miss_index]\n",
    "print(miss)"
   ]
  },
  {
   "cell_type": "code",
   "execution_count": 5,
   "metadata": {
    "collapsed": false
   },
   "outputs": [
    {
     "data": {
      "text/plain": "     Unnamed: 0                              Name  players      rate  \\\n0             0  Counter-Strike: Global Offensive   586446  0.882848   \n1             1                            Dota 2   413327  0.829342   \n2             2               PUBG: BATTLEGROUNDS   184883  0.565037   \n3             3                     Apex Legends™   170289  0.858303   \n4             4                          Lost Ark   127457  0.738609   \n..          ...                               ...      ...       ...   \n245         245                         ASTRONEER     1970  0.914825   \n246         246           Incremental Epic Hero 2     1960  0.829342   \n247         247            Batman™: Arkham Knight     1955  0.840942   \n248         248          CarX Drift Racing Online     1948  0.953353   \n249         249                        Subnautica     1932  0.964148   \n\n        owners  year                                               tags  \n0     75000000  2012  [FPS, Shooter, Multiplayer, Competitive, Actio...  \n1    350000000  2013  [Free to Play, MOBA, Multiplayer, Strategy, e-...  \n2     75000000  2017  [Survival, Shooter, Multiplayer, Battle Royale...  \n3     75000000  2020  [Free to Play, Multiplayer, Battle Royale, Sho...  \n4     35000000  2022  [MMORPG, Free to Play, Action RPG, RPG, Multip...  \n..         ...   ...                                                ...  \n245    3500000  2019  [Multiplayer, Open World, Open World Survival ...  \n246  350000000  2013  [Free to Play, MOBA, Multiplayer, Strategy, e-...  \n247    3500000  2015  [Action, Open World, Superhero, Stealth, Adven...  \n248    1500000  2017  [Racing, Driving, Simulation, Automobile Sim, ...  \n249    3500000  2018  [Open World Survival Craft, Survival, Open Wor...  \n\n[250 rows x 7 columns]",
      "text/html": "<div>\n<style scoped>\n    .dataframe tbody tr th:only-of-type {\n        vertical-align: middle;\n    }\n\n    .dataframe tbody tr th {\n        vertical-align: top;\n    }\n\n    .dataframe thead th {\n        text-align: right;\n    }\n</style>\n<table border=\"1\" class=\"dataframe\">\n  <thead>\n    <tr style=\"text-align: right;\">\n      <th></th>\n      <th>Unnamed: 0</th>\n      <th>Name</th>\n      <th>players</th>\n      <th>rate</th>\n      <th>owners</th>\n      <th>year</th>\n      <th>tags</th>\n    </tr>\n  </thead>\n  <tbody>\n    <tr>\n      <th>0</th>\n      <td>0</td>\n      <td>Counter-Strike: Global Offensive</td>\n      <td>586446</td>\n      <td>0.882848</td>\n      <td>75000000</td>\n      <td>2012</td>\n      <td>[FPS, Shooter, Multiplayer, Competitive, Actio...</td>\n    </tr>\n    <tr>\n      <th>1</th>\n      <td>1</td>\n      <td>Dota 2</td>\n      <td>413327</td>\n      <td>0.829342</td>\n      <td>350000000</td>\n      <td>2013</td>\n      <td>[Free to Play, MOBA, Multiplayer, Strategy, e-...</td>\n    </tr>\n    <tr>\n      <th>2</th>\n      <td>2</td>\n      <td>PUBG: BATTLEGROUNDS</td>\n      <td>184883</td>\n      <td>0.565037</td>\n      <td>75000000</td>\n      <td>2017</td>\n      <td>[Survival, Shooter, Multiplayer, Battle Royale...</td>\n    </tr>\n    <tr>\n      <th>3</th>\n      <td>3</td>\n      <td>Apex Legends™</td>\n      <td>170289</td>\n      <td>0.858303</td>\n      <td>75000000</td>\n      <td>2020</td>\n      <td>[Free to Play, Multiplayer, Battle Royale, Sho...</td>\n    </tr>\n    <tr>\n      <th>4</th>\n      <td>4</td>\n      <td>Lost Ark</td>\n      <td>127457</td>\n      <td>0.738609</td>\n      <td>35000000</td>\n      <td>2022</td>\n      <td>[MMORPG, Free to Play, Action RPG, RPG, Multip...</td>\n    </tr>\n    <tr>\n      <th>...</th>\n      <td>...</td>\n      <td>...</td>\n      <td>...</td>\n      <td>...</td>\n      <td>...</td>\n      <td>...</td>\n      <td>...</td>\n    </tr>\n    <tr>\n      <th>245</th>\n      <td>245</td>\n      <td>ASTRONEER</td>\n      <td>1970</td>\n      <td>0.914825</td>\n      <td>3500000</td>\n      <td>2019</td>\n      <td>[Multiplayer, Open World, Open World Survival ...</td>\n    </tr>\n    <tr>\n      <th>246</th>\n      <td>246</td>\n      <td>Incremental Epic Hero 2</td>\n      <td>1960</td>\n      <td>0.829342</td>\n      <td>350000000</td>\n      <td>2013</td>\n      <td>[Free to Play, MOBA, Multiplayer, Strategy, e-...</td>\n    </tr>\n    <tr>\n      <th>247</th>\n      <td>247</td>\n      <td>Batman™: Arkham Knight</td>\n      <td>1955</td>\n      <td>0.840942</td>\n      <td>3500000</td>\n      <td>2015</td>\n      <td>[Action, Open World, Superhero, Stealth, Adven...</td>\n    </tr>\n    <tr>\n      <th>248</th>\n      <td>248</td>\n      <td>CarX Drift Racing Online</td>\n      <td>1948</td>\n      <td>0.953353</td>\n      <td>1500000</td>\n      <td>2017</td>\n      <td>[Racing, Driving, Simulation, Automobile Sim, ...</td>\n    </tr>\n    <tr>\n      <th>249</th>\n      <td>249</td>\n      <td>Subnautica</td>\n      <td>1932</td>\n      <td>0.964148</td>\n      <td>3500000</td>\n      <td>2018</td>\n      <td>[Open World Survival Craft, Survival, Open Wor...</td>\n    </tr>\n  </tbody>\n</table>\n<p>250 rows × 7 columns</p>\n</div>"
     },
     "execution_count": 5,
     "metadata": {},
     "output_type": "execute_result"
    }
   ],
   "source": [
    "for i in hit_index:\n",
    "    rate_list.append(raw_source['rate'][i])\n",
    "    owner_list.append(raw_source['owners'][i])\n",
    "    year_list.append(raw_source['release_date'][i])\n",
    "    tags_list.append(raw_source['tags'][i])\n",
    "df['rate'] = rate_list\n",
    "df['owners'] = owner_list\n",
    "df['year'] = year_list\n",
    "df['tags'] = tags_list\n",
    "df"
   ]
  },
  {
   "cell_type": "code",
   "execution_count": 6,
   "metadata": {
    "collapsed": false
   },
   "outputs": [
    {
     "data": {
      "text/plain": "list"
     },
     "execution_count": 6,
     "metadata": {},
     "output_type": "execute_result"
    }
   ],
   "source": [
    "type(df['tags'][0])"
   ]
  },
  {
   "cell_type": "code",
   "execution_count": 7,
   "metadata": {
    "collapsed": false
   },
   "outputs": [
    {
     "name": "stdout",
     "output_type": "stream",
     "text": [
      "['FPS', 'Shooter', 'Multiplayer', 'Competitive', 'Action', 'Team-Based', 'e-sports', 'Tactical', 'First-Person', 'PvP', 'Online Co-Op', 'Co-op', 'Strategy', 'Military', 'War', 'Difficult', 'Trading', 'Realistic', 'Fast-Paced', 'Free to Play', 'MOBA', 'RTS', 'Tower Defense', 'Fantasy', 'RPG', 'Character Customization', 'Replay Value', 'Action RPG', 'Survival', 'Battle Royale', 'Third-Person Shooter', 'Early Access', 'Third Person', 'Simulation', 'Hero Shooter', 'Sci-fi', 'Loot', 'Funny', 'Lore-Rich', 'Cyberpunk', 'MMORPG', 'Hack and Slash', 'Massively Multiplayer', 'Adventure', 'PvE', 'Isometric', 'Sexual Content', 'Class-Based', 'Violent', 'Gore', 'Cartoony', 'Comedy', 'Robots', 'Cartoon', 'Open World', 'Crime', 'Automobile Sim', 'Mature', 'Singleplayer', 'Racing', 'Atmospheric', 'Sandbox', 'Great Soundtrack', 'Crafting', 'Open World Survival Craft', 'Building', 'Nudity', 'Indie', 'Post-apocalyptic', '2D', 'Pixel Graphics', 'Exploration', 'Platformer', 'Futuristic', 'Story Rich', 'Looter Shooter', 'Space', 'Zombies', 'Casual', 'Martial Arts', 'Parkour', 'Swordplay', 'Female Protagonist', 'Fighting', 'Anime', 'Dinosaurs', 'Base-Building', 'Dragons', 'Driving', 'Combat Racing', 'Arcade', 'Sports', 'Split Screen', 'Destruction', 'Ninja', 'Vehicular Combat', 'Combat', 'VR', 'World War II', 'Flight', 'Naval Combat', 'Modern', 'Tanks', 'Cold War', 'Historical', 'Management', 'Soccer', 'Real Time Tactics', 'Football', '3D', 'Turn-Based Strategy', 'Turn-Based', 'Grand Strategy', '4X', 'City Builder', 'Moddable', 'Hex Grid', 'Heist', 'Stealth', 'Gun Customization', 'Horror', 'Survival Horror', 'Blood', 'Psychological Horror', 'Alternate History', 'Real-Time with Pause', 'Diplomacy', 'Walking Simulator', 'Physics', 'Dark Fantasy', 'Colorful', 'Games Workshop', 'Souls-like', 'Relaxing', 'Farming Sim', 'Life Sim', 'Agriculture', 'Cute', 'Dating Sim', 'JRPG', 'Magic', 'Mod', 'Animation & Modeling', 'Controller', 'Local Multiplayer', 'Local Co-Op', 'Family Friendly', 'Immersive Sim', 'Voxel', 'Procedural Generation', 'Hunting', 'Nature', 'Memes', 'Hentai', 'NSFW', 'Transportation', 'Economy', 'Colony Sim', 'Tactical RPG', 'Western', 'Supernatural', 'Investigation', 'Dark', 'Mystery', 'Demons', 'Detective', 'Thriller', 'Classic', 'Remake', 'America', 'Political', 'Nonlinear', 'Resource Management', 'Education', '3D Platformer', 'Cooking', 'Medieval', 'Horses', 'Addictive', 'Automation', 'Beautiful', 'Choices Matter', 'Choose Your Own Adventure', 'Rogue-lite', 'Dungeon Crawler', 'Inventory Management', 'Mythology', 'Rogue-like', 'Strategy RPG', 'Real-Time', 'Action Roguelike', 'Perma Death', 'Trains', 'Multiple Endings', 'Romance', 'Basketball', '4 Player Local', '2D Fighter', '2D Platformer', 'Dark Comedy', 'Capitalism', 'Assassin', 'Space Sim', 'Clicker', 'Idler', 'Collectathon', 'Touch-Friendly', 'Music', 'Precision Platformer', 'Level Editor', 'Rhythm', 'Side Scroller', 'Social Deduction', 'Psychological', \"1990's\", 'Old School', 'Score Attack', '1980s', 'Pirates', 'Sailing', 'Naval', 'Deckbuilding', 'Gambling', 'Underwater', 'Wargame', 'Roguelike Deckbuilder', 'Card Game', 'Card Battler', 'Mouse only', 'Action RTS', 'CRPG', 'Party-Based RPG', 'Co-op Campaign', '3D Vision', 'TrackIR', 'Bullet Hell', 'Vampire', 'Retro', 'Dungeons & Dragons', 'Cinematic', 'Top-Down', 'Top-Down Shooter', 'Soundtrack', 'Party Game', 'Minigames', 'Aliens', 'Surreal', 'Short', 'Epic', 'Fishing', 'Submarine', 'Mining', 'Minimalist', 'Point & Click', '3D Fighter', \"Beat 'em up\", 'Rome', 'Turn-Based Tactics', 'Trading Card Game', 'World War I', 'Hand-drawn', 'Action-Adventure', 'Time Management', 'Time Manipulation', 'Superhero', 'Comic Book', 'Metroidvania', 'Illuminati', 'Tabletop', 'Board Game', 'Sniper', 'Puzzle', 'Puzzle-Platformer', 'Cult Classic', 'Spaceships', 'Political Sim', 'Politics', 'Quick-Time Events', 'Steampunk', 'Emotional', 'Science', 'Motorbike', 'Archery', 'Kickstarter', 'Turn-Based Combat', 'Lovecraftian', 'Gothic', 'Dark Humor', 'Mechs', 'LGBTQ+', 'Twin Stick Shooter', 'Snow', 'ATV', '2.5D', 'Vikings', 'Dynamic Narration', 'Narration', 'Creature Collector', 'Design & Illustration', 'Experimental', 'Auto Battler', 'Chess', 'Roguevania', 'Programming', 'Tutorial']\n"
     ]
    }
   ],
   "source": [
    "final_tag_list = []\n",
    "for tags_list in df['tags']:\n",
    "    for tag in tags_list:\n",
    "        if tag not in final_tag_list:\n",
    "            final_tag_list.append(tag)\n",
    "print(final_tag_list)"
   ]
  },
  {
   "cell_type": "code",
   "execution_count": 8,
   "outputs": [
    {
     "name": "stdout",
     "output_type": "stream",
     "text": [
      "[40.560954130789376, 41.522331341098855, 59.7575016211354, 40.84294308690303, 58.54034506218766, 43.658114938691526, 36.28364645401561, 36.92574982312479, 44.95174078942883, 48.53275182801816, 49.64591624695833, 54.387305504133955, 46.03925498962814, 28.194077392246765, 29.861563924215357, 39.72711920086831, 26.61743789323082, 30.574777186432613, 24.37933551186332, 37.41730882893638, 25.156092701371573, 27.336751818751253, 25.51117402237694, 32.81665735567838, 38.56227431052271, 38.4809563290727, 28.920217841503195, 32.009576691983916, 32.672526685274896, 21.117954446394663, 19.918132442576034, 24.700101214367525, 28.28565007207719, 31.531888620886637, 17.59826696012991, 23.125743231299612, 16.837844280073384, 24.62023557970151, 17.263458517921602, 15.301731928118464, 18.820175344560422, 15.900534582208236, 27.43084030794536, 36.96705289849328, 20.02011488478525, 13.961446916419515, 17.040011737085155, 15.914647341364496, 20.97801229859493, 18.27744511686467, 12.347307398781323, 17.44319351495018, 10.399086498342054, 10.391871823689897, 36.01646845541634, 11.014899000898739, 12.467718315714388, 15.428544973522293, 38.929461850891286, 13.465957077014616, 27.74379209841365, 30.73271872125862, 25.045438706479064, 22.504599529873886, 20.776669608000216, 22.269710370815332, 16.625281952496323, 23.597118468151997, 16.586289518756143, 18.21727202409845, 11.916543122902718, 21.05374076025446, 9.823950325607312, 9.91947579260114, 17.763304872686277, 12.592180113070174, 13.924618486694706, 13.573319417150694, 19.049409439665048, 8.10067898388771, 10.972966782051243, 8.23352901251948, 10.725716759266021, 8.779236868885587, 12.478701855561743, 7.428929936404031, 15.518505082642463, 9.073092085942918, 10.603112750508693, 6.488913622479498, 9.61914757138074, 12.60904437298878, 6.72621736193531, 10.236307928154565, 6.876917914298527, 6.958376247372658, 10.594574082991729, 10.106186224288567, 10.75379002956632, 6.864400920692205, 6.6748033678903225, 8.644940716974293, 8.017106710029498, 6.100901572718576, 16.316801157089586, 16.923179370319275, 7.514918495898675, 9.09422893927792, 7.514918495898675, 15.070069674689629, 10.385278041535528, 9.90267640590159, 13.241072464117098, 8.046676332499029, 11.484598382181243, 18.2465339174321, 6.987989696615187, 5.816442211524155, 10.736107301997313, 6.278057024271123, 15.24975409637808, 12.009329706524007, 7.082584274119158, 9.095768246827753, 7.417614171686203, 9.998799927991358, 8.866510023678991, 6.474874516158595, 12.16067432340822, 10.299320365927064, 9.956856933791908, 6.070255348830064, 8.557394463269764, 10.495141733202082, 6.95298497050008, 6.358537567711619, 6.917947672539884, 9.837072735321213, 7.2725511342306834, 8.119359580656592, 10.29504735297512, 6.192172478217963, 4.615625634732522, 10.65110322924344, 8.49170183178849, 9.764271606218255, 12.937310385083912, 10.881544008090028, 4.716778561688051, 9.83961381355996, 5.78005190288115, 6.7949245764761805, 6.563611810581121, 4.349942528355978, 4.6183330325995335, 5.132250968142536, 11.277987409108064, 6.259712453459824, 5.327475950203811, 6.898695528866309, 4.207374478222731, 4.207374478222731, 8.418135185419631, 4.207374478222731, 4.7236638322387, 4.433621544516401, 4.207374478222731, 8.614058277025993, 6.703133595565585, 5.3, 5.742821606144492, 3.9755502763768438, 11.487340858527702, 4.558947246898126, 4.674719242906465, 4.987584585748897, 11.29305096065718, 5.962382074305537, 5.385350499271148, 6.600606032782141, 6.561173675494347, 7.385120175054703, 4.4505055892561245, 9.256835312351624, 7.346019330222321, 3.664423556304593, 6.945718105422937, 7.954244150137711, 4.432155231938521, 5.6358672801974325, 6.969863700245508, 4.866518262577467, 3.996123121226372, 4.456007181322759, 4.158605535513076, 4.277733044499154, 5.744649684706631, 3.988608780013402, 4.037573528742232, 3.192647803939545, 3.950443013131565, 5.114978005817815, 4.901122320448654, 5.359757457198973, 5.9836443744594305, 3.759521246116319, 4.126257384119416, 2.9688381565858384, 2.9688381565858384, 3.706345909382987, 2.9688381565858384, 3.744329045369811, 3.6952672433803757, 3.6952672433803757, 3.3461918653896703, 3.6990539331023546, 4.22918431851817, 3.3461918653896703, 2.810338057956729, 3.1484917023870334, 4.721016839622583, 5.161395160225576, 2.79320604324135, 3.788007391756252, 4.036087214122113, 3.0399013141876825, 4.811756436063654, 3.60374804890686, 2.6374229846575616, 2.536335939894398, 2.5244801445050027, 3.1122339243700816, 3.9010255061970565, 2.5083859352181035, 3.374314745248285, 2.9383668933610045, 2.9834543737084367, 2.50019999200064, 2.4372115213907883, 3.6562275640337267, 4.701701819554278, 2.353295561547678, 2.3265854809140367, 2.3101947969814147, 2.3101947969814147, 4.044007912949726, 2.2569891448564836, 2.2569891448564836, 2.8509647489928738, 3.8030251116709706, 2.203860249652868, 2.6157216977346804, 2.1473239159474753, 3.5386438080145903, 2.138924963620744, 3.1199358967773683, 2.116128540519219, 4.349597682544904, 3.437149982180004, 2.073644135332772, 3.888701582790842, 3.954870415070512, 1.977371993328519, 1.977371993328519, 2.9794294755875663, 2.9794294755875663, 2.3949947807876324, 3.007324392213118, 2.4130893062628247, 2.8144271175498576, 1.90840247327444, 3.671920478441765, 2.88911751232102, 1.8716303053755035, 1.7694631954352709, 1.7535677916750183, 1.7535677916750183, 1.7140595088852664, 1.709678332318685, 2.786933798998462, 2.2967368155711703, 1.665232716469383, 1.6571059109181887, 2.1757757237362494, 2.6760044843011754, 1.621419131501784, 1.621419131501784, 1.6121414330014598, 1.6074825037928095, 1.5514509338035798, 1.543696861433617, 1.5329709716755893, 1.5329709716755893, 1.5319921670818033, 1.5198684153570663, 1.5102979838429236, 1.5102979838429236, 1.498999666444259, 1.4815532390029054, 1.4580809305384939, 1.4484474446799924, 1.4484474446799924, 1.4247806848775006, 1.419506956657839, 1.419506956657839]\n"
     ]
    }
   ],
   "source": [
    "final_score_list = [0 for i in range(len(final_tag_list))]\n",
    "for index, row in df.iterrows():\n",
    "    score = row['players'] /1000\n",
    "    tags = row['tags']\n",
    "    for tag in tags:\n",
    "        for i in range(len(final_tag_list)):\n",
    "            if tag == final_tag_list[i]:\n",
    "                final_score_list[i] += score\n",
    "for i in range(len(final_score_list)):\n",
    "    final_score_list[i] = math.sqrt(final_score_list[i])\n",
    "print(final_score_list)"
   ],
   "metadata": {
    "collapsed": false
   }
  },
  {
   "cell_type": "code",
   "execution_count": 9,
   "metadata": {},
   "outputs": [],
   "source": [
    "'''\n",
    "dictionary\n",
    "key: year\n",
    "val: dictionary mapping tag to number\n",
    "'''\n",
    "year_tag_dict = {}\n",
    "for index, row in raw_source.iterrows():\n",
    "    year = row[\"release_date\"]\n",
    "    tags = row[\"tags\"]\n",
    "    if year in year_tag_dict:\n",
    "        tag_count_dict = year_tag_dict[year]\n",
    "        for tag in tags:\n",
    "            if tag in tag_count_dict:\n",
    "                tag_count_dict[tag] += 1\n",
    "            else:\n",
    "                tag_count_dict[tag] = 1\n",
    "    else:\n",
    "        year_tag_dict[year] = {}\n",
    "        for tag in tags:\n",
    "            year_tag_dict[year][tag] = 1"
   ]
  },
  {
   "cell_type": "code",
   "execution_count": 10,
   "metadata": {},
   "outputs": [],
   "source": [
    "tag_name = []\n",
    "for idx, row in raw_source.iterrows():\n",
    "    tags = row[\"tags\"]\n",
    "    for tag in tags:\n",
    "        if tag not in tag_name:\n",
    "            tag_name.append(tag)"
   ]
  },
  {
   "cell_type": "code",
   "execution_count": 11,
   "outputs": [
    {
     "data": {
      "text/plain": "['Free to Play',\n 'MOBA',\n 'Multiplayer',\n 'Strategy',\n 'e-sports',\n 'Team-Based',\n 'Competitive',\n 'Action',\n 'Online Co-Op',\n 'PvP',\n 'Difficult',\n 'Co-op',\n 'RTS',\n 'Tower Defense',\n 'Fantasy',\n 'RPG',\n 'Character Customization',\n 'Replay Value',\n 'Action RPG',\n 'FPS',\n 'Shooter',\n 'Tactical',\n 'First-Person',\n 'Military',\n 'War',\n 'Trading',\n 'Realistic',\n 'Fast-Paced',\n 'Survival',\n 'Battle Royale',\n 'Third-Person Shooter',\n 'Early Access',\n 'Third Person',\n 'Simulation',\n 'Massively Multiplayer',\n 'Open World',\n 'MMORPG',\n 'Adventure',\n 'PvE',\n 'Walking Simulator',\n 'Crafting',\n 'Open World Survival Craft',\n 'Sandbox',\n 'Violent',\n 'Sexual Content',\n 'Hero Shooter',\n 'Class-Based',\n 'Funny',\n 'Cartoony',\n 'Comedy',\n 'Robots',\n 'Cartoon',\n 'Sci-fi',\n 'Loot',\n 'Lore-Rich',\n 'Cyberpunk',\n 'Zombies',\n 'Post-apocalyptic',\n 'Singleplayer',\n 'Indie',\n 'Casual',\n 'Crime',\n 'Automobile Sim',\n 'Mature',\n 'Racing',\n 'Atmospheric',\n 'Great Soundtrack',\n 'Horror',\n 'Gore',\n 'Moddable',\n 'Survival Horror',\n 'Local Co-Op',\n 'Looter Shooter',\n 'Space',\n 'Parkour',\n 'Ninja',\n 'Building',\n 'Nudity',\n 'Hack and Slash',\n 'Isometric',\n '2D',\n 'Pixel Graphics',\n 'Exploration',\n 'Platformer',\n 'Mod',\n 'Physics',\n 'Animation & Modeling',\n 'Fighting',\n '2D Fighter',\n '2D Platformer',\n 'Local Multiplayer',\n 'Family Friendly',\n 'Controller',\n '4 Player Local',\n 'Vehicular Combat',\n 'Combat',\n 'VR',\n 'World War II',\n 'Flight',\n 'Naval Combat',\n 'Modern',\n 'Tanks',\n 'Cold War',\n 'Historical',\n 'Destruction',\n 'Souls-like',\n 'Relaxing',\n 'Dark Fantasy',\n '3D',\n 'Social Deduction',\n 'Psychological',\n 'Party Game',\n 'Minigames',\n 'Colorful',\n 'Aliens',\n 'Short',\n 'Dystopian ',\n 'Classic',\n 'Benchmark',\n 'Futuristic',\n 'Silent Protagonist',\n 'Story Rich',\n 'Dungeon Crawler',\n 'Inventory Management',\n 'Base-Building',\n 'Mythology',\n 'Heist',\n 'Stealth',\n 'Gun Customization',\n 'Utilities',\n 'Software',\n 'Anime',\n 'Design & Illustration',\n 'Memes',\n 'Cute',\n 'NSFW',\n 'Photo Editing',\n 'Game Development',\n '3D Platformer',\n 'Cinematic',\n 'Tactical RPG',\n 'Management',\n 'Choose Your Own Adventure',\n 'Dating Sim',\n 'Hand-drawn',\n 'Action-Adventure',\n \"1990's\",\n 'Old School',\n 'Score Attack',\n '1980s',\n 'Assassin',\n 'Point & Click',\n 'Psychological Horror',\n 'Dark',\n 'Mystery',\n 'Puzzle',\n 'Hidden Object',\n 'Romance',\n 'Dark Humor',\n 'Choices Matter',\n 'Medieval',\n 'Multiple Endings',\n 'Magic',\n 'Blood',\n 'Dinosaurs',\n 'Dragons',\n 'Hentai',\n 'Farming Sim',\n 'Life Sim',\n 'Agriculture',\n 'Driving',\n 'Transportation',\n 'Immersive Sim',\n 'Economy',\n 'Soccer',\n 'Sports',\n 'Football',\n 'Split Screen',\n 'Arena Shooter',\n 'Puzzle-Platformer',\n 'Female Protagonist',\n 'Level Editor',\n 'Science',\n 'Naval',\n 'Supernatural',\n 'Investigation',\n 'Demons',\n 'Detective',\n 'Thriller',\n 'Rogue-lite',\n 'JRPG',\n 'Voxel',\n 'Arcade',\n 'Horses',\n 'Retro',\n 'Turn-Based Strategy',\n 'Turn-Based',\n '4X',\n 'Addictive',\n 'Hex Grid',\n 'Grand Strategy',\n 'Diplomacy',\n 'Underwater',\n 'Episodic',\n 'Drama',\n 'LGBTQ+',\n 'Metroidvania',\n \"Beat 'em up\",\n 'Wrestling',\n 'Side Scroller',\n 'Steampunk',\n 'Surreal',\n 'Stylized',\n 'Logic',\n 'Basketball',\n 'Capitalism',\n 'Noir',\n 'Card Battler',\n 'Auto Battler',\n 'Card Game',\n 'Deckbuilding',\n 'Procedural Generation',\n 'Space Sim',\n 'Turn-Based Tactics',\n 'Chess',\n 'Board Game',\n 'Automation',\n 'Conspiracy',\n 'Cult Classic',\n 'City Builder',\n 'Resource Management',\n 'Real-Time with Pause',\n 'Quick-Time Events',\n 'Reboot',\n 'Martial Arts',\n 'Swordplay',\n 'Narration',\n 'Action Roguelike',\n 'Rogue-like',\n 'Soundtrack',\n 'Kickstarter',\n 'Remake',\n 'Western',\n 'Beautiful',\n 'Linear',\n 'Gaming',\n 'Character Action Game',\n 'Clicker',\n 'Touch-Friendly',\n 'Idler',\n 'Cooking',\n 'Epic',\n 'Hunting',\n 'World War I',\n 'Time Travel',\n 'Time Manipulation',\n 'Real-Time',\n 'Games Workshop',\n 'Real Time Tactics',\n 'Trains',\n 'Dungeons & Dragons',\n 'Pirates',\n 'Sailing',\n 'Perma Death',\n 'Cats',\n 'Alternate History',\n 'Twin Stick Shooter',\n 'Top-Down Shooter',\n 'Villain Protagonist',\n 'Top-Down',\n 'Dark Comedy',\n 'CRPG',\n 'Party-Based RPG',\n 'Strategy RPG',\n 'Co-op Campaign',\n 'Colony Sim',\n 'Illuminati',\n 'Based On A Novel',\n 'Hacking',\n 'Nature',\n 'Video Production',\n 'GameMaker',\n '3D Vision',\n 'Tabletop',\n 'Superhero',\n 'Parody ',\n 'Political',\n 'Nonlinear',\n 'Education',\n 'Satire',\n '2.5D',\n 'Well-Written',\n 'Bullet Hell',\n \"Shoot 'Em Up\",\n 'Vampire',\n 'Emotional',\n 'Spectacle fighter',\n 'Roguevania',\n 'Warhammer 40K',\n 'Lovecraftian',\n 'Gothic',\n 'Roguelike Deckbuilder',\n 'Mouse only',\n 'Trading Card Game',\n 'Wargame',\n 'Comic Book',\n 'Turn-Based Combat',\n 'Music',\n 'Precision Platformer',\n 'Rhythm',\n 'Minimalist',\n 'Immersive',\n 'Vikings',\n 'TrackIR',\n 'America',\n 'Fishing',\n 'Experimental',\n 'Political Sim',\n 'Politics',\n 'Combat Racing',\n 'Visual Novel',\n 'Sniper',\n 'Music-Based Procedural Generation',\n 'Rome',\n 'Mechs',\n 'Unforgiving',\n 'Philosophical',\n 'Spaceships',\n 'Time Attack',\n '3D Fighter',\n 'Psychedelic',\n 'Mystery Dungeon',\n 'Grid-Based Movement',\n 'Nostalgia',\n 'Dynamic Narration',\n 'Match 3',\n 'Outbreak Sim',\n 'Action RTS',\n 'Mini Golf',\n 'Golf',\n 'Collectathon',\n 'Tutorial',\n 'Offroad',\n 'Bullet Time',\n 'Ambient',\n 'LEGO',\n 'God Game',\n 'Crowdfunded',\n 'Transhumanism',\n 'Mars',\n 'Movie',\n 'Motorbike',\n 'Intentionally Awkward Controls',\n 'Medical Sim',\n 'Party',\n 'Creature Collector',\n 'Interactive Fiction',\n 'Text-Based',\n 'RPGMaker',\n 'Submarine',\n 'Jump Scare',\n 'FMV',\n 'Typing',\n 'Programming',\n 'Word Game',\n 'Time Management',\n 'Abstract',\n 'Hardware',\n 'Runner',\n 'Artificial Intelligence',\n 'Archery',\n 'Conversation',\n 'Audio Production',\n 'Escape Room',\n 'Musou',\n 'Werewolves',\n '6DOF',\n 'Snowboarding',\n 'Skiing',\n 'Snow',\n 'Gambling',\n 'Dog',\n 'Faith',\n 'Asymmetric VR',\n 'Jet',\n 'Asynchronous Multiplayer',\n 'Boss Rush',\n 'Software Training',\n 'Mining',\n 'Spelling',\n 'Skating',\n 'Boxing',\n 'Traditional Roguelike',\n 'Underground',\n 'Pinball',\n 'Voice Control',\n 'Foreign',\n 'Web Publishing',\n 'Narrative',\n 'Farming',\n 'Rock Music',\n 'Skateboarding',\n 'Sokoban',\n 'Cozy',\n 'Sequel',\n 'Wholesome',\n 'On-Rails Shooter',\n 'Pool',\n 'Bowling',\n 'Experience',\n 'Snooker',\n 'Hockey',\n 'Tennis',\n 'Trivia',\n '360 Video',\n 'Cycling',\n 'Bikes',\n 'BMX',\n 'Electronic Music',\n 'Tile-Matching',\n 'Motocross',\n 'Otome',\n 'ATV',\n 'Lemmings',\n 'Solitaire',\n 'Documentary',\n 'Feature Film',\n 'Mahjong',\n 'Baseball',\n 'Shop Keeper',\n 'Electronic',\n 'Job Simulator',\n 'Steam Machine',\n 'Cricket',\n 'Instrumental Music',\n '8-bit Music',\n 'Volleyball',\n 'Rugby',\n 'Masterpiece']"
     },
     "execution_count": 11,
     "metadata": {},
     "output_type": "execute_result"
    }
   ],
   "source": [
    "tag_name"
   ],
   "metadata": {
    "collapsed": false
   }
  },
  {
   "cell_type": "code",
   "execution_count": 12,
   "metadata": {},
   "outputs": [],
   "source": [
    "years = list(year_tag_dict.keys())\n",
    "years.sort()"
   ]
  },
  {
   "cell_type": "code",
   "execution_count": 13,
   "outputs": [
    {
     "data": {
      "text/plain": "[1997,\n 1998,\n 1999,\n 2000,\n 2001,\n 2002,\n 2003,\n 2004,\n 2005,\n 2006,\n 2007,\n 2008,\n 2009,\n 2010,\n 2011,\n 2012,\n 2013,\n 2014,\n 2015,\n 2016,\n 2017,\n 2018,\n 2019,\n 2020,\n 2021,\n 2022]"
     },
     "execution_count": 13,
     "metadata": {},
     "output_type": "execute_result"
    }
   ],
   "source": [
    "years"
   ],
   "metadata": {
    "collapsed": false
   }
  },
  {
   "cell_type": "code",
   "execution_count": 14,
   "metadata": {},
   "outputs": [],
   "source": [
    "rating = [[0 for i in range(len(tag_name))] for j in range(len(years))]\n",
    "owners = [[0 for i in range(len(tag_name))] for j in range(len(years))]\n",
    "for idx, row in raw_source.iterrows():\n",
    "    year = row[\"release_date\"]\n",
    "    tags = row[\"tags\"]\n",
    "    rate = row[\"rate\"]\n",
    "    if math.isnan(rate):\n",
    "        continue\n",
    "    sales = row[\"owners\"]\n",
    "    idx1 = years.index(year)\n",
    "    for tag in tags:\n",
    "        idx2 = tag_name.index(tag)\n",
    "        rating[idx1][idx2] += sales * rate\n",
    "        owners[idx1][idx2] += sales"
   ]
  },
  {
   "cell_type": "code",
   "execution_count": 15,
   "outputs": [],
   "source": [
    "for i in range(len(years)):\n",
    "    for j in range(len(tag_name)):\n",
    "        if owners[i][j] != 0:\n",
    "            rating [i][j] = rating[i][j] / owners[i][j]"
   ],
   "metadata": {
    "collapsed": false
   }
  },
  {
   "cell_type": "code",
   "execution_count": 16,
   "outputs": [],
   "source": [
    "tag_count_list = []\n",
    "for i in range(len(years)):\n",
    "    tag_count = 0\n",
    "    for j in range(len(tag_name)):\n",
    "        try:\n",
    "            tag_count += year_tag_dict[years[i]][tag_name[j]]\n",
    "        except:\n",
    "            tag_count += 0\n",
    "    tag_count_list.append(tag_count)"
   ],
   "metadata": {
    "collapsed": false
   }
  },
  {
   "cell_type": "code",
   "execution_count": 17,
   "outputs": [],
   "source": [
    "share = [[0 for i in range(len(tag_name))] for j in range(len(years))]\n",
    "for i in range(len(years)):\n",
    "    for j in range(len(tag_name)):\n",
    "        try:\n",
    "            share[i][j] = year_tag_dict[years[i]][tag_name[j]]/tag_count_list[i]\n",
    "        except:\n",
    "            share[i][j] = 0"
   ],
   "metadata": {
    "collapsed": false
   }
  },
  {
   "cell_type": "code",
   "execution_count": 18,
   "outputs": [
    {
     "name": "stdout",
     "output_type": "stream",
     "text": [
      "[1.3138096935767363, 1.4214013490787347, 2.0680641923709873, 1.298963245914434, 2.071212099141617, 0.6984419457657798, 1.4142296847088476, 1.5968705876281808, 1.6000654601699205, 1.9358967575681463, 2.054661440292848, 2.3955323387089065, 1.9678173618464712, 0.6107109913297826, 1.4296129141570857, 2.725529909794717, 1.1054753283538932, 0.9575890861075442, 2.4552075812934824, 1.3871313169801691, 0.33296184671172346, 1.2870628301992115, 1.289110557759665, 2.1195883195250342, 2.0924301187377736, 1.6970261987769009, 2.60505315474999, 2.0700580959181525, 2.0601299171067957, 0.4529865031866631, 0.5326823593014873, 2.097117099451454, 2.6027702411849973, 2.2006938373794096, 1.6306971501292744, 1.9291658103856812, 1.1787971896316551, 2.548251837026736, 2.0409977347658783, 2.5582548126875713, 1.3904419528058465, 1.646198651744103, 1.3049630143179847, 1.9661800700109444, 1.4769660940897544, 1.4866773137584999, 1.4603298819085386, 1.4930717548365025, 2.124429406835856, 1.6282590196561775, 2.1715410488836797, 2.5675842868407472, 2.783086447847105, 2.564692655233962, 2.701407963247094, 1.1457980360256592, 0.8944687211253632, 2.1551974764879955, 2.4902615099617966, 1.6313780705865044, 2.4901801841935187, 2.364160855799964, 3.0262663316821348, 2.501033760549137, 2.6273149501726945, 2.3345261463578773, 1.9014979886485195, 2.375084927088953, 1.203683269936996, 2.314705999185176, 2.2981305610161726, 2.2044795120452374, 2.833036595486461, 1.6103307246318976, 2.3159602091770415, 0.44966099503497947, 1.7002960487339691, 1.4791299931844792, 2.0844549096911424, 1.9835829268356797, 2.304476512101825, 1.5797865442224923, 2.415844210182488, 2.619567967553389, 2.3640207855797635, 3.105607202016587, 2.50419976285019, 2.384094909389156, 1.6732527349022353, 2.151287442569113, 2.3199898909767014, 1.615896397694081, 1.6837028153085332, 2.582901175664576, 2.5031536467012083, 2.3219659287932712, 1.8305387515916516, 1.2069264456698647, 0.7917947242822188, 1.7804843387852587, 1.3201105227754006, 1.9722811940593, 1.9430393880724384, 0.881453796660634, 0.8117126421977139, 1.808533669133987, 2.833224348122245, 0.8045546628937972, 1.722903934746679, 2.396326759791252, 1.6326033208195512, 2.534071052633741, 0.48090788968143783, 1.9002739207452868, 1.7745748216059487, 2.4004404563292803, 2.5066785326828347, 1.6044842458526476, 1.2329898498279634, 1.203086878184082, 1.8876677897766814, 1.2548235596987933, 1.7974730471597422, 1.8597789894681105, 1.8672479490691085, 2.1903954473063014, 2.262578732888587, 1.4653562785000285, 2.485631267796118, 2.557408850069974, 2.390229420587043, 0.8536437104509986, 2.8088387641406154, 2.7908747339811404, 2.503633316606498, 1.850890986027196, 2.5085329197328643, 2.6159291646205176, 2.383957076546647, 1.9983619183471635, 1.5011739823468506, 0, 1.048241866795584, 2.4260859969369553, 2.2110511712066216, 1.9976366395287792, 2.378560179025179, 2.147333740344629, 3.40256633897299, 2.399359353773518, 2.299994092444191, 2.3403716304322595, 2.872252664291209, 1.5169398281470137, 1.3990617845782116, 1.1589787619570158, 1.9151269704322293, 2.3895345960798817, 0.8048142442434225, 1.8542959730565467, 1.9812457587200671, 1.9198651110364495, 1.8083054107439689, 2.580135312545264, 0.8801187485251938, 2.2386592841018684, 1.1130646982582226, 1.802156811984218, 2.8756401406601895, 1.478588934505578, 2.5079029673150757, 1.7436306529098178, 1.9183410995265149, 1.9537563409544656, 0.9386176171579896, 2.674717765118811, 1.5885395297111393, 1.9419204821719172, 3.0279757175638187, 2.470237039910672, 3.481336829371029, 2.3405498174312624, 2.3702076200673194, 2.4822377617908256, 1.806226031221121, 1.5352399271827244, 2.5778410845319666, 2.2973766228019663, 0.7783087743020767, 2.454195406313576, 2.2069091828739653, 2.250734905492301, 1.1642854324245333, 2.483690347997908, 2.592567033302424, 0.08838077029602376, 1.2852019729499564, 2.5735614970051257, 2.4405563936169594, 2.6496662449288175, 2.1507791066814095, 0, 1.8800557195969037, 1.8238124371768472, 1.1384748830833313, 1.5058961656242642, 2.4936295588469495, 3.0523355985200484, 3.0726487010852113, 2.187507580886703, 2.7602727187629883, 2.5801488240075376, 0.49969888451345645, 1.844655765503438, 2.1182329744661432, 2.000353290799355, 2.5393609928036023, 2.517548571914844, 1.0853078100380464, 0.6219586934577526, 0.7153882330265227, 2.4672630465564205, 3.2262212332674043, 2.767268751808639, 1.927067553991465, 2.85686839387, 2.1498403347357833, 2.0501786042383774, 1.8908311607559858, 0, 1.8401365154339266, 1.2415791970155343, 1.1368870116779384, 1.3010619132536239, 0.9195669307669974, 1.5822913163384567, 2.7001618860535004, 2.1715235395552135, 3.067775409680781, 1.0701075997243181, 2.250041825411062, 2.081259221211459, 2.139406283549621, 2.4535327685164834, 3.0983354054477, 2.143586262387865, 2.512973901234381, 2.534241729231992, 3.2274033190942433, 1.5675652407193075, 2.5904096440858737, 2.249250265192393, 2.1673484487095287, 2.4312513265837508, 1.824464999033023, 2.0006992330252746, 2.9106788221161906, 1.6049254262436852, 2.4749452828049145, 1.8251678634471569, 2.850240811295781, 1.7109765932986232, 1.7012276788490999, 1.0235620186825278, 2.8417677317416636, 2.8274495551201584, 2.6430216490717617, 2.555787149720933, 2.191762105797469, 2.035426261793006, 0.14821081493126553, 2.516612329421497, 2.608534319166486, 2.9622842382608594, 3.6666075624055274, 2.5504329095388725, 2.4525508799117723, 2.2072540406943775, 1.951398867239792, 3.0563895404034627, 2.109573055019658, 1.299643831955788, 0, 0, 2.24589764075235, 2.0593372878823315, 1.9860809836618976, 1.8458510250403537, 1.9859802735582066, 2.456297496096538, 3.102791183851723, 1.9583554118272706, 0.6025641025641015, 1.9057468472971217, 1.5957489236226186, 1.5133596250097248, 2.377784766319021, 1.632818436932728, 2.5969492025401264, 1.9933748046600874, 1.752435236544393, 3.3496901440826674, 1.9560629526057394, 0, 2.339490600493125]\n"
     ]
    }
   ],
   "source": [
    "final_rate_list = []\n",
    "for i in range(len(final_tag_list)):\n",
    "    try:\n",
    "        final_rate_list.append(rating[-1][tag_name.index(final_tag_list[i])])\n",
    "    except:\n",
    "        final_rate_list.append(0)\n",
    "for i in range(len(final_rate_list)):\n",
    "    if final_rate_list[i] == 1:\n",
    "        final_rate_list[i] = 0.7\n",
    "    num = final_rate_list[i]\n",
    "    num = num-0.6\n",
    "    if num <= 0:\n",
    "        num = 0\n",
    "    final_rate_list[i] = num *10\n",
    "print(final_rate_list)"
   ],
   "metadata": {
    "collapsed": false
   }
  },
  {
   "cell_type": "code",
   "execution_count": 19,
   "outputs": [
    {
     "name": "stdout",
     "output_type": "stream",
     "text": [
      "[2.564783734925872, 2.5112692521438977, 3.5726066973431867, 1.9480492440694537, 3.8788935029349374, 1.8522897335546924, 1.4584691258331512, 2.2482525929455397, 2.8870720426531755, 3.3191176531042426, 3.3974983900818807, 3.150697266334129, 2.849002784627135, 1.8459436746671007, 1.9963247583976218, 2.8224062491218707, 1.1991746747726484, 2.426487291858727, 1.5630679741846738, 2.8103866244540416, 0.7833461352566403, 1.7995735076085648, 1.5730740411803776, 3.4668084825166563, 3.5309331039417966, 2.9018994026132776, 1.5573795638451673, 3.2845215983864136, 2.53034428517249, 1.6031242764760163, 1.7758044153014385, 2.8729242113431037, 3.04230651281938, 2.7556954052645852, 1.4499382334899842, 2.4501195126623787, 1.7212586884133743, 2.4212857886551764, 1.5682950268498823, 1.7931843883926335, 2.612810930720283, 2.844789211846041, 2.7660350818714394, 3.5920093394088823, 2.9390087353675263, 2.684472557031311, 2.687737230773022, 2.630114692579299, 3.2278934252020104, 2.8545919617042816, 2.014879423271064, 2.1108154114656164, 1.7242768635807657, 1.906892071289101, 3.145156513615109, 1.400371482251239, 1.3749626066500682, 1.4228635898656623, 3.7190039568114006, 1.5654869671948646, 3.2770925827209516, 2.5220161054522947, 2.6318094641865026, 2.3043729583698056, 1.9702130493687688, 2.468483077447116, 1.4653838363335119, 3.0334443431002356, 1.9084480840657339, 2.908946564931464, 2.484334857573472, 2.805647103338274, 1.94301981507778, 2.0474726686502223, 2.759815862747518, 1.6885646383413826, 1.9669765488338327, 1.9419670868292938, 2.7921336600679294, 1.391865086619896, 1.6936699562669348, 1.5742620148711468, 2.092529595980161, 1.2448259887756448, 2.259172324139563, 1.10209928744786, 2.2542039814315458, 1.6365255060098753, 1.6386339821526528, 1.1414435012814341, 2.2314990397735657, 1.6785392017469611, 1.2995163268424423, 1.4883772683838854, 1.0, 1.0927586208054845, 2.486847182909472, 1.6572538928606682, 1.174245556658537, 1.5231769802262747, 0.879658654668077, 1.419638339985734, 1.0843843744651906, 0.9500899609239327, 1.8844661380464636, 1.9486751904611765, 0.6768477282896436, 1.7851007067576505, 0.8193169910763264, 3.2931543627144113, 2.060296715140973, 1.486501552914364, 1.707786400149275, 1.1864447104840357, 1.6596221294312443, 1.4634181929607433, 0.9890179433733189, 1.3629320312921978, 1.6742809940417782, 1.3512001548070343, 2.418890521217581, 1.7567611873578384, 1.2045084224234197, 1.904662566633932, 1.6424785161577529, 1.1789824239193543, 1.208899703493769, 1.6142448801948355, 2.0281426840235857, 2.7994777270517486, 2.7175208497376477, 1.4427979759710412, 2.7517045252716295, 2.836305449770721, 1.431358675236992, 1.6476779433743596, 1.276404598803268, 2.4260551095828187, 1.441254048692007, 1.967584610078749, 1.9914577741262107, 1.166545170526861, 0.9257804101447933, 2.096895002797622, 1.5890820674816928, 1.655215864132259, 2.074443257628261, 1.9524182611092806, 1.3831998071188478, 1.9816153369899625, 1.571883369929104, 1.7896949029497595, 1.742061376884527, 1.1287822810041168, 1.0527724599377273, 1.1955789081383967, 1.7350131081249351, 1.5040417056681468, 1.7358988464078593, 1.0015396504401441, 1.54455713011076, 1.6541940203296557, 2.049626772279912, 2.1449299710279788, 1.735603750970695, 1.5978544846189535, 1.5520410715026127, 1.3359299051891826, 0.8907817059279295, 1.0915740568740175, 1.3247879913795562, 1.5395067394642112, 1.8779758753688844, 1.54497576604298, 1.8549550798515624, 1.3790996567255067, 1.9298431578236477, 0.8535832006770049, 0.7527002881177419, 1.3140383161976523, 1.610194045558073, 2.2289950159612975, 1.7982480493126418, 2.1186478852075106, 1.8525325135236719, 1.391865086619896, 1.8275143024331124, 2.180026880973373, 1.7724882394594135, 0.9198896736906316, 1.9152936542600214, 1.3935788576717993, 1.1078187285124896, 2.1262339167885513, 1.582892730539718, 0.8819171036881969, 1.3964211707386631, 1.6466419931965532, 2.047292852843048, 1.4180174372401402, 1.27936268259961, 1.2009604945740153, 1.4509497013066388, 1.5508012560506106, 1.4822550362833125, 1.4784494720598333, 0.6138372016859405, 1.2605267702245708, 1.4125738917179191, 1.522740101655536, 1.2416135078335058, 1.8090314458923495, 1.069560145365426, 1.4774934744878834, 1.9126524707939747, 1.8185999539412006, 1.559418289984345, 1.8422525070805917, 1.0, 0.9118549332449203, 0.8535832006770049, 1.4448488666852912, 0.879658654668077, 1.9095571959908482, 1.6866381495937155, 1.130922162230714, 1.431358675236992, 1.3153964971486074, 0.9334638938847942, 1.0855926040543842, 1.5231769802262747, 1.6218946809040424, 1.309938302681148, 1.4658740132999801, 0.9809436521275706, 1.713949569231013, 1.5026791419513783, 2.106371045086333, 0.5927598033463076, 1.7521892261871272, 2.223259689911551, 1.6175366620826468, 1.2080252727564058, 0.8485766316739435, 0.7598356856515925, 1.5859964566775446, 1.5437188355658558, 1.016559427069189, 0.9874188792217664, 1.3160740129524926, 0.8841583342199358, 1.3861063156991875, 1.9066694725493856, 1.8219262850248272, 1.3986825889488932, 1.6804936462003484, 1.0, 1.9575815215595058, 0.7896895367562644, 0.9138835440754081, 1.960045442762345, 2.4307964675808837, 1.4339826251590262, 1.1043977343154592, 1.5910014840341231, 1.6999873727400285, 1.4417692423573703, 0.9921930016850258, 1.462432393686026, 1.4803559227922942, 1.194674878071907, 2.5108793942959116, 1.773319028644367, 0.6913081507404248, 0.6718150541065748, 1.247219128924647, 1.2488069349769269, 1.0433897200488582, 1.0295302064625538, 1.8224364142320348, 1.2375625125441014, 0.7299795676982807, 1.1864447104840357, 0.4386913376508308, 1.9172673951152035, 1.5249207460810819, 1.189207115002721, 1.7099510952682415, 1.1383176567827629, 1.3586450654905402, 1.2696726668514435, 0.8819171036881969, 0.3964023716675737, 1.6480228262699328, 0.695932543309948, 1.1066819197003215, 1.586383143639513, 1.3731780959380784, 1.0030722328115214, 1.1123313218271715, 1.2658859480772946, 0.5773502691896257, 0.9446450951491726, 1.0819557268028186, 1.4653838363335119]\n"
     ]
    }
   ],
   "source": [
    "final_owners_list = []\n",
    "for i in range(len(final_tag_list)):\n",
    "    try:\n",
    "        final_owners_list.append(owners[-1][tag_name.index(final_tag_list[i])])\n",
    "    except:\n",
    "        final_owners_list.append(0)\n",
    "for i in range(len(final_owners_list)):\n",
    "    if final_owners_list[i] == 0:\n",
    "        final_owners_list[i] = 1500000\n",
    "    final_owners_list[i] = final_owners_list[i]/10000\n",
    "    num = final_owners_list[i]\n",
    "    num = math.sqrt(math.sqrt(num))\n",
    "    final_owners_list[i] = num/3\n",
    "print(final_owners_list)"
   ],
   "metadata": {
    "collapsed": false
   }
  },
  {
   "cell_type": "code",
   "execution_count": 20,
   "outputs": [
    {
     "name": "stdout",
     "output_type": "stream",
     "text": [
      "[0.5048984180518751, 0.8943628041435798, 0.6675098369870713, 0.05420380631173212, 2.6891110575764876, 0.12647554806070826, 0.060226451457480124, 0.3754115474182928, 1.0650044166064403, 0.48883803099654705, 0.2549586445033325, 0.32421906367943465, 1.3229743836826469, 0.1887095479001044, 0.2419095800208785, 0.41455874086565486, 0.04918493535694211, 0.6665060627961134, 0.11643780615112824, 0.04918493535694211, 0.015056612864370031, 0.1525736770256163, 0.16261141893519634, 1.1222195454910462, 1.2517064161246287, 0.44567574078535294, 0.1043925158596322, 0.4516983859311009, 0.5440456114992371, 0.06725287079418614, 0.1917208704729784, 1.062996868224524, 0.6976230627158114, 1.2657592547980405, 0.0963623223319682, 0.6865815466152735, 0.13952461254316229, 0.7668834818919136, 0.1435397093069943, 0.17766803179956636, 0.02409058058299205, 0.2910945153778206, 0.07628683851280815, 2.5997751545812253, 0.47880028908696703, 0.23287561230225648, 0.24893599935758454, 0.07126796755801815, 0.2740303541315346, 0.23889825744800453, 0.6384003854492893, 0.473781418132177, 0.16060387055328035, 0.38745683770978884, 0.490845579378463, 0.0993736449048422, 0.1355095157793303, 0.10539629005059022, 3.3947643138199632, 0.2680077089857865, 1.410302738295993, 0.41455874086565486, 0.03713964506544608, 0.3121737733879386, 0.038143419256404076, 0.39448325704649484, 0.1897133220910624, 2.6469525415562516, 0.23488316068417248, 2.5254958644503334, 1.3289970288283948, 1.2707781257528308, 0.7668834818919136, 0.35734361198104875, 1.1222195454910462, 0.060226451457480124, 0.34027945073476273, 0.21882277362884447, 2.7152091865413954, 0.05420380631173212, 0.09836987071388421, 0.0963623223319682, 0.6143098048662973, 0.05520758050269011, 0.6805589014695255, 0.031116999919698067, 0.23488316068417248, 0.06725287079418614, 0.16160764474423833, 0.0933509997590942, 1.0358949650686582, 0.28005299927728255, 0.05320003212077411, 0.10338874166867422, 0.044166064402152094, 0.07026419336706015, 0.8813137396611258, 0.28607564442303063, 0.04918493535694211, 0.16662651569902834, 0.023086806392034045, 0.1355095157793303, 0.03914719344736208, 0.02409058058299205, 0.21681522524692848, 0.36035493455392276, 0.017064161246286035, 0.18469445113627236, 0.016060387055328033, 1.996506865815466, 0.3442945474985947, 0.06825664498514414, 0.07327551593993416, 0.028105677346824058, 0.16361519312615433, 0.06424154822131213, 0.04316229021119409, 0.02409058058299205, 0.2037661607644744, 0.05821890307556412, 0.6685136111780293, 0.29009074118686257, 0.02609812896490805, 0.41556251505661285, 0.10539629005059022, 0.020075483819160043, 0.02409058058299205, 0.2459246767847105, 0.5450493856901951, 0.29912470890548465, 1.5016461896731712, 0.002007548381916004, 0.14153216092507828, 0.8481891913595118, 0.0913434513771782, 0.21982654781980246, 0.07227174174897615, 1.2065365775315184, 0.16763028988998635, 0.26198506384003856, 0.462739902031639, 0.3, 0.023086806392034045, 0.7176985465349714, 0.21079258010118043, 0.15859632217136432, 0.8050269011483177, 0.3332530313980567, 0.04617361278406809, 0.3663775796996708, 0.04516983859311009, 0.3011322572874006, 0.10338874166867422, 0.08732835461334618, 0.06825664498514414, 0.0471773869750261, 0.16963783827190235, 0.08632458042238818, 0.18369067694531438, 0.03713964506544608, 0.1355095157793303, 0.21882277362884447, 0.5570946759816912, 0.509917289006665, 0.20577370914639043, 0.1917208704729784, 0.16662651569902834, 0.012045290291496025, 0.012045290291496025, 0.06825664498514414, 0.038143419256404076, 0.16963783827190235, 0.26600016060387055, 0.22384164458363448, 0.4205813860114029, 0.08130570946759817, 0.35132096683530073, 0.015056612864370031, 0.0070264193367060145, 0.08833212880430419, 0.018067935437244036, 0.5340078695896571, 0.32321528948847666, 0.4296153537300249, 0.2920982895687786, 0.10640006424154821, 0.10740383843250623, 0.4396530956396049, 0.19372841885489442, 0.016060387055328033, 0.3222115152975187, 0.1505661286437003, 0.020075483819160043, 0.5119248373885811, 0.21781899943788646, 0.010037741909580022, 0.09033967718622019, 0.1375170641612463, 0.8060306753392757, 0.07729061270376616, 0.060226451457480124, 0.03914719344736208, 0.08833212880430419, 0.24893599935758454, 0.16763028988998635, 0.17666425760860838, 0.009033967718622018, 0.07528306432185015, 0.25596241869429054, 0.10740383843250623, 0.08532080623143018, 0.4065285473379908, 0.013049064482454025, 0.15156990283465832, 0.3212077411065607, 0.45571348269493295, 0.2780454508953666, 0.2318718381112985, 0.03914719344736208, 0.02409058058299205, 0.02910945153778206, 0.11844535453304425, 0.019071709628202038, 0.04918493535694211, 0.17566048341765036, 0.031116999919698067, 0.19673974142776843, 0.11443025776921224, 0.04015096763832009, 0.0481811611659841, 0.11643780615112824, 0.12948687063358227, 0.0471773869750261, 0.07729061270376616, 0.001003774190958002, 0.2840680960411146, 0.02710190315586606, 0.7478117722637115, 0.010037741909580022, 0.20075483819160042, 0.7367702561631735, 0.2469284509756685, 0.06123022564843813, 0.038143419256404076, 0.022083032201076047, 0.1957359672368104, 0.23086806392034045, 0.056211354693648116, 0.0030113225728740063, 0.042158516020236084, 0.015056612864370031, 0.0471773869750261, 0.5661286437003131, 0.44366819240343697, 0.11242270938729623, 0.12848309644262426, 0.019071709628202038, 0.3593511603629647, 0.019071709628202038, 0.013049064482454025, 0.4065285473379908, 1.0790572552798523, 0.1897133220910624, 0.060226451457480124, 0.03914719344736208, 0.1445434834979523, 0.13249819320645628, 0.014052838673412029, 0.1877057737091464, 0.17064161246286036, 0.021079258010118042, 1.3591102545571347, 0.38444551513691483, 0.002007548381916004, 0.010037741909580022, 0.0471773869750261, 0.03312454830161407, 0.06323777403035413, 0.03412832249257207, 0.31016622500602264, 0.08732835461334618, 0.014052838673412029, 0.02409058058299205, 0.0030113225728740063, 0.35433228940817474, 0.07026419336706015, 0.05320003212077411, 0.15859632217136432, 0.04316229021119409, 0.11443025776921224, 0.08732835461334618, 0.030113225728740062, 0.002007548381916004, 0.22785674134746647, 0.005018870954790011, 0.05119248373885811, 0.19372841885489442, 0.11041516100538022, 0.05420380631173212, 0.05520758050269011, 0.08030193527664017, 0.009033967718622018, 0.019071709628202038, 0.04316229021119409, 0.17064161246286036]\n"
     ]
    }
   ],
   "source": [
    "final_share_list = []\n",
    "for i in range(len(final_tag_list)):\n",
    "    try:\n",
    "        final_share_list.append(share[-1][tag_name.index(final_tag_list[i])])\n",
    "    except:\n",
    "        final_share_list.append(0)\n",
    "for i in range(len(final_share_list)):\n",
    "    if final_share_list[i] == 0:\n",
    "        final_share_list[i] = 0.003\n",
    "    num = final_share_list[i]\n",
    "    num = num * 100\n",
    "    final_share_list[i] = num\n",
    "print(final_share_list)"
   ],
   "metadata": {
    "collapsed": false
   }
  },
  {
   "cell_type": "code",
   "execution_count": 21,
   "outputs": [],
   "source": [
    "final_df = pd.DataFrame(columns=['Rate', 'Owners', 'Share', 'Score'])\n",
    "final_df['Score'] = final_score_list\n",
    "final_df['Rate'] = final_rate_list\n",
    "final_df['Owners'] = final_owners_list\n",
    "final_df['Share'] = final_share_list"
   ],
   "metadata": {
    "collapsed": false
   }
  },
  {
   "cell_type": "code",
   "execution_count": 22,
   "outputs": [
    {
     "data": {
      "text/plain": "         Rate    Owners     Share      Score\n0    1.313810  2.564784  0.504898  40.560954\n1    1.421401  2.511269  0.894363  41.522331\n2    2.068064  3.572607  0.667510  59.757502\n3    1.298963  1.948049  0.054204  40.842943\n4    2.071212  3.878894  2.689111  58.540345\n..        ...       ...       ...        ...\n300  1.752435  1.265886  0.080302   1.448447\n301  3.349690  0.577350  0.009034   1.448447\n302  1.956063  0.944645  0.019072   1.424781\n303  0.000000  1.081956  0.043162   1.419507\n304  2.339491  1.465384  0.170642   1.419507\n\n[305 rows x 4 columns]",
      "text/html": "<div>\n<style scoped>\n    .dataframe tbody tr th:only-of-type {\n        vertical-align: middle;\n    }\n\n    .dataframe tbody tr th {\n        vertical-align: top;\n    }\n\n    .dataframe thead th {\n        text-align: right;\n    }\n</style>\n<table border=\"1\" class=\"dataframe\">\n  <thead>\n    <tr style=\"text-align: right;\">\n      <th></th>\n      <th>Rate</th>\n      <th>Owners</th>\n      <th>Share</th>\n      <th>Score</th>\n    </tr>\n  </thead>\n  <tbody>\n    <tr>\n      <th>0</th>\n      <td>1.313810</td>\n      <td>2.564784</td>\n      <td>0.504898</td>\n      <td>40.560954</td>\n    </tr>\n    <tr>\n      <th>1</th>\n      <td>1.421401</td>\n      <td>2.511269</td>\n      <td>0.894363</td>\n      <td>41.522331</td>\n    </tr>\n    <tr>\n      <th>2</th>\n      <td>2.068064</td>\n      <td>3.572607</td>\n      <td>0.667510</td>\n      <td>59.757502</td>\n    </tr>\n    <tr>\n      <th>3</th>\n      <td>1.298963</td>\n      <td>1.948049</td>\n      <td>0.054204</td>\n      <td>40.842943</td>\n    </tr>\n    <tr>\n      <th>4</th>\n      <td>2.071212</td>\n      <td>3.878894</td>\n      <td>2.689111</td>\n      <td>58.540345</td>\n    </tr>\n    <tr>\n      <th>...</th>\n      <td>...</td>\n      <td>...</td>\n      <td>...</td>\n      <td>...</td>\n    </tr>\n    <tr>\n      <th>300</th>\n      <td>1.752435</td>\n      <td>1.265886</td>\n      <td>0.080302</td>\n      <td>1.448447</td>\n    </tr>\n    <tr>\n      <th>301</th>\n      <td>3.349690</td>\n      <td>0.577350</td>\n      <td>0.009034</td>\n      <td>1.448447</td>\n    </tr>\n    <tr>\n      <th>302</th>\n      <td>1.956063</td>\n      <td>0.944645</td>\n      <td>0.019072</td>\n      <td>1.424781</td>\n    </tr>\n    <tr>\n      <th>303</th>\n      <td>0.000000</td>\n      <td>1.081956</td>\n      <td>0.043162</td>\n      <td>1.419507</td>\n    </tr>\n    <tr>\n      <th>304</th>\n      <td>2.339491</td>\n      <td>1.465384</td>\n      <td>0.170642</td>\n      <td>1.419507</td>\n    </tr>\n  </tbody>\n</table>\n<p>305 rows × 4 columns</p>\n</div>"
     },
     "execution_count": 22,
     "metadata": {},
     "output_type": "execute_result"
    }
   ],
   "source": [
    "final_df.to_csv(\"rank_data.csv\")\n",
    "final_df"
   ],
   "metadata": {
    "collapsed": false
   }
  },
  {
   "cell_type": "code",
   "execution_count": 23,
   "outputs": [
    {
     "data": {
      "text/plain": "             Rate      Owners       Share       Score\ncount  305.000000  305.000000  305.000000  305.000000\nmean     1.955498    1.719603    0.303185   10.924524\nstd      0.703615    0.670310    0.469791   11.375781\nmin      0.000000    0.396402    0.001004    1.419507\n25%      1.567565    1.248807    0.049185    3.437150\n50%      2.050179    1.591001    0.151570    6.703134\n75%      2.474945    1.996325    0.340279   13.241072\nmax      3.666608    3.878894    3.394764   59.757502",
      "text/html": "<div>\n<style scoped>\n    .dataframe tbody tr th:only-of-type {\n        vertical-align: middle;\n    }\n\n    .dataframe tbody tr th {\n        vertical-align: top;\n    }\n\n    .dataframe thead th {\n        text-align: right;\n    }\n</style>\n<table border=\"1\" class=\"dataframe\">\n  <thead>\n    <tr style=\"text-align: right;\">\n      <th></th>\n      <th>Rate</th>\n      <th>Owners</th>\n      <th>Share</th>\n      <th>Score</th>\n    </tr>\n  </thead>\n  <tbody>\n    <tr>\n      <th>count</th>\n      <td>305.000000</td>\n      <td>305.000000</td>\n      <td>305.000000</td>\n      <td>305.000000</td>\n    </tr>\n    <tr>\n      <th>mean</th>\n      <td>1.955498</td>\n      <td>1.719603</td>\n      <td>0.303185</td>\n      <td>10.924524</td>\n    </tr>\n    <tr>\n      <th>std</th>\n      <td>0.703615</td>\n      <td>0.670310</td>\n      <td>0.469791</td>\n      <td>11.375781</td>\n    </tr>\n    <tr>\n      <th>min</th>\n      <td>0.000000</td>\n      <td>0.396402</td>\n      <td>0.001004</td>\n      <td>1.419507</td>\n    </tr>\n    <tr>\n      <th>25%</th>\n      <td>1.567565</td>\n      <td>1.248807</td>\n      <td>0.049185</td>\n      <td>3.437150</td>\n    </tr>\n    <tr>\n      <th>50%</th>\n      <td>2.050179</td>\n      <td>1.591001</td>\n      <td>0.151570</td>\n      <td>6.703134</td>\n    </tr>\n    <tr>\n      <th>75%</th>\n      <td>2.474945</td>\n      <td>1.996325</td>\n      <td>0.340279</td>\n      <td>13.241072</td>\n    </tr>\n    <tr>\n      <th>max</th>\n      <td>3.666608</td>\n      <td>3.878894</td>\n      <td>3.394764</td>\n      <td>59.757502</td>\n    </tr>\n  </tbody>\n</table>\n</div>"
     },
     "execution_count": 23,
     "metadata": {},
     "output_type": "execute_result"
    }
   ],
   "source": [
    "final_df[['Rate', 'Owners', 'Share']]\n",
    "final_df.describe()"
   ],
   "metadata": {
    "collapsed": false
   }
  },
  {
   "cell_type": "code",
   "execution_count": 24,
   "outputs": [],
   "source": [
    "def year_data(year):\n",
    "    tag_all = year_tag_dict[year].keys()\n",
    "\n",
    "    year_tag_list = []\n",
    "    year_share_list = []\n",
    "    year_rate_list = []\n",
    "    year_owners_list = []\n",
    "    year_list = []\n",
    "\n",
    "    for i in tag_all:\n",
    "        year_tag_list.append(i)\n",
    "\n",
    "    for i in range(len(year_tag_list)):\n",
    "        year_list.append(year)\n",
    "\n",
    "    for i in range(len(year_tag_list)):\n",
    "        try:\n",
    "            year_rate_list.append(rating[years.index(year)][tag_name.index(year_tag_list[i])])\n",
    "        except:\n",
    "            year_rate_list.append(0)\n",
    "\n",
    "    for i in range(len(year_tag_list)):\n",
    "        try:\n",
    "            year_owners_list.append(owners[years.index(year)][tag_name.index(year_tag_list[i])])\n",
    "        except:\n",
    "            year_owners_list.append(0)\n",
    "\n",
    "    for i in range(len(year_tag_list)):\n",
    "        try:\n",
    "            year_share_list.append(share[years.index(year)][tag_name.index(year_tag_list[i])])\n",
    "        except:\n",
    "            year_share_list.append(0)\n",
    "\n",
    "    data_tag_list.extend(year_tag_list)\n",
    "    data_rate_list.extend(year_rate_list)\n",
    "    data_share_list.extend(year_share_list)\n",
    "    data_owners_list.extend(year_owners_list)\n",
    "    data_year_list.extend(year_list)\n"
   ],
   "metadata": {
    "collapsed": false
   }
  },
  {
   "cell_type": "code",
   "execution_count": 25,
   "outputs": [
    {
     "name": "stdout",
     "output_type": "stream",
     "text": [
      "['Horror', 'Twin Stick Shooter', 'Top-Down Shooter', 'Villain Protagonist', 'Difficult', 'Shooter', 'Isometric', 'Psychological Horror', 'Top-Down', 'Dark Humor', 'Dark Comedy', 'Surreal', 'Action', 'Linear', 'Hand-drawn', 'Psychological', 'Level Editor', 'Atmospheric', 'Comedy', 'Combat Racing', 'Racing', 'Classic', 'Indie', 'Gore', \"1990's\", 'Retro', 'Vehicular Combat', 'Great Soundtrack', 'Multiplayer', 'Singleplayer', 'Arcade']\n",
      "[0.8727805550767109, 0.8727805550767109, 0.8727805550767109, 0.8727805550767109, 0.8727805550767109, 0.8727805550767109, 0.8727805550767109, 0.8727805550767109, 0.8727805550767109, 0.8727805550767109, 0.8727805550767109, 0.8727805550767109, 0.8729911859040838, 0.8727805550767109, 0.8727805550767109, 0.8727805550767109, 0.8727805550767109, 0.8727805550767109, 0.8727805550767109, 0.8835227272727273, 0.8835227272727273, 0.8835227272727273, 0.8835227272727273, 0.8835227272727273, 0.8835227272727273, 0.8835227272727273, 0.8835227272727273, 0.8835227272727273, 0.8835227272727273, 0.8835227272727273, 0.8835227272727273]\n"
     ]
    }
   ],
   "source": [
    "data_tag_list = []\n",
    "data_rate_list = []\n",
    "data_share_list = []\n",
    "data_owners_list = []\n",
    "data_year_list = []\n",
    "year_data(1997)\n",
    "print(data_tag_list)\n",
    "print(data_rate_list)"
   ],
   "metadata": {
    "collapsed": false
   }
  },
  {
   "cell_type": "code",
   "execution_count": 26,
   "outputs": [],
   "source": [
    "\n",
    "data_tag_list = []\n",
    "data_rate_list = []\n",
    "data_share_list = []\n",
    "data_owners_list = []\n",
    "data_year_list = []\n",
    "\n",
    "for year in years:\n",
    "    year_data(year)\n",
    "\n",
    "for i in range(len(data_rate_list)):\n",
    "    if data_rate_list[i] == 1:\n",
    "        data_rate_list[i] = 0.7\n",
    "    num = data_rate_list[i]\n",
    "    num = num - 0.6\n",
    "    if num <= 0:\n",
    "        num = 0\n",
    "    data_rate_list[i] = num *10\n",
    "\n",
    "for i in range(len(data_owners_list)):\n",
    "    if data_owners_list[i] == 0:\n",
    "        data_owners_list[i] = 1500000\n",
    "    data_owners_list[i] = data_owners_list[i]/9999\n",
    "    num = data_owners_list[i]\n",
    "    num = math.sqrt(math.sqrt(num))\n",
    "    data_owners_list[i] = num/3\n",
    "\n",
    "for i in range(len(data_share_list)):\n",
    "    if data_share_list[i] == 0:\n",
    "        data_share_list[i] = 0.003\n",
    "    num = data_share_list[i]\n",
    "    num = num * 100\n",
    "    data_share_list[i] = num"
   ],
   "metadata": {
    "collapsed": false
   }
  },
  {
   "cell_type": "code",
   "execution_count": 27,
   "outputs": [],
   "source": [
    "year_df = pd.DataFrame(columns=['Year', 'Tag', 'Rate', 'Owners', 'Share'])\n",
    "year_df['Year'] = data_year_list\n",
    "year_df['Tag'] = data_tag_list\n",
    "year_df['Rate'] = data_rate_list\n",
    "year_df['Owners'] = data_owners_list\n",
    "year_df['Share'] = data_share_list"
   ],
   "metadata": {
    "collapsed": false
   }
  },
  {
   "cell_type": "code",
   "execution_count": 28,
   "outputs": [],
   "source": [
    "year_df\n",
    "year_df.to_csv(\"year_rank_data.csv\")"
   ],
   "metadata": {
    "collapsed": false
   }
  },
  {
   "cell_type": "code",
   "execution_count": 29,
   "outputs": [
    {
     "data": {
      "text/plain": "      Year                  Tag      Rate    Owners     Share\n0     1997               Horror  2.727806  1.744436  3.125000\n1     1997   Twin Stick Shooter  2.727806  1.744436  3.125000\n2     1997     Top-Down Shooter  2.727806  1.744436  3.125000\n3     1997  Villain Protagonist  2.727806  1.744436  3.125000\n4     1997            Difficult  2.727806  1.744436  3.125000\n...    ...                  ...       ...       ...       ...\n6255  2022           Jump Scare  2.214286  0.438702  0.003011\n6256  2022            Wrestling  0.000000  0.396412  0.002008\n6257  2022           Volleyball  0.363636  0.333342  0.001004\n6258  2022               Gaming  1.000000  0.333342  0.001004\n6259  2022           Electronic  1.333333  0.333342  0.001004\n\n[6260 rows x 5 columns]",
      "text/html": "<div>\n<style scoped>\n    .dataframe tbody tr th:only-of-type {\n        vertical-align: middle;\n    }\n\n    .dataframe tbody tr th {\n        vertical-align: top;\n    }\n\n    .dataframe thead th {\n        text-align: right;\n    }\n</style>\n<table border=\"1\" class=\"dataframe\">\n  <thead>\n    <tr style=\"text-align: right;\">\n      <th></th>\n      <th>Year</th>\n      <th>Tag</th>\n      <th>Rate</th>\n      <th>Owners</th>\n      <th>Share</th>\n    </tr>\n  </thead>\n  <tbody>\n    <tr>\n      <th>0</th>\n      <td>1997</td>\n      <td>Horror</td>\n      <td>2.727806</td>\n      <td>1.744436</td>\n      <td>3.125000</td>\n    </tr>\n    <tr>\n      <th>1</th>\n      <td>1997</td>\n      <td>Twin Stick Shooter</td>\n      <td>2.727806</td>\n      <td>1.744436</td>\n      <td>3.125000</td>\n    </tr>\n    <tr>\n      <th>2</th>\n      <td>1997</td>\n      <td>Top-Down Shooter</td>\n      <td>2.727806</td>\n      <td>1.744436</td>\n      <td>3.125000</td>\n    </tr>\n    <tr>\n      <th>3</th>\n      <td>1997</td>\n      <td>Villain Protagonist</td>\n      <td>2.727806</td>\n      <td>1.744436</td>\n      <td>3.125000</td>\n    </tr>\n    <tr>\n      <th>4</th>\n      <td>1997</td>\n      <td>Difficult</td>\n      <td>2.727806</td>\n      <td>1.744436</td>\n      <td>3.125000</td>\n    </tr>\n    <tr>\n      <th>...</th>\n      <td>...</td>\n      <td>...</td>\n      <td>...</td>\n      <td>...</td>\n      <td>...</td>\n    </tr>\n    <tr>\n      <th>6255</th>\n      <td>2022</td>\n      <td>Jump Scare</td>\n      <td>2.214286</td>\n      <td>0.438702</td>\n      <td>0.003011</td>\n    </tr>\n    <tr>\n      <th>6256</th>\n      <td>2022</td>\n      <td>Wrestling</td>\n      <td>0.000000</td>\n      <td>0.396412</td>\n      <td>0.002008</td>\n    </tr>\n    <tr>\n      <th>6257</th>\n      <td>2022</td>\n      <td>Volleyball</td>\n      <td>0.363636</td>\n      <td>0.333342</td>\n      <td>0.001004</td>\n    </tr>\n    <tr>\n      <th>6258</th>\n      <td>2022</td>\n      <td>Gaming</td>\n      <td>1.000000</td>\n      <td>0.333342</td>\n      <td>0.001004</td>\n    </tr>\n    <tr>\n      <th>6259</th>\n      <td>2022</td>\n      <td>Electronic</td>\n      <td>1.333333</td>\n      <td>0.333342</td>\n      <td>0.001004</td>\n    </tr>\n  </tbody>\n</table>\n<p>6260 rows × 5 columns</p>\n</div>"
     },
     "execution_count": 29,
     "metadata": {},
     "output_type": "execute_result"
    }
   ],
   "source": [
    "year_df"
   ],
   "metadata": {
    "collapsed": false
   }
  }
 ],
 "metadata": {
  "kernelspec": {
   "display_name": "Python 3.9.7 ('base')",
   "language": "python",
   "name": "python3"
  },
  "language_info": {
   "codemirror_mode": {
    "name": "ipython",
    "version": 3
   },
   "file_extension": ".py",
   "mimetype": "text/x-python",
   "name": "python",
   "nbconvert_exporter": "python",
   "pygments_lexer": "ipython3",
   "version": "3.9.7"
  },
  "orig_nbformat": 4,
  "vscode": {
   "interpreter": {
    "hash": "d7288e82646d3164eca24130947288f8779d11454649f2c02a5dfc42af7f324c"
   }
  }
 },
 "nbformat": 4,
 "nbformat_minor": 2
}
