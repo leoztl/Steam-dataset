{
 "cells": [
  {
   "cell_type": "code",
   "execution_count": 1,
   "metadata": {},
   "outputs": [],
   "source": [
    "import pandas as pd\n",
    "from ast import literal_eval\n",
    "import json\n",
    "import numpy as np\n",
    "import csv"
   ]
  },
  {
   "cell_type": "code",
   "execution_count": 2,
   "metadata": {},
   "outputs": [
    {
     "data": {
      "text/html": [
       "<div>\n",
       "<style scoped>\n",
       "    .dataframe tbody tr th:only-of-type {\n",
       "        vertical-align: middle;\n",
       "    }\n",
       "\n",
       "    .dataframe tbody tr th {\n",
       "        vertical-align: top;\n",
       "    }\n",
       "\n",
       "    .dataframe thead th {\n",
       "        text-align: right;\n",
       "    }\n",
       "</style>\n",
       "<table border=\"1\" class=\"dataframe\">\n",
       "  <thead>\n",
       "    <tr style=\"text-align: right;\">\n",
       "      <th></th>\n",
       "      <th>Unnamed: 0</th>\n",
       "      <th>name</th>\n",
       "      <th>steam_appid</th>\n",
       "      <th>release_date</th>\n",
       "      <th>is_free</th>\n",
       "      <th>required_age</th>\n",
       "      <th>rate</th>\n",
       "      <th>price</th>\n",
       "      <th>owners</th>\n",
       "      <th>tags</th>\n",
       "    </tr>\n",
       "  </thead>\n",
       "  <tbody>\n",
       "    <tr>\n",
       "      <th>0</th>\n",
       "      <td>0</td>\n",
       "      <td>Dota 2</td>\n",
       "      <td>570</td>\n",
       "      <td>2013</td>\n",
       "      <td>True</td>\n",
       "      <td>0</td>\n",
       "      <td>0.829342</td>\n",
       "      <td>0</td>\n",
       "      <td>350000000</td>\n",
       "      <td>[Free to Play, MOBA, Multiplayer, Strategy, e-...</td>\n",
       "    </tr>\n",
       "    <tr>\n",
       "      <th>1</th>\n",
       "      <td>1</td>\n",
       "      <td>Counter-Strike: Global Offensive</td>\n",
       "      <td>730</td>\n",
       "      <td>2012</td>\n",
       "      <td>True</td>\n",
       "      <td>0</td>\n",
       "      <td>0.882848</td>\n",
       "      <td>0</td>\n",
       "      <td>75000000</td>\n",
       "      <td>[FPS, Shooter, Multiplayer, Competitive, Actio...</td>\n",
       "    </tr>\n",
       "    <tr>\n",
       "      <th>2</th>\n",
       "      <td>2</td>\n",
       "      <td>New World</td>\n",
       "      <td>1063730</td>\n",
       "      <td>2021</td>\n",
       "      <td>False</td>\n",
       "      <td>0</td>\n",
       "      <td>0.680567</td>\n",
       "      <td>3999</td>\n",
       "      <td>75000000</td>\n",
       "      <td>[Massively Multiplayer, Open World, MMORPG, RP...</td>\n",
       "    </tr>\n",
       "    <tr>\n",
       "      <th>3</th>\n",
       "      <td>3</td>\n",
       "      <td>Team Fortress 2</td>\n",
       "      <td>440</td>\n",
       "      <td>2007</td>\n",
       "      <td>True</td>\n",
       "      <td>0</td>\n",
       "      <td>0.936167</td>\n",
       "      <td>0</td>\n",
       "      <td>75000000</td>\n",
       "      <td>[Free to Play, Hero Shooter, Multiplayer, FPS,...</td>\n",
       "    </tr>\n",
       "    <tr>\n",
       "      <th>4</th>\n",
       "      <td>4</td>\n",
       "      <td>Apex Legends™</td>\n",
       "      <td>1172470</td>\n",
       "      <td>2020</td>\n",
       "      <td>True</td>\n",
       "      <td>0</td>\n",
       "      <td>0.858303</td>\n",
       "      <td>0</td>\n",
       "      <td>75000000</td>\n",
       "      <td>[Free to Play, Multiplayer, Battle Royale, Sho...</td>\n",
       "    </tr>\n",
       "    <tr>\n",
       "      <th>...</th>\n",
       "      <td>...</td>\n",
       "      <td>...</td>\n",
       "      <td>...</td>\n",
       "      <td>...</td>\n",
       "      <td>...</td>\n",
       "      <td>...</td>\n",
       "      <td>...</td>\n",
       "      <td>...</td>\n",
       "      <td>...</td>\n",
       "      <td>...</td>\n",
       "    </tr>\n",
       "    <tr>\n",
       "      <th>49541</th>\n",
       "      <td>49541</td>\n",
       "      <td>VEHICLES FURY</td>\n",
       "      <td>749290</td>\n",
       "      <td>2017</td>\n",
       "      <td>False</td>\n",
       "      <td>0</td>\n",
       "      <td>0.166667</td>\n",
       "      <td>1499</td>\n",
       "      <td>10000</td>\n",
       "      <td>[Action, Indie, Racing]</td>\n",
       "    </tr>\n",
       "    <tr>\n",
       "      <th>49542</th>\n",
       "      <td>49542</td>\n",
       "      <td>Crawler</td>\n",
       "      <td>1506770</td>\n",
       "      <td>2021</td>\n",
       "      <td>False</td>\n",
       "      <td>0</td>\n",
       "      <td>0.416667</td>\n",
       "      <td>399</td>\n",
       "      <td>10000</td>\n",
       "      <td>[Adventure, Action RPG, Exploration, Dungeon C...</td>\n",
       "    </tr>\n",
       "    <tr>\n",
       "      <th>49543</th>\n",
       "      <td>49543</td>\n",
       "      <td>Coins Collector Simulator</td>\n",
       "      <td>1868280</td>\n",
       "      <td>2022</td>\n",
       "      <td>False</td>\n",
       "      <td>0</td>\n",
       "      <td>0.625000</td>\n",
       "      <td>499</td>\n",
       "      <td>10000</td>\n",
       "      <td>[Casual, Racing, Simulation, Sports, Strategy,...</td>\n",
       "    </tr>\n",
       "    <tr>\n",
       "      <th>49544</th>\n",
       "      <td>49544</td>\n",
       "      <td>You Arrive in a Town</td>\n",
       "      <td>1466190</td>\n",
       "      <td>2021</td>\n",
       "      <td>False</td>\n",
       "      <td>0</td>\n",
       "      <td>0.473684</td>\n",
       "      <td>499</td>\n",
       "      <td>10000</td>\n",
       "      <td>[Indie, Action, Casual, RPG, Action RPG, Arcad...</td>\n",
       "    </tr>\n",
       "    <tr>\n",
       "      <th>49545</th>\n",
       "      <td>49545</td>\n",
       "      <td>Hidden Treasures in the Forest of Dreams</td>\n",
       "      <td>1853990</td>\n",
       "      <td>2022</td>\n",
       "      <td>False</td>\n",
       "      <td>0</td>\n",
       "      <td>1.000000</td>\n",
       "      <td>1999</td>\n",
       "      <td>10000</td>\n",
       "      <td>[Relaxing, Nature, Walking Simulator, Procedur...</td>\n",
       "    </tr>\n",
       "  </tbody>\n",
       "</table>\n",
       "<p>49546 rows × 10 columns</p>\n",
       "</div>"
      ],
      "text/plain": [
       "       Unnamed: 0                                      name  steam_appid  \\\n",
       "0               0                                    Dota 2          570   \n",
       "1               1          Counter-Strike: Global Offensive          730   \n",
       "2               2                                 New World      1063730   \n",
       "3               3                           Team Fortress 2          440   \n",
       "4               4                             Apex Legends™      1172470   \n",
       "...           ...                                       ...          ...   \n",
       "49541       49541                             VEHICLES FURY       749290   \n",
       "49542       49542                                   Crawler      1506770   \n",
       "49543       49543                 Coins Collector Simulator      1868280   \n",
       "49544       49544                      You Arrive in a Town      1466190   \n",
       "49545       49545  Hidden Treasures in the Forest of Dreams      1853990   \n",
       "\n",
       "       release_date  is_free required_age      rate  price     owners  \\\n",
       "0              2013     True            0  0.829342      0  350000000   \n",
       "1              2012     True            0  0.882848      0   75000000   \n",
       "2              2021    False            0  0.680567   3999   75000000   \n",
       "3              2007     True            0  0.936167      0   75000000   \n",
       "4              2020     True            0  0.858303      0   75000000   \n",
       "...             ...      ...          ...       ...    ...        ...   \n",
       "49541          2017    False            0  0.166667   1499      10000   \n",
       "49542          2021    False            0  0.416667    399      10000   \n",
       "49543          2022    False            0  0.625000    499      10000   \n",
       "49544          2021    False            0  0.473684    499      10000   \n",
       "49545          2022    False            0  1.000000   1999      10000   \n",
       "\n",
       "                                                    tags  \n",
       "0      [Free to Play, MOBA, Multiplayer, Strategy, e-...  \n",
       "1      [FPS, Shooter, Multiplayer, Competitive, Actio...  \n",
       "2      [Massively Multiplayer, Open World, MMORPG, RP...  \n",
       "3      [Free to Play, Hero Shooter, Multiplayer, FPS,...  \n",
       "4      [Free to Play, Multiplayer, Battle Royale, Sho...  \n",
       "...                                                  ...  \n",
       "49541                            [Action, Indie, Racing]  \n",
       "49542  [Adventure, Action RPG, Exploration, Dungeon C...  \n",
       "49543  [Casual, Racing, Simulation, Sports, Strategy,...  \n",
       "49544  [Indie, Action, Casual, RPG, Action RPG, Arcad...  \n",
       "49545  [Relaxing, Nature, Walking Simulator, Procedur...  \n",
       "\n",
       "[49546 rows x 10 columns]"
      ]
     },
     "execution_count": 2,
     "metadata": {},
     "output_type": "execute_result"
    }
   ],
   "source": [
    "dataset_df = pd.read_csv('data.csv',encoding=\"utf-8\",converters={\"tags\":literal_eval})\n",
    "dataset_df"
   ]
  },
  {
   "cell_type": "code",
   "execution_count": 3,
   "metadata": {},
   "outputs": [],
   "source": [
    "'''\n",
    "dictionary\n",
    "key: year\n",
    "val: dictionary mapping tag to number\n",
    "'''\n",
    "year_tag_dict = {}\n",
    "for index, row in dataset_df.iterrows():\n",
    "    year = row[\"release_date\"]\n",
    "    tags = row[\"tags\"]\n",
    "    if year in year_tag_dict:\n",
    "        tag_count_dict = year_tag_dict[year]\n",
    "        for tag in tags:\n",
    "            if tag in tag_count_dict:\n",
    "                tag_count_dict[tag] += 1\n",
    "            else:\n",
    "                tag_count_dict[tag] = 1\n",
    "    else:\n",
    "        year_tag_dict[year] = {}\n",
    "        for tag in tags:\n",
    "            year_tag_dict[year][tag] = 1"
   ]
  },
  {
   "cell_type": "markdown",
   "metadata": {},
   "source": [
    "## Parse data for visualization 1, force directed graph of tags"
   ]
  },
  {
   "cell_type": "code",
   "execution_count": 17,
   "metadata": {},
   "outputs": [],
   "source": [
    "tag_name = {}\n",
    "for i,row in dataset_df.iterrows():\n",
    "    tags = row[\"tags\"]\n",
    "    for tag in tags:\n",
    "        if tag not in tag_name:\n",
    "            tag_name[tag] = 1\n",
    "        else:\n",
    "            tag_name[tag] += 1"
   ]
  },
  {
   "cell_type": "code",
   "execution_count": 18,
   "metadata": {},
   "outputs": [
    {
     "data": {
      "image/png": "[encoded data removed]",
      "text/plain": [
       "<Figure size 2000x600 with 1 Axes>"
      ]
     },
     "metadata": {},
     "output_type": "display_data"
    }
   ],
   "source": [
    "import matplotlib.pyplot as plt\n",
    "fig = plt.figure(figsize=(20,6))\n",
    "ax = fig.add_axes([0,0,1,1])\n",
    "langs = tag_name.keys()\n",
    "students = tag_name.values()\n",
    "ax.bar(langs,students)\n",
    "plt.show()"
   ]
  },
  {
   "cell_type": "code",
   "execution_count": 19,
   "metadata": {},
   "outputs": [],
   "source": [
    "threshold = 2500\n",
    "drop_num = 0\n",
    "tag_use = []\n",
    "for key in tag_name.keys():\n",
    "    if tag_name[key] <= threshold:\n",
    "        drop_num +=1\n",
    "    else:\n",
    "        tag_use.append(key)"
   ]
  },
  {
   "cell_type": "code",
   "execution_count": 20,
   "metadata": {},
   "outputs": [
    {
     "name": "stdout",
     "output_type": "stream",
     "text": [
      "374\n",
      "65\n",
      "['Free to Play', 'Multiplayer', 'Strategy', 'Action', 'PvP', 'Difficult', 'Co-op', 'Fantasy', 'RPG', 'FPS', 'Shooter', 'First-Person', 'Realistic', 'Survival', 'Early Access', 'Third Person', 'Simulation', 'Open World', 'Adventure', 'Sandbox', 'Violent', 'Funny', 'Cartoony', 'Comedy', 'Sci-fi', 'Singleplayer', 'Indie', 'Casual', 'Atmospheric', 'Great Soundtrack', 'Horror', 'Gore', 'Space', '2D', 'Pixel Graphics', 'Exploration', 'Platformer', 'Physics', '2D Platformer', 'Family Friendly', 'Controller', 'Combat', 'VR', 'Relaxing', '3D', 'Colorful', 'Story Rich', 'Anime', 'Cute', 'Action-Adventure', 'Point & Click', 'Psychological Horror', 'Dark', 'Mystery', 'Puzzle', 'Choices Matter', 'Sports', 'Female Protagonist', 'Arcade', 'Retro', 'Side Scroller', 'Stylized', 'Top-Down', 'Minimalist', 'Visual Novel']\n"
     ]
    }
   ],
   "source": [
    "print(drop_num)\n",
    "print(len(tag_use))\n",
    "print(tag_use)"
   ]
  },
  {
   "cell_type": "code",
   "execution_count": 21,
   "metadata": {},
   "outputs": [],
   "source": [
    "length = len(tag_use)\n",
    "matrix = [[0 for i in range(length)] for i in range(length)]\n",
    "for i, row in dataset_df.iterrows():\n",
    "    tags = row[\"tags\"]\n",
    "    for idx, tag in enumerate(tags):\n",
    "        if tag in tag_use:\n",
    "            for i in range(idx+1,len(tags)):\n",
    "                if tags[i] in tag_use:\n",
    "                    idx1 = tag_use.index(tag)\n",
    "                    idx2 = tag_use.index(tags[i])\n",
    "                    matrix[idx1][idx2] += 1"
   ]
  },
  {
   "cell_type": "code",
   "execution_count": 22,
   "metadata": {},
   "outputs": [],
   "source": [
    "maxi = np.amax(matrix)\n",
    "for i in range(length):\n",
    "    for j in range(length):\n",
    "        matrix[i][j] = matrix[i][j]/maxi * 50"
   ]
  },
  {
   "cell_type": "code",
   "execution_count": 23,
   "metadata": {},
   "outputs": [],
   "source": [
    "'''\n",
    "GOAL: json\n",
    "{\n",
    "    \"nodes\": [{\"id\": \"tagname1\", \"group\": 1}],\n",
    "    \"links\": [{\"source\": \"tagname1\", \"target\": \"tagname2\", \"value\": co-occurance}]\n",
    "}\n",
    "'''\n",
    "links = []\n",
    "for i in range(length):\n",
    "    for j in range(length):\n",
    "        if i == j: continue\n",
    "        if matrix[i][j] < 5:continue\n",
    "        val = {\"source\":tag_use[i],\"target\":tag_use[j],\"value\":matrix[i][j]}\n",
    "        links.append(val)"
   ]
  },
  {
   "cell_type": "code",
   "execution_count": 24,
   "metadata": {},
   "outputs": [],
   "source": [
    "nodes = []\n",
    "for i, tag in enumerate(tag_use):\n",
    "    val = {\"id\": tag, \"group\": i+1}\n",
    "    nodes.append(val)"
   ]
  },
  {
   "cell_type": "code",
   "execution_count": 25,
   "metadata": {},
   "outputs": [],
   "source": [
    "vis1_dict = {\"nodes\":nodes,\"links\":links}\n",
    "# Serializing json\n",
    "json_object = json.dumps(vis1_dict, indent=4)\n",
    " \n",
    "# Writing to sample.json\n",
    "with open(\"visualization/vis1.json\", \"w\") as outfile:\n",
    "    outfile.write(json_object)"
   ]
  },
  {
   "cell_type": "markdown",
   "metadata": {
    "collapsed": false
   },
   "source": [
    "## Parse data for visualization 2, world cloud of tags"
   ]
  },
  {
   "cell_type": "code",
   "execution_count": 8,
   "metadata": {
    "collapsed": false
   },
   "outputs": [],
   "source": [
    "year = 2006\n",
    "for i in range(16):\n",
    "    year = year+1\n",
    "    tag_list = year_tag_dict[year].keys()\n",
    "    tag_count_list = []\n",
    "\n",
    "    for i in list(year_tag_dict[year].keys()):\n",
    "        if year_tag_dict[year][i] < 30:\n",
    "            del year_tag_dict[year][i]\n",
    "\n",
    "    for i in tag_list:\n",
    "        tag_count_list.append(year_tag_dict[year][i])\n",
    "    file = open('./visualization/WorldCloud/WordCloud_'+str(year)+'.txt','w')\n",
    "\n",
    "    for i in tag_list:\n",
    "        tag_count = year_tag_dict[year][i]\n",
    "        for j in range(tag_count):\n",
    "            file.write(i + ' ')\n",
    "\n",
    "    file.close()\n",
    "\n"
   ]
  },
  {
   "cell_type": "markdown",
   "metadata": {},
   "source": [
    "## Parse data for vis 4"
   ]
  },
  {
   "cell_type": "code",
   "execution_count": null,
   "metadata": {},
   "outputs": [],
   "source": [
    "'''\n",
    "header: year, tag1, tag2,...\n",
    "'''\n",
    "years = list(year_tag_dict.keys())\n",
    "years.sort()"
   ]
  },
  {
   "cell_type": "code",
   "execution_count": null,
   "metadata": {},
   "outputs": [],
   "source": [
    "import math\n",
    "dataset_df[\"rate\"].tolist()\n",
    "for i in dataset_df[\"rate\"].tolist():\n",
    "    if math.isnan(i):\n",
    "        print(\"nan found\")"
   ]
  },
  {
   "cell_type": "code",
   "execution_count": null,
   "metadata": {},
   "outputs": [],
   "source": [
    "for i in dataset_df[\"owners\"].tolist():\n",
    "    if math.isnan(i):\n",
    "        print(\"nan found\")"
   ]
  },
  {
   "cell_type": "code",
   "execution_count": null,
   "metadata": {},
   "outputs": [],
   "source": [
    "rating = [[0 for i in range(len(tag_use))] for j in range(len(years))]\n",
    "sum = [[0 for i in range(len(tag_use))] for j in range(len(years))]\n",
    "for idx, row in dataset_df.iterrows():\n",
    "    year = row[\"release_date\"]\n",
    "    tags = row[\"tags\"]\n",
    "    rate = row[\"rate\"]\n",
    "    if math.isnan(rate):\n",
    "        continue\n",
    "    sales = row[\"owners\"]\n",
    "    idx1 = years.index(year)\n",
    "    for tag in tags:\n",
    "        if tag in tag_use:\n",
    "            idx2 = tag_use.index(tag)\n",
    "            rating[idx1][idx2] += sales * rate\n",
    "            sum[idx1][idx2] += sales"
   ]
  },
  {
   "cell_type": "code",
   "execution_count": null,
   "metadata": {},
   "outputs": [],
   "source": [
    "for i in range(len(years)):\n",
    "    for j in range(len(tag_use)):\n",
    "        if sum[i][j] != 0:\n",
    "            rating [i][j] = rating[i][j] / sum[i][j]"
   ]
  },
  {
   "cell_type": "code",
   "execution_count": null,
   "metadata": {},
   "outputs": [],
   "source": [
    "for j in range(len(tag_use)):\n",
    "    start = False\n",
    "    for i in range(len(years)):\n",
    "        if start:\n",
    "            if rating[i][j] == 0:\n",
    "                rating[i][j] = (rating[i-1][j] + rating[i+1][j])/2\n",
    "        else:\n",
    "            if rating[i][j] != 0:\n",
    "                start = True"
   ]
  },
  {
   "cell_type": "code",
   "execution_count": null,
   "metadata": {},
   "outputs": [],
   "source": [
    "rating"
   ]
  },
  {
   "cell_type": "code",
   "execution_count": null,
   "metadata": {},
   "outputs": [],
   "source": [
    "with open(\"visualization/rate.csv\", \"w\", newline=\"\") as file:\n",
    "    write = csv.writer(file)\n",
    "    header = [[\"Year\"] + tag_use]\n",
    "    write.writerows(header)\n",
    "    for i in range(len(years)):\n",
    "        year = years[i]\n",
    "        row = [year] + rating[i]\n",
    "        write.writerows([row])"
   ]
  },
  {
   "cell_type": "code",
   "execution_count": null,
   "metadata": {},
   "outputs": [],
   "source": [
    "with open(\"visualization/sales.csv\", \"w\", newline=\"\") as file:\n",
    "    write = csv.writer(file)\n",
    "    header = [[\"Year\"] + tag_use]\n",
    "    write.writerows(header)\n",
    "    for i in range(len(years)):\n",
    "        year = years[i]\n",
    "        row = [year] + sum[i]\n",
    "        write.writerows([row])"
   ]
  },
  {
   "cell_type": "code",
   "execution_count": null,
   "metadata": {},
   "outputs": [],
   "source": [
    "with open(\"visualization/share.csv\", \"w\", newline=\"\") as file:\n",
    "    write = csv.writer(file)\n",
    "    header = [[\"Year\"] + tag_use]\n",
    "    write.writerows(header)\n",
    "    for i in range(len(years)):\n",
    "        year = years[i]\n",
    "        val = np.array(sum[i],dtype=np.int64)\n",
    "        val = val/val.sum()\n",
    "        row = np.concatenate(([year],val))\n",
    "        write.writerows([row])"
   ]
  }
 ],
 "metadata": {
  "kernelspec": {
   "display_name": "Python 3.9.7 ('base')",
   "language": "python",
   "name": "python3"
  },
  "language_info": {
   "codemirror_mode": {
    "name": "ipython",
    "version": 3
   },
   "file_extension": ".py",
   "mimetype": "text/x-python",
   "name": "python",
   "nbconvert_exporter": "python",
   "pygments_lexer": "ipython3",
   "version": "3.9.7"
  },
  "orig_nbformat": 4,
  "vscode": {
   "interpreter": {
    "hash": "d7288e82646d3164eca24130947288f8779d11454649f2c02a5dfc42af7f324c"
   }
  }
 },
 "nbformat": 4,
 "nbformat_minor": 2
}
