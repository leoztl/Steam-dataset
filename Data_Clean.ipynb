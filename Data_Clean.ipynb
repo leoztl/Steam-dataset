{
 "cells": [
  {
   "cell_type": "code",
   "execution_count": 92,
   "metadata": {
    "collapsed": true,
    "pycharm": {
     "name": "#%%\n"
    }
   },
   "outputs": [],
   "source": [
    "import csv\n",
    "import json\n",
    "import pandas as pd\n",
    "import re\n",
    "from ast import literal_eval\n",
    "import ast"
   ]
  },
  {
   "cell_type": "code",
   "execution_count": 93,
   "outputs": [
    {
     "name": "stdout",
     "output_type": "stream",
     "text": [
      "2\n"
     ]
    }
   ],
   "source": [
    "df = pd.DataFrame({'BoolCol': [10, 20, 30, 30, 40],'attr': [22, 33, 22, 44, 66]},index=[1,2,3,4,5])\n",
    "\n",
    "value_result = df[(df.BoolCol==20)&(df.attr==33)].index.to_list()\n",
    "print(value_result[0])"
   ],
   "metadata": {
    "collapsed": false,
    "pycharm": {
     "name": "#%%\n"
    }
   }
  },
  {
   "cell_type": "code",
   "execution_count": 94,
   "outputs": [
    {
     "data": {
      "text/plain": "       type                                      name steam_appid  \\\n0      game                                    Dota 2         570   \n1      game          Counter-Strike: Global Offensive         730   \n2      game                       PUBG: BATTLEGROUNDS      578080   \n3      game                                 New World     1063730   \n4      game                           Team Fortress 2         440   \n...     ...                                       ...         ...   \n56722  game                                   Crawler     1506770   \n56723  game                 Coins Collector Simulator     1868280   \n56724  game                      You Arrive in a Town     1466190   \n56725  game  Hidden Treasures in the Forest of Dreams     1853990   \n56726  game                            The Chaos Gene     1503000   \n\n      required_age is_free controller_support                         dlc  \\\n0                0    True                NaN  [1241930, 652720, 2120610]   \n1                0    True               full                   [1766730]   \n2                0    True                NaN                         NaN   \n3                0   False                NaN                         NaN   \n4                0    True                NaN                    [629330]   \n...            ...     ...                ...                         ...   \n56722            0   False                NaN                         NaN   \n56723            0   False                NaN                         NaN   \n56724            0   False               full                         NaN   \n56725            0   False               full                         NaN   \n56726            0   False                NaN                         NaN   \n\n      fullgame                                supported_languages  \\\n0          NaN  Bulgarian, Czech, Danish, Dutch, English<stron...   \n1          NaN  Czech, Danish, Dutch, English<strong>*</strong...   \n2          NaN  English, Korean, Simplified Chinese, French, G...   \n3          NaN  English<strong>*</strong>, French<strong>*</st...   \n4          NaN  English<strong>*</strong>, Danish, Dutch, Finn...   \n...        ...                                                ...   \n56722      NaN                                            English   \n56723      NaN                                            English   \n56724      NaN  English<strong>*</strong><br><strong>*</strong...   \n56725      NaN  English, French, Spanish - Spain, Spanish - La...   \n56726      NaN  English<strong>*</strong><br><strong>*</strong...   \n\n                                            header_image  ...  \\\n0      https://cdn.akamai.steamstatic.com/steam/apps/...  ...   \n1      https://cdn.akamai.steamstatic.com/steam/apps/...  ...   \n2      https://cdn.akamai.steamstatic.com/steam/apps/...  ...   \n3      https://cdn.akamai.steamstatic.com/steam/apps/...  ...   \n4      https://cdn.akamai.steamstatic.com/steam/apps/...  ...   \n...                                                  ...  ...   \n56722  https://cdn.akamai.steamstatic.com/steam/apps/...  ...   \n56723  https://cdn.akamai.steamstatic.com/steam/apps/...  ...   \n56724  https://cdn.akamai.steamstatic.com/steam/apps/...  ...   \n56725  https://cdn.akamai.steamstatic.com/steam/apps/...  ...   \n56726  https://cdn.akamai.steamstatic.com/steam/apps/...  ...   \n\n                                              categories  \\\n0      [{'id': 1, 'description': 'Multi-player'}, {'i...   \n1      [{'id': 1, 'description': 'Multi-player'}, {'i...   \n2      [{'id': 1, 'description': 'Multi-player'}, {'i...   \n3      [{'id': 1, 'description': 'Multi-player'}, {'i...   \n4      [{'id': 1, 'description': 'Multi-player'}, {'i...   \n...                                                  ...   \n56722        [{'id': 2, 'description': 'Single-player'}]   \n56723        [{'id': 2, 'description': 'Single-player'}]   \n56724  [{'id': 2, 'description': 'Single-player'}, {'...   \n56725  [{'id': 2, 'description': 'Single-player'}, {'...   \n56726  [{'id': 2, 'description': 'Single-player'}, {'...   \n\n                                                  genres  \\\n0      [{'id': '1', 'description': 'Action'}, {'id': ...   \n1      [{'id': '1', 'description': 'Action'}, {'id': ...   \n2      [{'id': '1', 'description': 'Action'}, {'id': ...   \n3      [{'id': '1', 'description': 'Action'}, {'id': ...   \n4      [{'id': '1', 'description': 'Action'}, {'id': ...   \n...                                                  ...   \n56722  [{'id': '1', 'description': 'Action'}, {'id': ...   \n56723  [{'id': '4', 'description': 'Casual'}, {'id': ...   \n56724  [{'id': '1', 'description': 'Action'}, {'id': ...   \n56725  [{'id': '4', 'description': 'Casual'}, {'id': ...   \n56726  [{'id': '1', 'description': 'Action'}, {'id': ...   \n\n                                             screenshots  \\\n0      [{'id': 0, 'path_thumbnail': 'https://cdn.akam...   \n1      [{'id': 0, 'path_thumbnail': 'https://cdn.akam...   \n2      [{'id': 1, 'path_thumbnail': 'https://cdn.akam...   \n3      [{'id': 0, 'path_thumbnail': 'https://cdn.akam...   \n4      [{'id': 0, 'path_thumbnail': 'https://cdn.akam...   \n...                                                  ...   \n56722  [{'id': 0, 'path_thumbnail': 'https://cdn.akam...   \n56723  [{'id': 0, 'path_thumbnail': 'https://cdn.akam...   \n56724  [{'id': 0, 'path_thumbnail': 'https://cdn.akam...   \n56725  [{'id': 0, 'path_thumbnail': 'https://cdn.akam...   \n56726  [{'id': 0, 'path_thumbnail': 'https://cdn.akam...   \n\n                                                  movies     recommendations  \\\n0      [{'id': 256692021, 'name': 'Dota 2 - Join the ...    {'total': 14308}   \n1      [{'id': 81958, 'name': 'CS:GO Trailer Long', '...  {'total': 3500246}   \n2      [{'id': 256896251, 'name': 'Battlegrounds_Dest...  {'total': 1625994}   \n3      [{'id': 256888424, 'name': 'New World: Arenas'...   {'total': 200200}   \n4      [{'id': 256698790, 'name': 'Jungle Inferno', '...    {'total': 15244}   \n...                                                  ...                 ...   \n56722  [{'id': 256826014, 'name': 'CrawTraiWL.mp4', '...                 NaN   \n56723  [{'id': 256869972, 'name': 'tr', 'thumbnail': ...                 NaN   \n56724  [{'id': 256815239, 'name': 'YAIAT Announcement...                 NaN   \n56725  [{'id': 256892466, 'name': 'Launch Trailer', '...                 NaN   \n56726  [{'id': 256825084, 'name': 'The chaos gene tra...                 NaN   \n\n                                            achievements  \\\n0                                                    NaN   \n1      {'total': 167, 'highlighted': [{'name': 'Someo...   \n2      {'total': 37, 'highlighted': [{'name': 'Last S...   \n3      {'total': 133, 'highlighted': [{'name': 'Repai...   \n4      {'total': 520, 'highlighted': [{'name': 'Head ...   \n...                                                  ...   \n56722  {'total': 10, 'highlighted': [{'name': 'SECRET...   \n56723                                                NaN   \n56724  {'total': 16, 'highlighted': [{'name': 'Libera...   \n56725  {'total': 22, 'highlighted': [{'name': 'Asleep...   \n56726                                                NaN   \n\n                                         release_date  \\\n0       {'coming_soon': False, 'date': '9 Jul, 2013'}   \n1      {'coming_soon': False, 'date': 'Aug 21, 2012'}   \n2      {'coming_soon': False, 'date': 'Dec 21, 2017'}   \n3      {'coming_soon': False, 'date': 'Sep 28, 2021'}   \n4      {'coming_soon': False, 'date': 'Oct 10, 2007'}   \n...                                               ...   \n56722  {'coming_soon': False, 'date': 'Apr 16, 2021'}   \n56723   {'coming_soon': False, 'date': 'Feb 4, 2022'}   \n56724  {'coming_soon': False, 'date': 'Jan 26, 2021'}   \n56725  {'coming_soon': False, 'date': 'Jun 24, 2022'}   \n56726   {'coming_soon': False, 'date': 'Mar 8, 2021'}   \n\n                                            support_info  \\\n0                               {'url': '', 'email': ''}   \n1                               {'url': '', 'email': ''}   \n2      {'url': 'https://support.playbattlegrounds.com...   \n3      {'url': 'https://www.amazon.com/contact-us', '...   \n4      {'url': 'http://steamcommunity.com/app/440', '...   \n...                                                  ...   \n56722         {'url': '', 'email': 'gamesmzy@gmail.com'}   \n56723  {'url': '', 'email': 'business@atomicfabrik.com'}   \n56724  {'url': 'https://twitter.com/BunnyBoxGames', '...   \n56725  {'url': 'https://paleo.games/contact/', 'email...   \n56726  {'url': 'https://twitter.com/chaos_gene', 'ema...   \n\n                                              background  \\\n0      https://cdn.akamai.steamstatic.com/steam/apps/...   \n1      https://cdn.akamai.steamstatic.com/steam/apps/...   \n2      https://cdn.akamai.steamstatic.com/steam/apps/...   \n3      https://cdn.akamai.steamstatic.com/steam/apps/...   \n4      https://cdn.akamai.steamstatic.com/steam/apps/...   \n...                                                  ...   \n56722  https://cdn.akamai.steamstatic.com/steam/apps/...   \n56723  https://cdn.akamai.steamstatic.com/steam/apps/...   \n56724  https://cdn.akamai.steamstatic.com/steam/apps/...   \n56725  https://cdn.akamai.steamstatic.com/steam/apps/...   \n56726  https://cdn.akamai.steamstatic.com/steam/apps/...   \n\n                                     content_descriptors  \n0                             {'ids': [], 'notes': None}  \n1      {'ids': [2, 5], 'notes': 'Includes intense vio...  \n2                         {'ids': [2, 5], 'notes': None}  \n3      {'ids': [2, 5], 'notes': 'This Game may contai...  \n4      {'ids': [2, 5], 'notes': 'Includes cartoon vio...  \n...                                                  ...  \n56722  {'ids': [5], 'notes': 'The game has low level ...  \n56723                         {'ids': [], 'notes': None}  \n56724                         {'ids': [], 'notes': None}  \n56725                         {'ids': [], 'notes': None}  \n56726  {'ids': [1, 2, 5], 'notes': 'Some stages conta...  \n\n[56727 rows x 36 columns]",
      "text/html": "<div>\n<style scoped>\n    .dataframe tbody tr th:only-of-type {\n        vertical-align: middle;\n    }\n\n    .dataframe tbody tr th {\n        vertical-align: top;\n    }\n\n    .dataframe thead th {\n        text-align: right;\n    }\n</style>\n<table border=\"1\" class=\"dataframe\">\n  <thead>\n    <tr style=\"text-align: right;\">\n      <th></th>\n      <th>type</th>\n      <th>name</th>\n      <th>steam_appid</th>\n      <th>required_age</th>\n      <th>is_free</th>\n      <th>controller_support</th>\n      <th>dlc</th>\n      <th>fullgame</th>\n      <th>supported_languages</th>\n      <th>header_image</th>\n      <th>...</th>\n      <th>categories</th>\n      <th>genres</th>\n      <th>screenshots</th>\n      <th>movies</th>\n      <th>recommendations</th>\n      <th>achievements</th>\n      <th>release_date</th>\n      <th>support_info</th>\n      <th>background</th>\n      <th>content_descriptors</th>\n    </tr>\n  </thead>\n  <tbody>\n    <tr>\n      <th>0</th>\n      <td>game</td>\n      <td>Dota 2</td>\n      <td>570</td>\n      <td>0</td>\n      <td>True</td>\n      <td>NaN</td>\n      <td>[1241930, 652720, 2120610]</td>\n      <td>NaN</td>\n      <td>Bulgarian, Czech, Danish, Dutch, English&lt;stron...</td>\n      <td>https://cdn.akamai.steamstatic.com/steam/apps/...</td>\n      <td>...</td>\n      <td>[{'id': 1, 'description': 'Multi-player'}, {'i...</td>\n      <td>[{'id': '1', 'description': 'Action'}, {'id': ...</td>\n      <td>[{'id': 0, 'path_thumbnail': 'https://cdn.akam...</td>\n      <td>[{'id': 256692021, 'name': 'Dota 2 - Join the ...</td>\n      <td>{'total': 14308}</td>\n      <td>NaN</td>\n      <td>{'coming_soon': False, 'date': '9 Jul, 2013'}</td>\n      <td>{'url': '', 'email': ''}</td>\n      <td>https://cdn.akamai.steamstatic.com/steam/apps/...</td>\n      <td>{'ids': [], 'notes': None}</td>\n    </tr>\n    <tr>\n      <th>1</th>\n      <td>game</td>\n      <td>Counter-Strike: Global Offensive</td>\n      <td>730</td>\n      <td>0</td>\n      <td>True</td>\n      <td>full</td>\n      <td>[1766730]</td>\n      <td>NaN</td>\n      <td>Czech, Danish, Dutch, English&lt;strong&gt;*&lt;/strong...</td>\n      <td>https://cdn.akamai.steamstatic.com/steam/apps/...</td>\n      <td>...</td>\n      <td>[{'id': 1, 'description': 'Multi-player'}, {'i...</td>\n      <td>[{'id': '1', 'description': 'Action'}, {'id': ...</td>\n      <td>[{'id': 0, 'path_thumbnail': 'https://cdn.akam...</td>\n      <td>[{'id': 81958, 'name': 'CS:GO Trailer Long', '...</td>\n      <td>{'total': 3500246}</td>\n      <td>{'total': 167, 'highlighted': [{'name': 'Someo...</td>\n      <td>{'coming_soon': False, 'date': 'Aug 21, 2012'}</td>\n      <td>{'url': '', 'email': ''}</td>\n      <td>https://cdn.akamai.steamstatic.com/steam/apps/...</td>\n      <td>{'ids': [2, 5], 'notes': 'Includes intense vio...</td>\n    </tr>\n    <tr>\n      <th>2</th>\n      <td>game</td>\n      <td>PUBG: BATTLEGROUNDS</td>\n      <td>578080</td>\n      <td>0</td>\n      <td>True</td>\n      <td>NaN</td>\n      <td>NaN</td>\n      <td>NaN</td>\n      <td>English, Korean, Simplified Chinese, French, G...</td>\n      <td>https://cdn.akamai.steamstatic.com/steam/apps/...</td>\n      <td>...</td>\n      <td>[{'id': 1, 'description': 'Multi-player'}, {'i...</td>\n      <td>[{'id': '1', 'description': 'Action'}, {'id': ...</td>\n      <td>[{'id': 1, 'path_thumbnail': 'https://cdn.akam...</td>\n      <td>[{'id': 256896251, 'name': 'Battlegrounds_Dest...</td>\n      <td>{'total': 1625994}</td>\n      <td>{'total': 37, 'highlighted': [{'name': 'Last S...</td>\n      <td>{'coming_soon': False, 'date': 'Dec 21, 2017'}</td>\n      <td>{'url': 'https://support.playbattlegrounds.com...</td>\n      <td>https://cdn.akamai.steamstatic.com/steam/apps/...</td>\n      <td>{'ids': [2, 5], 'notes': None}</td>\n    </tr>\n    <tr>\n      <th>3</th>\n      <td>game</td>\n      <td>New World</td>\n      <td>1063730</td>\n      <td>0</td>\n      <td>False</td>\n      <td>NaN</td>\n      <td>NaN</td>\n      <td>NaN</td>\n      <td>English&lt;strong&gt;*&lt;/strong&gt;, French&lt;strong&gt;*&lt;/st...</td>\n      <td>https://cdn.akamai.steamstatic.com/steam/apps/...</td>\n      <td>...</td>\n      <td>[{'id': 1, 'description': 'Multi-player'}, {'i...</td>\n      <td>[{'id': '1', 'description': 'Action'}, {'id': ...</td>\n      <td>[{'id': 0, 'path_thumbnail': 'https://cdn.akam...</td>\n      <td>[{'id': 256888424, 'name': 'New World: Arenas'...</td>\n      <td>{'total': 200200}</td>\n      <td>{'total': 133, 'highlighted': [{'name': 'Repai...</td>\n      <td>{'coming_soon': False, 'date': 'Sep 28, 2021'}</td>\n      <td>{'url': 'https://www.amazon.com/contact-us', '...</td>\n      <td>https://cdn.akamai.steamstatic.com/steam/apps/...</td>\n      <td>{'ids': [2, 5], 'notes': 'This Game may contai...</td>\n    </tr>\n    <tr>\n      <th>4</th>\n      <td>game</td>\n      <td>Team Fortress 2</td>\n      <td>440</td>\n      <td>0</td>\n      <td>True</td>\n      <td>NaN</td>\n      <td>[629330]</td>\n      <td>NaN</td>\n      <td>English&lt;strong&gt;*&lt;/strong&gt;, Danish, Dutch, Finn...</td>\n      <td>https://cdn.akamai.steamstatic.com/steam/apps/...</td>\n      <td>...</td>\n      <td>[{'id': 1, 'description': 'Multi-player'}, {'i...</td>\n      <td>[{'id': '1', 'description': 'Action'}, {'id': ...</td>\n      <td>[{'id': 0, 'path_thumbnail': 'https://cdn.akam...</td>\n      <td>[{'id': 256698790, 'name': 'Jungle Inferno', '...</td>\n      <td>{'total': 15244}</td>\n      <td>{'total': 520, 'highlighted': [{'name': 'Head ...</td>\n      <td>{'coming_soon': False, 'date': 'Oct 10, 2007'}</td>\n      <td>{'url': 'http://steamcommunity.com/app/440', '...</td>\n      <td>https://cdn.akamai.steamstatic.com/steam/apps/...</td>\n      <td>{'ids': [2, 5], 'notes': 'Includes cartoon vio...</td>\n    </tr>\n    <tr>\n      <th>...</th>\n      <td>...</td>\n      <td>...</td>\n      <td>...</td>\n      <td>...</td>\n      <td>...</td>\n      <td>...</td>\n      <td>...</td>\n      <td>...</td>\n      <td>...</td>\n      <td>...</td>\n      <td>...</td>\n      <td>...</td>\n      <td>...</td>\n      <td>...</td>\n      <td>...</td>\n      <td>...</td>\n      <td>...</td>\n      <td>...</td>\n      <td>...</td>\n      <td>...</td>\n      <td>...</td>\n    </tr>\n    <tr>\n      <th>56722</th>\n      <td>game</td>\n      <td>Crawler</td>\n      <td>1506770</td>\n      <td>0</td>\n      <td>False</td>\n      <td>NaN</td>\n      <td>NaN</td>\n      <td>NaN</td>\n      <td>English</td>\n      <td>https://cdn.akamai.steamstatic.com/steam/apps/...</td>\n      <td>...</td>\n      <td>[{'id': 2, 'description': 'Single-player'}]</td>\n      <td>[{'id': '1', 'description': 'Action'}, {'id': ...</td>\n      <td>[{'id': 0, 'path_thumbnail': 'https://cdn.akam...</td>\n      <td>[{'id': 256826014, 'name': 'CrawTraiWL.mp4', '...</td>\n      <td>NaN</td>\n      <td>{'total': 10, 'highlighted': [{'name': 'SECRET...</td>\n      <td>{'coming_soon': False, 'date': 'Apr 16, 2021'}</td>\n      <td>{'url': '', 'email': 'gamesmzy@gmail.com'}</td>\n      <td>https://cdn.akamai.steamstatic.com/steam/apps/...</td>\n      <td>{'ids': [5], 'notes': 'The game has low level ...</td>\n    </tr>\n    <tr>\n      <th>56723</th>\n      <td>game</td>\n      <td>Coins Collector Simulator</td>\n      <td>1868280</td>\n      <td>0</td>\n      <td>False</td>\n      <td>NaN</td>\n      <td>NaN</td>\n      <td>NaN</td>\n      <td>English</td>\n      <td>https://cdn.akamai.steamstatic.com/steam/apps/...</td>\n      <td>...</td>\n      <td>[{'id': 2, 'description': 'Single-player'}]</td>\n      <td>[{'id': '4', 'description': 'Casual'}, {'id': ...</td>\n      <td>[{'id': 0, 'path_thumbnail': 'https://cdn.akam...</td>\n      <td>[{'id': 256869972, 'name': 'tr', 'thumbnail': ...</td>\n      <td>NaN</td>\n      <td>NaN</td>\n      <td>{'coming_soon': False, 'date': 'Feb 4, 2022'}</td>\n      <td>{'url': '', 'email': 'business@atomicfabrik.com'}</td>\n      <td>https://cdn.akamai.steamstatic.com/steam/apps/...</td>\n      <td>{'ids': [], 'notes': None}</td>\n    </tr>\n    <tr>\n      <th>56724</th>\n      <td>game</td>\n      <td>You Arrive in a Town</td>\n      <td>1466190</td>\n      <td>0</td>\n      <td>False</td>\n      <td>full</td>\n      <td>NaN</td>\n      <td>NaN</td>\n      <td>English&lt;strong&gt;*&lt;/strong&gt;&lt;br&gt;&lt;strong&gt;*&lt;/strong...</td>\n      <td>https://cdn.akamai.steamstatic.com/steam/apps/...</td>\n      <td>...</td>\n      <td>[{'id': 2, 'description': 'Single-player'}, {'...</td>\n      <td>[{'id': '1', 'description': 'Action'}, {'id': ...</td>\n      <td>[{'id': 0, 'path_thumbnail': 'https://cdn.akam...</td>\n      <td>[{'id': 256815239, 'name': 'YAIAT Announcement...</td>\n      <td>NaN</td>\n      <td>{'total': 16, 'highlighted': [{'name': 'Libera...</td>\n      <td>{'coming_soon': False, 'date': 'Jan 26, 2021'}</td>\n      <td>{'url': 'https://twitter.com/BunnyBoxGames', '...</td>\n      <td>https://cdn.akamai.steamstatic.com/steam/apps/...</td>\n      <td>{'ids': [], 'notes': None}</td>\n    </tr>\n    <tr>\n      <th>56725</th>\n      <td>game</td>\n      <td>Hidden Treasures in the Forest of Dreams</td>\n      <td>1853990</td>\n      <td>0</td>\n      <td>False</td>\n      <td>full</td>\n      <td>NaN</td>\n      <td>NaN</td>\n      <td>English, French, Spanish - Spain, Spanish - La...</td>\n      <td>https://cdn.akamai.steamstatic.com/steam/apps/...</td>\n      <td>...</td>\n      <td>[{'id': 2, 'description': 'Single-player'}, {'...</td>\n      <td>[{'id': '4', 'description': 'Casual'}, {'id': ...</td>\n      <td>[{'id': 0, 'path_thumbnail': 'https://cdn.akam...</td>\n      <td>[{'id': 256892466, 'name': 'Launch Trailer', '...</td>\n      <td>NaN</td>\n      <td>{'total': 22, 'highlighted': [{'name': 'Asleep...</td>\n      <td>{'coming_soon': False, 'date': 'Jun 24, 2022'}</td>\n      <td>{'url': 'https://paleo.games/contact/', 'email...</td>\n      <td>https://cdn.akamai.steamstatic.com/steam/apps/...</td>\n      <td>{'ids': [], 'notes': None}</td>\n    </tr>\n    <tr>\n      <th>56726</th>\n      <td>game</td>\n      <td>The Chaos Gene</td>\n      <td>1503000</td>\n      <td>0</td>\n      <td>False</td>\n      <td>NaN</td>\n      <td>NaN</td>\n      <td>NaN</td>\n      <td>English&lt;strong&gt;*&lt;/strong&gt;&lt;br&gt;&lt;strong&gt;*&lt;/strong...</td>\n      <td>https://cdn.akamai.steamstatic.com/steam/apps/...</td>\n      <td>...</td>\n      <td>[{'id': 2, 'description': 'Single-player'}, {'...</td>\n      <td>[{'id': '1', 'description': 'Action'}, {'id': ...</td>\n      <td>[{'id': 0, 'path_thumbnail': 'https://cdn.akam...</td>\n      <td>[{'id': 256825084, 'name': 'The chaos gene tra...</td>\n      <td>NaN</td>\n      <td>NaN</td>\n      <td>{'coming_soon': False, 'date': 'Mar 8, 2021'}</td>\n      <td>{'url': 'https://twitter.com/chaos_gene', 'ema...</td>\n      <td>https://cdn.akamai.steamstatic.com/steam/apps/...</td>\n      <td>{'ids': [1, 2, 5], 'notes': 'Some stages conta...</td>\n    </tr>\n  </tbody>\n</table>\n<p>56727 rows × 36 columns</p>\n</div>"
     },
     "execution_count": 94,
     "metadata": {},
     "output_type": "execute_result"
    }
   ],
   "source": [
    "raw_data = pd.read_csv('SteamAppDetail.csv', low_memory=False)\n",
    "\n",
    "raw_data"
   ],
   "metadata": {
    "collapsed": false,
    "pycharm": {
     "name": "#%%\n"
    }
   }
  },
  {
   "cell_type": "code",
   "execution_count": 95,
   "outputs": [
    {
     "name": "stdout",
     "output_type": "stream",
     "text": [
      "We have  56727 Rows in SteamAPI\n",
      "We have  36 Columns in SteamAPI\n",
      "\n",
      "The empty rows in each Column:\n",
      "type                         100\n",
      "name                         106\n",
      "steam_appid                  100\n",
      "required_age                 100\n",
      "is_free                      100\n",
      "controller_support         44741\n",
      "dlc                        47266\n",
      "fullgame                   56715\n",
      "supported_languages          133\n",
      "header_image                 100\n",
      "website                    25450\n",
      "pc_requirements              100\n",
      "mac_requirements             100\n",
      "linux_requirements           100\n",
      "legal_notice               38943\n",
      "drm_notice                 56425\n",
      "ext_user_account_notice    55732\n",
      "developers                   237\n",
      "publishers                   100\n",
      "demos                      51847\n",
      "price_overview              8313\n",
      "packages                    7721\n",
      "package_groups               100\n",
      "platforms                    100\n",
      "metacritic                 52885\n",
      "reviews                    47791\n",
      "categories                  1079\n",
      "genres                       193\n",
      "screenshots                  175\n",
      "movies                      2578\n",
      "recommendations            44112\n",
      "achievements               25263\n",
      "release_date                 100\n",
      "support_info                 100\n",
      "background                   168\n",
      "content_descriptors          100\n",
      "dtype: int64\n"
     ]
    }
   ],
   "source": [
    "# How many columns and Rows we have\n",
    "print('We have ', raw_data.shape[0], \"Rows in SteamAPI\")\n",
    "print('We have ', raw_data.shape[1], \"Columns in SteamAPI\\n\")\n",
    "\n",
    "null_counts = raw_data.isnull().sum() #How many null Columns and Rows we have\n",
    "print('The empty rows in each Column:')\n",
    "print(null_counts)"
   ],
   "metadata": {
    "collapsed": false,
    "pycharm": {
     "name": "#%%\n"
    }
   }
  },
  {
   "cell_type": "code",
   "execution_count": 96,
   "outputs": [
    {
     "name": "stdout",
     "output_type": "stream",
     "text": [
      "Rows to remove: name 106\n",
      "Rows to remove: steam_appid 100\n",
      "Rows to remove: release_date 100\n"
     ]
    }
   ],
   "source": [
    "'''\n",
    "For the data from SteamAPI, we will keep the data which can be used. Those rows which misses names and steamappid will be cleaned.\n",
    "We also find out that the rows with empty release_date were all removed after removing those with empty steamappid and names.\n",
    "For the price_overview part, since we have another data source which is SteamSpy, we choose to keep them regardless of NAN.\n",
    "'''\n",
    "\n",
    "necessary_column = ['name', 'steam_appid', 'release_date']\n",
    "optional_column = ['is_free', 'required_age']\n",
    "for column in necessary_column:\n",
    "    print('Rows to remove:', column, raw_data[raw_data[column].isnull()].shape[0])"
   ],
   "metadata": {
    "collapsed": false,
    "pycharm": {
     "name": "#%%\n"
    }
   }
  },
  {
   "cell_type": "code",
   "execution_count": 97,
   "outputs": [
    {
     "name": "stdout",
     "output_type": "stream",
     "text": [
      "name            0\n",
      "steam_appid     0\n",
      "release_date    0\n",
      "is_free         0\n",
      "required_age    0\n",
      "dtype: int64\n"
     ]
    },
    {
     "data": {
      "text/plain": "                                           name steam_appid  \\\n0                                        Dota 2         570   \n1              Counter-Strike: Global Offensive         730   \n2                           PUBG: BATTLEGROUNDS      578080   \n3                                     New World     1063730   \n4                               Team Fortress 2         440   \n...                                         ...         ...   \n56603                                   Crawler     1506770   \n56604                 Coins Collector Simulator     1868280   \n56605                      You Arrive in a Town     1466190   \n56606  Hidden Treasures in the Forest of Dreams     1853990   \n56607                            The Chaos Gene     1503000   \n\n                                         release_date is_free required_age  \n0       {'coming_soon': False, 'date': '9 Jul, 2013'}    True            0  \n1      {'coming_soon': False, 'date': 'Aug 21, 2012'}    True            0  \n2      {'coming_soon': False, 'date': 'Dec 21, 2017'}    True            0  \n3      {'coming_soon': False, 'date': 'Sep 28, 2021'}   False            0  \n4      {'coming_soon': False, 'date': 'Oct 10, 2007'}    True            0  \n...                                               ...     ...          ...  \n56603  {'coming_soon': False, 'date': 'Apr 16, 2021'}   False            0  \n56604   {'coming_soon': False, 'date': 'Feb 4, 2022'}   False            0  \n56605  {'coming_soon': False, 'date': 'Jan 26, 2021'}   False            0  \n56606  {'coming_soon': False, 'date': 'Jun 24, 2022'}   False            0  \n56607   {'coming_soon': False, 'date': 'Mar 8, 2021'}   False            0  \n\n[56608 rows x 5 columns]",
      "text/html": "<div>\n<style scoped>\n    .dataframe tbody tr th:only-of-type {\n        vertical-align: middle;\n    }\n\n    .dataframe tbody tr th {\n        vertical-align: top;\n    }\n\n    .dataframe thead th {\n        text-align: right;\n    }\n</style>\n<table border=\"1\" class=\"dataframe\">\n  <thead>\n    <tr style=\"text-align: right;\">\n      <th></th>\n      <th>name</th>\n      <th>steam_appid</th>\n      <th>release_date</th>\n      <th>is_free</th>\n      <th>required_age</th>\n    </tr>\n  </thead>\n  <tbody>\n    <tr>\n      <th>0</th>\n      <td>Dota 2</td>\n      <td>570</td>\n      <td>{'coming_soon': False, 'date': '9 Jul, 2013'}</td>\n      <td>True</td>\n      <td>0</td>\n    </tr>\n    <tr>\n      <th>1</th>\n      <td>Counter-Strike: Global Offensive</td>\n      <td>730</td>\n      <td>{'coming_soon': False, 'date': 'Aug 21, 2012'}</td>\n      <td>True</td>\n      <td>0</td>\n    </tr>\n    <tr>\n      <th>2</th>\n      <td>PUBG: BATTLEGROUNDS</td>\n      <td>578080</td>\n      <td>{'coming_soon': False, 'date': 'Dec 21, 2017'}</td>\n      <td>True</td>\n      <td>0</td>\n    </tr>\n    <tr>\n      <th>3</th>\n      <td>New World</td>\n      <td>1063730</td>\n      <td>{'coming_soon': False, 'date': 'Sep 28, 2021'}</td>\n      <td>False</td>\n      <td>0</td>\n    </tr>\n    <tr>\n      <th>4</th>\n      <td>Team Fortress 2</td>\n      <td>440</td>\n      <td>{'coming_soon': False, 'date': 'Oct 10, 2007'}</td>\n      <td>True</td>\n      <td>0</td>\n    </tr>\n    <tr>\n      <th>...</th>\n      <td>...</td>\n      <td>...</td>\n      <td>...</td>\n      <td>...</td>\n      <td>...</td>\n    </tr>\n    <tr>\n      <th>56603</th>\n      <td>Crawler</td>\n      <td>1506770</td>\n      <td>{'coming_soon': False, 'date': 'Apr 16, 2021'}</td>\n      <td>False</td>\n      <td>0</td>\n    </tr>\n    <tr>\n      <th>56604</th>\n      <td>Coins Collector Simulator</td>\n      <td>1868280</td>\n      <td>{'coming_soon': False, 'date': 'Feb 4, 2022'}</td>\n      <td>False</td>\n      <td>0</td>\n    </tr>\n    <tr>\n      <th>56605</th>\n      <td>You Arrive in a Town</td>\n      <td>1466190</td>\n      <td>{'coming_soon': False, 'date': 'Jan 26, 2021'}</td>\n      <td>False</td>\n      <td>0</td>\n    </tr>\n    <tr>\n      <th>56606</th>\n      <td>Hidden Treasures in the Forest of Dreams</td>\n      <td>1853990</td>\n      <td>{'coming_soon': False, 'date': 'Jun 24, 2022'}</td>\n      <td>False</td>\n      <td>0</td>\n    </tr>\n    <tr>\n      <th>56607</th>\n      <td>The Chaos Gene</td>\n      <td>1503000</td>\n      <td>{'coming_soon': False, 'date': 'Mar 8, 2021'}</td>\n      <td>False</td>\n      <td>0</td>\n    </tr>\n  </tbody>\n</table>\n<p>56608 rows × 5 columns</p>\n</div>"
     },
     "execution_count": 97,
     "metadata": {},
     "output_type": "execute_result"
    }
   ],
   "source": [
    "df = raw_data.drop(raw_data[raw_data['type'] != 'game'].index, inplace = False) #Remove all the rows with type not useable\n",
    "\n",
    "column_keep = necessary_column + optional_column\n",
    "\n",
    "df = df[column_keep] #only keep the columns we need\n",
    "\n",
    "df = df.drop(df[df['name'].isnull() == True].index, inplace = False).reset_index(drop=True)\n",
    "\n",
    "null_counts = df.isnull().sum() #How many null Columns and Rows we have\n",
    "print(null_counts)\n",
    "df"
   ],
   "metadata": {
    "collapsed": false,
    "pycharm": {
     "name": "#%%\n"
    }
   }
  },
  {
   "cell_type": "code",
   "execution_count": 98,
   "outputs": [
    {
     "data": {
      "text/plain": "                                           name steam_appid  release_date  \\\n0                                        Dota 2         570        2013.0   \n1              Counter-Strike: Global Offensive         730        2012.0   \n2                           PUBG: BATTLEGROUNDS      578080        2017.0   \n3                                     New World     1063730        2021.0   \n4                               Team Fortress 2         440        2007.0   \n...                                         ...         ...           ...   \n56484                                   Crawler     1506770        2021.0   \n56485                 Coins Collector Simulator     1868280        2022.0   \n56486                      You Arrive in a Town     1466190        2021.0   \n56487  Hidden Treasures in the Forest of Dreams     1853990        2022.0   \n56488                            The Chaos Gene     1503000        2021.0   \n\n      is_free required_age  \n0        True            0  \n1        True            0  \n2        True            0  \n3       False            0  \n4        True            0  \n...       ...          ...  \n56484   False            0  \n56485   False            0  \n56486   False            0  \n56487   False            0  \n56488   False            0  \n\n[56489 rows x 5 columns]",
      "text/html": "<div>\n<style scoped>\n    .dataframe tbody tr th:only-of-type {\n        vertical-align: middle;\n    }\n\n    .dataframe tbody tr th {\n        vertical-align: top;\n    }\n\n    .dataframe thead th {\n        text-align: right;\n    }\n</style>\n<table border=\"1\" class=\"dataframe\">\n  <thead>\n    <tr style=\"text-align: right;\">\n      <th></th>\n      <th>name</th>\n      <th>steam_appid</th>\n      <th>release_date</th>\n      <th>is_free</th>\n      <th>required_age</th>\n    </tr>\n  </thead>\n  <tbody>\n    <tr>\n      <th>0</th>\n      <td>Dota 2</td>\n      <td>570</td>\n      <td>2013.0</td>\n      <td>True</td>\n      <td>0</td>\n    </tr>\n    <tr>\n      <th>1</th>\n      <td>Counter-Strike: Global Offensive</td>\n      <td>730</td>\n      <td>2012.0</td>\n      <td>True</td>\n      <td>0</td>\n    </tr>\n    <tr>\n      <th>2</th>\n      <td>PUBG: BATTLEGROUNDS</td>\n      <td>578080</td>\n      <td>2017.0</td>\n      <td>True</td>\n      <td>0</td>\n    </tr>\n    <tr>\n      <th>3</th>\n      <td>New World</td>\n      <td>1063730</td>\n      <td>2021.0</td>\n      <td>False</td>\n      <td>0</td>\n    </tr>\n    <tr>\n      <th>4</th>\n      <td>Team Fortress 2</td>\n      <td>440</td>\n      <td>2007.0</td>\n      <td>True</td>\n      <td>0</td>\n    </tr>\n    <tr>\n      <th>...</th>\n      <td>...</td>\n      <td>...</td>\n      <td>...</td>\n      <td>...</td>\n      <td>...</td>\n    </tr>\n    <tr>\n      <th>56484</th>\n      <td>Crawler</td>\n      <td>1506770</td>\n      <td>2021.0</td>\n      <td>False</td>\n      <td>0</td>\n    </tr>\n    <tr>\n      <th>56485</th>\n      <td>Coins Collector Simulator</td>\n      <td>1868280</td>\n      <td>2022.0</td>\n      <td>False</td>\n      <td>0</td>\n    </tr>\n    <tr>\n      <th>56486</th>\n      <td>You Arrive in a Town</td>\n      <td>1466190</td>\n      <td>2021.0</td>\n      <td>False</td>\n      <td>0</td>\n    </tr>\n    <tr>\n      <th>56487</th>\n      <td>Hidden Treasures in the Forest of Dreams</td>\n      <td>1853990</td>\n      <td>2022.0</td>\n      <td>False</td>\n      <td>0</td>\n    </tr>\n    <tr>\n      <th>56488</th>\n      <td>The Chaos Gene</td>\n      <td>1503000</td>\n      <td>2021.0</td>\n      <td>False</td>\n      <td>0</td>\n    </tr>\n  </tbody>\n</table>\n<p>56489 rows × 5 columns</p>\n</div>"
     },
     "execution_count": 98,
     "metadata": {},
     "output_type": "execute_result"
    }
   ],
   "source": [
    "'''\n",
    "After we remove the column names and steamappid with empty rows, we notice that the release_date column includes the 'Coming Soon', which we\n",
    "should exclude in the final visualization\n",
    "'''\n",
    "\n",
    "index_coming_list = []\n",
    "index_coming = 0\n",
    "release_year = []\n",
    "release_date = df['release_date']\n",
    "for i in range(len(release_date)):\n",
    "    release_date[i].strip()\n",
    "    target = release_date[i][16:21]\n",
    "    year = release_date[i][-6:-2]\n",
    "    try:\n",
    "        release_year.append(int(year))\n",
    "    except:\n",
    "        release_year.append(None)\n",
    "    if target != 'False':\n",
    "        index_coming_list.append(index_coming)\n",
    "        release_year.pop()\n",
    "    index_coming += 1\n",
    "\n",
    "df = df.drop(df[df['name'].isnull() == True].index, inplace = False).reset_index(drop=True)\n",
    "\n",
    "df = df.drop(index_coming_list, inplace = False).reset_index(drop=True)\n",
    "df['release_date'] = release_year\n",
    "df"
   ],
   "metadata": {
    "collapsed": false,
    "pycharm": {
     "name": "#%%\n"
    }
   }
  },
  {
   "cell_type": "code",
   "execution_count": 99,
   "outputs": [
    {
     "data": {
      "text/plain": "     appid                              name  \\\n0      570                            Dota 2   \n1      730  Counter-Strike: Global Offensive   \n2   578080               PUBG: BATTLEGROUNDS   \n3  1063730                         New World   \n4      440                   Team Fortress 2   \n\n                          developer      publisher score_rank positive  \\\n0                             Valve          Valve        NaN  1508569   \n1  Valve, Hidden Path Entertainment          Valve        NaN  5881172   \n2                     KRAFTON, Inc.  KRAFTON, Inc.        NaN  1174490   \n3                      Amazon Games   Amazon Games        NaN   158670   \n4                             Valve          Valve        NaN   838187   \n\n  negative userscore                      owners average_forever  \\\n0   310425         0  200,000,000 .. 500,000,000           37249   \n1   780421         0   50,000,000 .. 100,000,000           29324   \n2   904119         0   50,000,000 .. 100,000,000           22185   \n3    74474         0   50,000,000 .. 100,000,000            9459   \n4    57152         0   50,000,000 .. 100,000,000            9712   \n\n  average_2weeks median_forever median_2weeks price initialprice discount  \\\n0           1678            870           955     0            0        0   \n1            827           6220           265     0            0        0   \n2            846           6863           227     0            0        0   \n3            831           3434           402  3999         3999        0   \n4           1450            359           350     0            0        0   \n\n                                           languages  \\\n0  English, Bulgarian, Czech, Danish, Dutch, Finn...   \n1  English, Czech, Danish, Dutch, Finnish, French...   \n2  English, Korean, Simplified Chinese, French, G...   \n3  English, French, Italian, German, Spanish - Sp...   \n4  English, Danish, Dutch, Finnish, French, Germa...   \n\n                                               genre     ccu  \\\n0                     Action, Free to Play, Strategy  681582   \n1                               Action, Free to Play  750651   \n2  Action, Adventure, Free to Play, Massively Mul...  301240   \n3      Action, Adventure, Massively Multiplayer, RPG   38753   \n4                               Action, Free to Play   95148   \n\n                                                tags  \n0  {'Free to Play': 58585, 'MOBA': 19516, 'Multip...  \n1  {'FPS': 88032, 'Shooter': 63261, 'Multiplayer'...  \n2  {'Survival': 14119, 'Shooter': 11913, 'Multipl...  \n3  {'Massively Multiplayer': 583, 'Open World': 5...  \n4  {'Free to Play': 61625, 'Hero Shooter': 60592,...  ",
      "text/html": "<div>\n<style scoped>\n    .dataframe tbody tr th:only-of-type {\n        vertical-align: middle;\n    }\n\n    .dataframe tbody tr th {\n        vertical-align: top;\n    }\n\n    .dataframe thead th {\n        text-align: right;\n    }\n</style>\n<table border=\"1\" class=\"dataframe\">\n  <thead>\n    <tr style=\"text-align: right;\">\n      <th></th>\n      <th>appid</th>\n      <th>name</th>\n      <th>developer</th>\n      <th>publisher</th>\n      <th>score_rank</th>\n      <th>positive</th>\n      <th>negative</th>\n      <th>userscore</th>\n      <th>owners</th>\n      <th>average_forever</th>\n      <th>average_2weeks</th>\n      <th>median_forever</th>\n      <th>median_2weeks</th>\n      <th>price</th>\n      <th>initialprice</th>\n      <th>discount</th>\n      <th>languages</th>\n      <th>genre</th>\n      <th>ccu</th>\n      <th>tags</th>\n    </tr>\n  </thead>\n  <tbody>\n    <tr>\n      <th>0</th>\n      <td>570</td>\n      <td>Dota 2</td>\n      <td>Valve</td>\n      <td>Valve</td>\n      <td>NaN</td>\n      <td>1508569</td>\n      <td>310425</td>\n      <td>0</td>\n      <td>200,000,000 .. 500,000,000</td>\n      <td>37249</td>\n      <td>1678</td>\n      <td>870</td>\n      <td>955</td>\n      <td>0</td>\n      <td>0</td>\n      <td>0</td>\n      <td>English, Bulgarian, Czech, Danish, Dutch, Finn...</td>\n      <td>Action, Free to Play, Strategy</td>\n      <td>681582</td>\n      <td>{'Free to Play': 58585, 'MOBA': 19516, 'Multip...</td>\n    </tr>\n    <tr>\n      <th>1</th>\n      <td>730</td>\n      <td>Counter-Strike: Global Offensive</td>\n      <td>Valve, Hidden Path Entertainment</td>\n      <td>Valve</td>\n      <td>NaN</td>\n      <td>5881172</td>\n      <td>780421</td>\n      <td>0</td>\n      <td>50,000,000 .. 100,000,000</td>\n      <td>29324</td>\n      <td>827</td>\n      <td>6220</td>\n      <td>265</td>\n      <td>0</td>\n      <td>0</td>\n      <td>0</td>\n      <td>English, Czech, Danish, Dutch, Finnish, French...</td>\n      <td>Action, Free to Play</td>\n      <td>750651</td>\n      <td>{'FPS': 88032, 'Shooter': 63261, 'Multiplayer'...</td>\n    </tr>\n    <tr>\n      <th>2</th>\n      <td>578080</td>\n      <td>PUBG: BATTLEGROUNDS</td>\n      <td>KRAFTON, Inc.</td>\n      <td>KRAFTON, Inc.</td>\n      <td>NaN</td>\n      <td>1174490</td>\n      <td>904119</td>\n      <td>0</td>\n      <td>50,000,000 .. 100,000,000</td>\n      <td>22185</td>\n      <td>846</td>\n      <td>6863</td>\n      <td>227</td>\n      <td>0</td>\n      <td>0</td>\n      <td>0</td>\n      <td>English, Korean, Simplified Chinese, French, G...</td>\n      <td>Action, Adventure, Free to Play, Massively Mul...</td>\n      <td>301240</td>\n      <td>{'Survival': 14119, 'Shooter': 11913, 'Multipl...</td>\n    </tr>\n    <tr>\n      <th>3</th>\n      <td>1063730</td>\n      <td>New World</td>\n      <td>Amazon Games</td>\n      <td>Amazon Games</td>\n      <td>NaN</td>\n      <td>158670</td>\n      <td>74474</td>\n      <td>0</td>\n      <td>50,000,000 .. 100,000,000</td>\n      <td>9459</td>\n      <td>831</td>\n      <td>3434</td>\n      <td>402</td>\n      <td>3999</td>\n      <td>3999</td>\n      <td>0</td>\n      <td>English, French, Italian, German, Spanish - Sp...</td>\n      <td>Action, Adventure, Massively Multiplayer, RPG</td>\n      <td>38753</td>\n      <td>{'Massively Multiplayer': 583, 'Open World': 5...</td>\n    </tr>\n    <tr>\n      <th>4</th>\n      <td>440</td>\n      <td>Team Fortress 2</td>\n      <td>Valve</td>\n      <td>Valve</td>\n      <td>NaN</td>\n      <td>838187</td>\n      <td>57152</td>\n      <td>0</td>\n      <td>50,000,000 .. 100,000,000</td>\n      <td>9712</td>\n      <td>1450</td>\n      <td>359</td>\n      <td>350</td>\n      <td>0</td>\n      <td>0</td>\n      <td>0</td>\n      <td>English, Danish, Dutch, Finnish, French, Germa...</td>\n      <td>Action, Free to Play</td>\n      <td>95148</td>\n      <td>{'Free to Play': 61625, 'Hero Shooter': 60592,...</td>\n    </tr>\n  </tbody>\n</table>\n</div>"
     },
     "execution_count": 99,
     "metadata": {},
     "output_type": "execute_result"
    }
   ],
   "source": [
    "'''\n",
    "After cleaning most of the data in SteamAPI, the columns we want in SteamAPI have been filtered out.\n",
    "However, in order to complete our visualization goals, we need more features including how many people own the game, the average rating on the game and the tags of the game.\n",
    "In this case, we also mine data from the SteamSpy to provide a more comprehensive visualization\n",
    "'''\n",
    "raw_Spy = pd.read_csv('SteamSpyAppDetail.csv', low_memory = False)\n",
    "\n",
    "raw_Spy.head(5)"
   ],
   "metadata": {
    "collapsed": false,
    "pycharm": {
     "name": "#%%\n"
    }
   }
  },
  {
   "cell_type": "code",
   "execution_count": 100,
   "outputs": [
    {
     "name": "stdout",
     "output_type": "stream",
     "text": [
      "We have  56981 Rows in SteamSpy\n",
      "We have  20 Columns in SteamSpy\n",
      "\n",
      "The empty rows in each Column:\n",
      "appid                  0\n",
      "name                  11\n",
      "developer            220\n",
      "publisher            226\n",
      "score_rank         56930\n",
      "positive               0\n",
      "negative               0\n",
      "userscore              0\n",
      "owners                 0\n",
      "average_forever        0\n",
      "average_2weeks         0\n",
      "median_forever         0\n",
      "median_2weeks          0\n",
      "price                 29\n",
      "initialprice          22\n",
      "discount              22\n",
      "languages             88\n",
      "genre                251\n",
      "ccu                    0\n",
      "tags                   0\n",
      "dtype: int64\n"
     ]
    }
   ],
   "source": [
    "# How many columns and Rows we have\n",
    "print('We have ', raw_Spy.shape[0], \"Rows in SteamSpy\")\n",
    "print('We have ', raw_Spy.shape[1], \"Columns in SteamSpy\\n\")\n",
    "\n",
    "null_counts = raw_Spy.isnull().sum() #How many null Columns and Rows we have\n",
    "print('The empty rows in each Column:')\n",
    "print(null_counts)"
   ],
   "metadata": {
    "collapsed": false,
    "pycharm": {
     "name": "#%%\n"
    }
   }
  },
  {
   "cell_type": "code",
   "execution_count": 101,
   "outputs": [
    {
     "name": "stdout",
     "output_type": "stream",
     "text": [
      "Rows to remove: appid 0\n",
      "Rows to remove: positive 0\n",
      "Rows to remove: negative 0\n",
      "Rows to remove: owners 0\n",
      "Rows to remove: price 29\n",
      "Rows to remove: tags 0\n"
     ]
    }
   ],
   "source": [
    "'''\n",
    "For the data from SteamSpy, we need to the similar thing we did in SteamAPI which is to keep the features we need.\n",
    "'''\n",
    "\n",
    "necessary_column = ['appid', 'positive', 'negative', 'owners', 'price', 'tags']\n",
    "optional_column = ['name', 'publisher']\n",
    "for column in necessary_column:\n",
    "    print('Rows to remove:', column, raw_Spy[raw_Spy[column].isnull()].shape[0])"
   ],
   "metadata": {
    "collapsed": false,
    "pycharm": {
     "name": "#%%\n"
    }
   }
  },
  {
   "cell_type": "code",
   "execution_count": 102,
   "outputs": [
    {
     "data": {
      "text/plain": "         appid positive negative                      owners price  \\\n0          570  1508569   310425  200,000,000 .. 500,000,000     0   \n1          730  5881172   780421   50,000,000 .. 100,000,000     0   \n2       578080  1174490   904119   50,000,000 .. 100,000,000     0   \n3      1063730   158670    74474   50,000,000 .. 100,000,000  3999   \n4          440   838187    57152   50,000,000 .. 100,000,000     0   \n...        ...      ...      ...                         ...   ...   \n56941  1506770        5        7                 0 .. 20,000   399   \n56942  1868280        5        3                 0 .. 20,000   499   \n56943  1466190        9       10                 0 .. 20,000   499   \n56944  1853990        2        0                 0 .. 20,000  1999   \n56945  1503000        3        0                 0 .. 20,000  1299   \n\n                                                    tags  \\\n0      {'Free to Play': 58585, 'MOBA': 19516, 'Multip...   \n1      {'FPS': 88032, 'Shooter': 63261, 'Multiplayer'...   \n2      {'Survival': 14119, 'Shooter': 11913, 'Multipl...   \n3      {'Massively Multiplayer': 583, 'Open World': 5...   \n4      {'Free to Play': 61625, 'Hero Shooter': 60592,...   \n...                                                  ...   \n56941  {'Adventure': 180, 'Action RPG': 153, 'Explora...   \n56942  {'Casual': 181, 'Racing': 174, 'Simulation': 1...   \n56943  {'Indie': 390, 'Action': 385, 'Casual': 382, '...   \n56944  {'Relaxing': 252, 'Nature': 246, 'Walking Simu...   \n56945  {'Early Access': 249, 'Fighting': 244, 'Arcade...   \n\n                                           name  \\\n0                                        Dota 2   \n1              Counter-Strike: Global Offensive   \n2                           PUBG: BATTLEGROUNDS   \n3                                     New World   \n4                               Team Fortress 2   \n...                                         ...   \n56941                                   Crawler   \n56942                 Coins Collector Simulator   \n56943                      You Arrive in a Town   \n56944  Hidden Treasures in the Forest of Dreams   \n56945                            The Chaos Gene   \n\n                               publisher  \n0                                  Valve  \n1                                  Valve  \n2                          KRAFTON, Inc.  \n3                           Amazon Games  \n4                                  Valve  \n...                                  ...  \n56941                          MZY GAMES  \n56942  Atomic Fabrik, Cristian Manolachi  \n56943                    Bunny Box Games  \n56944                    Paleo Games LLC  \n56945               Andrew T Productions  \n\n[56946 rows x 8 columns]",
      "text/html": "<div>\n<style scoped>\n    .dataframe tbody tr th:only-of-type {\n        vertical-align: middle;\n    }\n\n    .dataframe tbody tr th {\n        vertical-align: top;\n    }\n\n    .dataframe thead th {\n        text-align: right;\n    }\n</style>\n<table border=\"1\" class=\"dataframe\">\n  <thead>\n    <tr style=\"text-align: right;\">\n      <th></th>\n      <th>appid</th>\n      <th>positive</th>\n      <th>negative</th>\n      <th>owners</th>\n      <th>price</th>\n      <th>tags</th>\n      <th>name</th>\n      <th>publisher</th>\n    </tr>\n  </thead>\n  <tbody>\n    <tr>\n      <th>0</th>\n      <td>570</td>\n      <td>1508569</td>\n      <td>310425</td>\n      <td>200,000,000 .. 500,000,000</td>\n      <td>0</td>\n      <td>{'Free to Play': 58585, 'MOBA': 19516, 'Multip...</td>\n      <td>Dota 2</td>\n      <td>Valve</td>\n    </tr>\n    <tr>\n      <th>1</th>\n      <td>730</td>\n      <td>5881172</td>\n      <td>780421</td>\n      <td>50,000,000 .. 100,000,000</td>\n      <td>0</td>\n      <td>{'FPS': 88032, 'Shooter': 63261, 'Multiplayer'...</td>\n      <td>Counter-Strike: Global Offensive</td>\n      <td>Valve</td>\n    </tr>\n    <tr>\n      <th>2</th>\n      <td>578080</td>\n      <td>1174490</td>\n      <td>904119</td>\n      <td>50,000,000 .. 100,000,000</td>\n      <td>0</td>\n      <td>{'Survival': 14119, 'Shooter': 11913, 'Multipl...</td>\n      <td>PUBG: BATTLEGROUNDS</td>\n      <td>KRAFTON, Inc.</td>\n    </tr>\n    <tr>\n      <th>3</th>\n      <td>1063730</td>\n      <td>158670</td>\n      <td>74474</td>\n      <td>50,000,000 .. 100,000,000</td>\n      <td>3999</td>\n      <td>{'Massively Multiplayer': 583, 'Open World': 5...</td>\n      <td>New World</td>\n      <td>Amazon Games</td>\n    </tr>\n    <tr>\n      <th>4</th>\n      <td>440</td>\n      <td>838187</td>\n      <td>57152</td>\n      <td>50,000,000 .. 100,000,000</td>\n      <td>0</td>\n      <td>{'Free to Play': 61625, 'Hero Shooter': 60592,...</td>\n      <td>Team Fortress 2</td>\n      <td>Valve</td>\n    </tr>\n    <tr>\n      <th>...</th>\n      <td>...</td>\n      <td>...</td>\n      <td>...</td>\n      <td>...</td>\n      <td>...</td>\n      <td>...</td>\n      <td>...</td>\n      <td>...</td>\n    </tr>\n    <tr>\n      <th>56941</th>\n      <td>1506770</td>\n      <td>5</td>\n      <td>7</td>\n      <td>0 .. 20,000</td>\n      <td>399</td>\n      <td>{'Adventure': 180, 'Action RPG': 153, 'Explora...</td>\n      <td>Crawler</td>\n      <td>MZY GAMES</td>\n    </tr>\n    <tr>\n      <th>56942</th>\n      <td>1868280</td>\n      <td>5</td>\n      <td>3</td>\n      <td>0 .. 20,000</td>\n      <td>499</td>\n      <td>{'Casual': 181, 'Racing': 174, 'Simulation': 1...</td>\n      <td>Coins Collector Simulator</td>\n      <td>Atomic Fabrik, Cristian Manolachi</td>\n    </tr>\n    <tr>\n      <th>56943</th>\n      <td>1466190</td>\n      <td>9</td>\n      <td>10</td>\n      <td>0 .. 20,000</td>\n      <td>499</td>\n      <td>{'Indie': 390, 'Action': 385, 'Casual': 382, '...</td>\n      <td>You Arrive in a Town</td>\n      <td>Bunny Box Games</td>\n    </tr>\n    <tr>\n      <th>56944</th>\n      <td>1853990</td>\n      <td>2</td>\n      <td>0</td>\n      <td>0 .. 20,000</td>\n      <td>1999</td>\n      <td>{'Relaxing': 252, 'Nature': 246, 'Walking Simu...</td>\n      <td>Hidden Treasures in the Forest of Dreams</td>\n      <td>Paleo Games LLC</td>\n    </tr>\n    <tr>\n      <th>56945</th>\n      <td>1503000</td>\n      <td>3</td>\n      <td>0</td>\n      <td>0 .. 20,000</td>\n      <td>1299</td>\n      <td>{'Early Access': 249, 'Fighting': 244, 'Arcade...</td>\n      <td>The Chaos Gene</td>\n      <td>Andrew T Productions</td>\n    </tr>\n  </tbody>\n</table>\n<p>56946 rows × 8 columns</p>\n</div>"
     },
     "execution_count": 102,
     "metadata": {},
     "output_type": "execute_result"
    }
   ],
   "source": [
    "df_spy = raw_Spy.drop(raw_Spy[raw_Spy['price'].isnull() == True].index, inplace = False).reset_index(drop=True)\n",
    "\n",
    "df_spy = df_spy.drop(df_spy[df_spy['appid'] == 'appid'].index, inplace = False).reset_index(drop=True)\n",
    "\n",
    "Spy_column_keep = necessary_column + optional_column\n",
    "\n",
    "df_spy = df_spy[Spy_column_keep] #only keep the columns we need\n",
    "\n",
    "df_spy"
   ],
   "metadata": {
    "collapsed": false,
    "pycharm": {
     "name": "#%%\n"
    }
   }
  },
  {
   "cell_type": "code",
   "execution_count": 103,
   "outputs": [
    {
     "data": {
      "text/plain": "0        {'Free to Play': 58585, 'MOBA': 19516, 'Multip...\n1        {'FPS': 88032, 'Shooter': 63261, 'Multiplayer'...\n2        {'Survival': 14119, 'Shooter': 11913, 'Multipl...\n3        {'Massively Multiplayer': 583, 'Open World': 5...\n4        {'Free to Play': 61625, 'Hero Shooter': 60592,...\n                               ...                        \n56630    {'Adventure': 180, 'Action RPG': 153, 'Explora...\n56631    {'Casual': 181, 'Racing': 174, 'Simulation': 1...\n56632    {'Indie': 390, 'Action': 385, 'Casual': 382, '...\n56633    {'Relaxing': 252, 'Nature': 246, 'Walking Simu...\n56634    {'Early Access': 249, 'Fighting': 244, 'Arcade...\nName: tags, Length: 56635, dtype: object"
     },
     "execution_count": 103,
     "metadata": {},
     "output_type": "execute_result"
    }
   ],
   "source": [
    "df_spy = df_spy.drop(df_spy[df_spy['tags'] == '[]'].index, inplace = False).reset_index(drop=True)\n",
    "\n",
    "tags = df_spy['tags']\n",
    "tags"
   ],
   "metadata": {
    "collapsed": false,
    "pycharm": {
     "name": "#%%\n"
    }
   }
  },
  {
   "cell_type": "code",
   "execution_count": 104,
   "outputs": [
    {
     "data": {
      "text/plain": "         appid positive negative                      owners price  \\\n0          570  1508569   310425  200,000,000 .. 500,000,000     0   \n1          730  5881172   780421   50,000,000 .. 100,000,000     0   \n2       578080  1174490   904119   50,000,000 .. 100,000,000     0   \n3      1063730   158670    74474   50,000,000 .. 100,000,000  3999   \n4          440   838187    57152   50,000,000 .. 100,000,000     0   \n...        ...      ...      ...                         ...   ...   \n56630  1506770        5        7                 0 .. 20,000   399   \n56631  1868280        5        3                 0 .. 20,000   499   \n56632  1466190        9       10                 0 .. 20,000   499   \n56633  1853990        2        0                 0 .. 20,000  1999   \n56634  1503000        3        0                 0 .. 20,000  1299   \n\n                                                    tags  \\\n0      [Free to Play, MOBA, Multiplayer, Strategy, e-...   \n1      [FPS, Shooter, Multiplayer, Competitive, Actio...   \n2      [Survival, Shooter, Multiplayer, Battle Royale...   \n3      [Massively Multiplayer, Open World, MMORPG, RP...   \n4      [Free to Play, Hero Shooter, Multiplayer, FPS,...   \n...                                                  ...   \n56630  [Adventure, Action RPG, Exploration, Dungeon C...   \n56631  [Casual, Racing, Simulation, Sports, Strategy,...   \n56632  [Indie, Action, Casual, RPG, Action RPG, Arcad...   \n56633  [Relaxing, Nature, Walking Simulator, Procedur...   \n56634  [Early Access, Fighting, Arcade, Indie, Casual...   \n\n                                           name  \\\n0                                        Dota 2   \n1              Counter-Strike: Global Offensive   \n2                           PUBG: BATTLEGROUNDS   \n3                                     New World   \n4                               Team Fortress 2   \n...                                         ...   \n56630                                   Crawler   \n56631                 Coins Collector Simulator   \n56632                      You Arrive in a Town   \n56633  Hidden Treasures in the Forest of Dreams   \n56634                            The Chaos Gene   \n\n                               publisher  \n0                                  Valve  \n1                                  Valve  \n2                          KRAFTON, Inc.  \n3                           Amazon Games  \n4                                  Valve  \n...                                  ...  \n56630                          MZY GAMES  \n56631  Atomic Fabrik, Cristian Manolachi  \n56632                    Bunny Box Games  \n56633                    Paleo Games LLC  \n56634               Andrew T Productions  \n\n[56635 rows x 8 columns]",
      "text/html": "<div>\n<style scoped>\n    .dataframe tbody tr th:only-of-type {\n        vertical-align: middle;\n    }\n\n    .dataframe tbody tr th {\n        vertical-align: top;\n    }\n\n    .dataframe thead th {\n        text-align: right;\n    }\n</style>\n<table border=\"1\" class=\"dataframe\">\n  <thead>\n    <tr style=\"text-align: right;\">\n      <th></th>\n      <th>appid</th>\n      <th>positive</th>\n      <th>negative</th>\n      <th>owners</th>\n      <th>price</th>\n      <th>tags</th>\n      <th>name</th>\n      <th>publisher</th>\n    </tr>\n  </thead>\n  <tbody>\n    <tr>\n      <th>0</th>\n      <td>570</td>\n      <td>1508569</td>\n      <td>310425</td>\n      <td>200,000,000 .. 500,000,000</td>\n      <td>0</td>\n      <td>[Free to Play, MOBA, Multiplayer, Strategy, e-...</td>\n      <td>Dota 2</td>\n      <td>Valve</td>\n    </tr>\n    <tr>\n      <th>1</th>\n      <td>730</td>\n      <td>5881172</td>\n      <td>780421</td>\n      <td>50,000,000 .. 100,000,000</td>\n      <td>0</td>\n      <td>[FPS, Shooter, Multiplayer, Competitive, Actio...</td>\n      <td>Counter-Strike: Global Offensive</td>\n      <td>Valve</td>\n    </tr>\n    <tr>\n      <th>2</th>\n      <td>578080</td>\n      <td>1174490</td>\n      <td>904119</td>\n      <td>50,000,000 .. 100,000,000</td>\n      <td>0</td>\n      <td>[Survival, Shooter, Multiplayer, Battle Royale...</td>\n      <td>PUBG: BATTLEGROUNDS</td>\n      <td>KRAFTON, Inc.</td>\n    </tr>\n    <tr>\n      <th>3</th>\n      <td>1063730</td>\n      <td>158670</td>\n      <td>74474</td>\n      <td>50,000,000 .. 100,000,000</td>\n      <td>3999</td>\n      <td>[Massively Multiplayer, Open World, MMORPG, RP...</td>\n      <td>New World</td>\n      <td>Amazon Games</td>\n    </tr>\n    <tr>\n      <th>4</th>\n      <td>440</td>\n      <td>838187</td>\n      <td>57152</td>\n      <td>50,000,000 .. 100,000,000</td>\n      <td>0</td>\n      <td>[Free to Play, Hero Shooter, Multiplayer, FPS,...</td>\n      <td>Team Fortress 2</td>\n      <td>Valve</td>\n    </tr>\n    <tr>\n      <th>...</th>\n      <td>...</td>\n      <td>...</td>\n      <td>...</td>\n      <td>...</td>\n      <td>...</td>\n      <td>...</td>\n      <td>...</td>\n      <td>...</td>\n    </tr>\n    <tr>\n      <th>56630</th>\n      <td>1506770</td>\n      <td>5</td>\n      <td>7</td>\n      <td>0 .. 20,000</td>\n      <td>399</td>\n      <td>[Adventure, Action RPG, Exploration, Dungeon C...</td>\n      <td>Crawler</td>\n      <td>MZY GAMES</td>\n    </tr>\n    <tr>\n      <th>56631</th>\n      <td>1868280</td>\n      <td>5</td>\n      <td>3</td>\n      <td>0 .. 20,000</td>\n      <td>499</td>\n      <td>[Casual, Racing, Simulation, Sports, Strategy,...</td>\n      <td>Coins Collector Simulator</td>\n      <td>Atomic Fabrik, Cristian Manolachi</td>\n    </tr>\n    <tr>\n      <th>56632</th>\n      <td>1466190</td>\n      <td>9</td>\n      <td>10</td>\n      <td>0 .. 20,000</td>\n      <td>499</td>\n      <td>[Indie, Action, Casual, RPG, Action RPG, Arcad...</td>\n      <td>You Arrive in a Town</td>\n      <td>Bunny Box Games</td>\n    </tr>\n    <tr>\n      <th>56633</th>\n      <td>1853990</td>\n      <td>2</td>\n      <td>0</td>\n      <td>0 .. 20,000</td>\n      <td>1999</td>\n      <td>[Relaxing, Nature, Walking Simulator, Procedur...</td>\n      <td>Hidden Treasures in the Forest of Dreams</td>\n      <td>Paleo Games LLC</td>\n    </tr>\n    <tr>\n      <th>56634</th>\n      <td>1503000</td>\n      <td>3</td>\n      <td>0</td>\n      <td>0 .. 20,000</td>\n      <td>1299</td>\n      <td>[Early Access, Fighting, Arcade, Indie, Casual...</td>\n      <td>The Chaos Gene</td>\n      <td>Andrew T Productions</td>\n    </tr>\n  </tbody>\n</table>\n<p>56635 rows × 8 columns</p>\n</div>"
     },
     "execution_count": 104,
     "metadata": {},
     "output_type": "execute_result"
    }
   ],
   "source": [
    "'''\n",
    "Deal with the tag object and split them into the list\n",
    "'''\n",
    "\n",
    "tag= []\n",
    "for i in range(len(df_spy['tags'])):\n",
    "    tag_object = df_spy['tags'][i][1:-1]\n",
    "    try:\n",
    "        tag_split = re.split('\\:|\\,',tag_object)\n",
    "        temp = []\n",
    "        for i in range(int((len(tag_split)-1)/2)):\n",
    "            target = 2*i\n",
    "            if i ==0 :\n",
    "                temp.append(tag_split[target][1:-1])\n",
    "            else:\n",
    "                temp.append(tag_split[target][2:-1])\n",
    "        tag.append(temp)\n",
    "    except:\n",
    "        tag.append([])\n",
    "df_spy['tags'] = tag\n",
    "df_spy"
   ],
   "metadata": {
    "collapsed": false,
    "pycharm": {
     "name": "#%%\n"
    }
   }
  },
  {
   "cell_type": "code",
   "execution_count": 105,
   "outputs": [
    {
     "name": "stdout",
     "output_type": "stream",
     "text": [
      "29    [Action, FPS, Multiplayer, Shooter, Classic, T...\n",
      "Name: tags, dtype: object\n"
     ]
    }
   ],
   "source": [
    "print(df_spy.loc[df_spy['name'] == 'Counter-Strike'].tags)"
   ],
   "metadata": {
    "collapsed": false,
    "pycharm": {
     "name": "#%%\n"
    }
   }
  },
  {
   "cell_type": "code",
   "execution_count": 106,
   "outputs": [
    {
     "data": {
      "text/plain": "         appid positive negative     owners price  \\\n0          570  1508569   310425  350000000     0   \n1          730  5881172   780421   75000000     0   \n2       578080  1174490   904119   75000000     0   \n3      1063730   158670    74474   75000000  3999   \n4          440   838187    57152   75000000     0   \n...        ...      ...      ...        ...   ...   \n56630  1506770        5        7      10000   399   \n56631  1868280        5        3      10000   499   \n56632  1466190        9       10      10000   499   \n56633  1853990        2        0      10000  1999   \n56634  1503000        3        0      10000  1299   \n\n                                                    tags  \\\n0      [Free to Play, MOBA, Multiplayer, Strategy, e-...   \n1      [FPS, Shooter, Multiplayer, Competitive, Actio...   \n2      [Survival, Shooter, Multiplayer, Battle Royale...   \n3      [Massively Multiplayer, Open World, MMORPG, RP...   \n4      [Free to Play, Hero Shooter, Multiplayer, FPS,...   \n...                                                  ...   \n56630  [Adventure, Action RPG, Exploration, Dungeon C...   \n56631  [Casual, Racing, Simulation, Sports, Strategy,...   \n56632  [Indie, Action, Casual, RPG, Action RPG, Arcad...   \n56633  [Relaxing, Nature, Walking Simulator, Procedur...   \n56634  [Early Access, Fighting, Arcade, Indie, Casual...   \n\n                                           name  \\\n0                                        Dota 2   \n1              Counter-Strike: Global Offensive   \n2                           PUBG: BATTLEGROUNDS   \n3                                     New World   \n4                               Team Fortress 2   \n...                                         ...   \n56630                                   Crawler   \n56631                 Coins Collector Simulator   \n56632                      You Arrive in a Town   \n56633  Hidden Treasures in the Forest of Dreams   \n56634                            The Chaos Gene   \n\n                               publisher  \n0                                  Valve  \n1                                  Valve  \n2                          KRAFTON, Inc.  \n3                           Amazon Games  \n4                                  Valve  \n...                                  ...  \n56630                          MZY GAMES  \n56631  Atomic Fabrik, Cristian Manolachi  \n56632                    Bunny Box Games  \n56633                    Paleo Games LLC  \n56634               Andrew T Productions  \n\n[56635 rows x 8 columns]",
      "text/html": "<div>\n<style scoped>\n    .dataframe tbody tr th:only-of-type {\n        vertical-align: middle;\n    }\n\n    .dataframe tbody tr th {\n        vertical-align: top;\n    }\n\n    .dataframe thead th {\n        text-align: right;\n    }\n</style>\n<table border=\"1\" class=\"dataframe\">\n  <thead>\n    <tr style=\"text-align: right;\">\n      <th></th>\n      <th>appid</th>\n      <th>positive</th>\n      <th>negative</th>\n      <th>owners</th>\n      <th>price</th>\n      <th>tags</th>\n      <th>name</th>\n      <th>publisher</th>\n    </tr>\n  </thead>\n  <tbody>\n    <tr>\n      <th>0</th>\n      <td>570</td>\n      <td>1508569</td>\n      <td>310425</td>\n      <td>350000000</td>\n      <td>0</td>\n      <td>[Free to Play, MOBA, Multiplayer, Strategy, e-...</td>\n      <td>Dota 2</td>\n      <td>Valve</td>\n    </tr>\n    <tr>\n      <th>1</th>\n      <td>730</td>\n      <td>5881172</td>\n      <td>780421</td>\n      <td>75000000</td>\n      <td>0</td>\n      <td>[FPS, Shooter, Multiplayer, Competitive, Actio...</td>\n      <td>Counter-Strike: Global Offensive</td>\n      <td>Valve</td>\n    </tr>\n    <tr>\n      <th>2</th>\n      <td>578080</td>\n      <td>1174490</td>\n      <td>904119</td>\n      <td>75000000</td>\n      <td>0</td>\n      <td>[Survival, Shooter, Multiplayer, Battle Royale...</td>\n      <td>PUBG: BATTLEGROUNDS</td>\n      <td>KRAFTON, Inc.</td>\n    </tr>\n    <tr>\n      <th>3</th>\n      <td>1063730</td>\n      <td>158670</td>\n      <td>74474</td>\n      <td>75000000</td>\n      <td>3999</td>\n      <td>[Massively Multiplayer, Open World, MMORPG, RP...</td>\n      <td>New World</td>\n      <td>Amazon Games</td>\n    </tr>\n    <tr>\n      <th>4</th>\n      <td>440</td>\n      <td>838187</td>\n      <td>57152</td>\n      <td>75000000</td>\n      <td>0</td>\n      <td>[Free to Play, Hero Shooter, Multiplayer, FPS,...</td>\n      <td>Team Fortress 2</td>\n      <td>Valve</td>\n    </tr>\n    <tr>\n      <th>...</th>\n      <td>...</td>\n      <td>...</td>\n      <td>...</td>\n      <td>...</td>\n      <td>...</td>\n      <td>...</td>\n      <td>...</td>\n      <td>...</td>\n    </tr>\n    <tr>\n      <th>56630</th>\n      <td>1506770</td>\n      <td>5</td>\n      <td>7</td>\n      <td>10000</td>\n      <td>399</td>\n      <td>[Adventure, Action RPG, Exploration, Dungeon C...</td>\n      <td>Crawler</td>\n      <td>MZY GAMES</td>\n    </tr>\n    <tr>\n      <th>56631</th>\n      <td>1868280</td>\n      <td>5</td>\n      <td>3</td>\n      <td>10000</td>\n      <td>499</td>\n      <td>[Casual, Racing, Simulation, Sports, Strategy,...</td>\n      <td>Coins Collector Simulator</td>\n      <td>Atomic Fabrik, Cristian Manolachi</td>\n    </tr>\n    <tr>\n      <th>56632</th>\n      <td>1466190</td>\n      <td>9</td>\n      <td>10</td>\n      <td>10000</td>\n      <td>499</td>\n      <td>[Indie, Action, Casual, RPG, Action RPG, Arcad...</td>\n      <td>You Arrive in a Town</td>\n      <td>Bunny Box Games</td>\n    </tr>\n    <tr>\n      <th>56633</th>\n      <td>1853990</td>\n      <td>2</td>\n      <td>0</td>\n      <td>10000</td>\n      <td>1999</td>\n      <td>[Relaxing, Nature, Walking Simulator, Procedur...</td>\n      <td>Hidden Treasures in the Forest of Dreams</td>\n      <td>Paleo Games LLC</td>\n    </tr>\n    <tr>\n      <th>56634</th>\n      <td>1503000</td>\n      <td>3</td>\n      <td>0</td>\n      <td>10000</td>\n      <td>1299</td>\n      <td>[Early Access, Fighting, Arcade, Indie, Casual...</td>\n      <td>The Chaos Gene</td>\n      <td>Andrew T Productions</td>\n    </tr>\n  </tbody>\n</table>\n<p>56635 rows × 8 columns</p>\n</div>"
     },
     "execution_count": 106,
     "metadata": {},
     "output_type": "execute_result"
    }
   ],
   "source": [
    "owners = []\n",
    "for i in range(len(df_spy['owners'])):\n",
    "    owner_object = df_spy['owners'][i]\n",
    "    n1 = owner_object.split(\"..\")[0].strip()\n",
    "    n2 = owner_object.split(\"..\")[1].strip()\n",
    "    n1 = int(n1.replace(',' , ''))\n",
    "    n2 = int(n2.replace(',' , ''))\n",
    "    res = (n1+n2)/2\n",
    "    owners.append(int(res))\n",
    "df_spy['owners'] = owners\n",
    "df_spy"
   ],
   "metadata": {
    "collapsed": false,
    "pycharm": {
     "name": "#%%\n"
    }
   }
  },
  {
   "cell_type": "code",
   "execution_count": 107,
   "outputs": [
    {
     "data": {
      "text/plain": "         appid positive negative     owners price  \\\n0          570  1508569   310425  350000000     0   \n1          730  5881172   780421   75000000     0   \n2       578080  1174490   904119   75000000     0   \n3      1063730   158670    74474   75000000  3999   \n4          440   838187    57152   75000000     0   \n...        ...      ...      ...        ...   ...   \n56630  1506770        5        7      10000   399   \n56631  1868280        5        3      10000   499   \n56632  1466190        9       10      10000   499   \n56633  1853990        2        0      10000  1999   \n56634  1503000        3        0      10000  1299   \n\n                                                    tags  \\\n0      [Free to Play, MOBA, Multiplayer, Strategy, e-...   \n1      [FPS, Shooter, Multiplayer, Competitive, Actio...   \n2      [Survival, Shooter, Multiplayer, Battle Royale...   \n3      [Massively Multiplayer, Open World, MMORPG, RP...   \n4      [Free to Play, Hero Shooter, Multiplayer, FPS,...   \n...                                                  ...   \n56630  [Adventure, Action RPG, Exploration, Dungeon C...   \n56631  [Casual, Racing, Simulation, Sports, Strategy,...   \n56632  [Indie, Action, Casual, RPG, Action RPG, Arcad...   \n56633  [Relaxing, Nature, Walking Simulator, Procedur...   \n56634  [Early Access, Fighting, Arcade, Indie, Casual...   \n\n                                           name  \\\n0                                        Dota 2   \n1              Counter-Strike: Global Offensive   \n2                           PUBG: BATTLEGROUNDS   \n3                                     New World   \n4                               Team Fortress 2   \n...                                         ...   \n56630                                   Crawler   \n56631                 Coins Collector Simulator   \n56632                      You Arrive in a Town   \n56633  Hidden Treasures in the Forest of Dreams   \n56634                            The Chaos Gene   \n\n                               publisher      rate  \n0                                  Valve  0.829342  \n1                                  Valve  0.882848  \n2                          KRAFTON, Inc.  0.565037  \n3                           Amazon Games  0.680567  \n4                                  Valve  0.936167  \n...                                  ...       ...  \n56630                          MZY GAMES  0.416667  \n56631  Atomic Fabrik, Cristian Manolachi  0.625000  \n56632                    Bunny Box Games  0.473684  \n56633                    Paleo Games LLC  1.000000  \n56634               Andrew T Productions  1.000000  \n\n[56635 rows x 9 columns]",
      "text/html": "<div>\n<style scoped>\n    .dataframe tbody tr th:only-of-type {\n        vertical-align: middle;\n    }\n\n    .dataframe tbody tr th {\n        vertical-align: top;\n    }\n\n    .dataframe thead th {\n        text-align: right;\n    }\n</style>\n<table border=\"1\" class=\"dataframe\">\n  <thead>\n    <tr style=\"text-align: right;\">\n      <th></th>\n      <th>appid</th>\n      <th>positive</th>\n      <th>negative</th>\n      <th>owners</th>\n      <th>price</th>\n      <th>tags</th>\n      <th>name</th>\n      <th>publisher</th>\n      <th>rate</th>\n    </tr>\n  </thead>\n  <tbody>\n    <tr>\n      <th>0</th>\n      <td>570</td>\n      <td>1508569</td>\n      <td>310425</td>\n      <td>350000000</td>\n      <td>0</td>\n      <td>[Free to Play, MOBA, Multiplayer, Strategy, e-...</td>\n      <td>Dota 2</td>\n      <td>Valve</td>\n      <td>0.829342</td>\n    </tr>\n    <tr>\n      <th>1</th>\n      <td>730</td>\n      <td>5881172</td>\n      <td>780421</td>\n      <td>75000000</td>\n      <td>0</td>\n      <td>[FPS, Shooter, Multiplayer, Competitive, Actio...</td>\n      <td>Counter-Strike: Global Offensive</td>\n      <td>Valve</td>\n      <td>0.882848</td>\n    </tr>\n    <tr>\n      <th>2</th>\n      <td>578080</td>\n      <td>1174490</td>\n      <td>904119</td>\n      <td>75000000</td>\n      <td>0</td>\n      <td>[Survival, Shooter, Multiplayer, Battle Royale...</td>\n      <td>PUBG: BATTLEGROUNDS</td>\n      <td>KRAFTON, Inc.</td>\n      <td>0.565037</td>\n    </tr>\n    <tr>\n      <th>3</th>\n      <td>1063730</td>\n      <td>158670</td>\n      <td>74474</td>\n      <td>75000000</td>\n      <td>3999</td>\n      <td>[Massively Multiplayer, Open World, MMORPG, RP...</td>\n      <td>New World</td>\n      <td>Amazon Games</td>\n      <td>0.680567</td>\n    </tr>\n    <tr>\n      <th>4</th>\n      <td>440</td>\n      <td>838187</td>\n      <td>57152</td>\n      <td>75000000</td>\n      <td>0</td>\n      <td>[Free to Play, Hero Shooter, Multiplayer, FPS,...</td>\n      <td>Team Fortress 2</td>\n      <td>Valve</td>\n      <td>0.936167</td>\n    </tr>\n    <tr>\n      <th>...</th>\n      <td>...</td>\n      <td>...</td>\n      <td>...</td>\n      <td>...</td>\n      <td>...</td>\n      <td>...</td>\n      <td>...</td>\n      <td>...</td>\n      <td>...</td>\n    </tr>\n    <tr>\n      <th>56630</th>\n      <td>1506770</td>\n      <td>5</td>\n      <td>7</td>\n      <td>10000</td>\n      <td>399</td>\n      <td>[Adventure, Action RPG, Exploration, Dungeon C...</td>\n      <td>Crawler</td>\n      <td>MZY GAMES</td>\n      <td>0.416667</td>\n    </tr>\n    <tr>\n      <th>56631</th>\n      <td>1868280</td>\n      <td>5</td>\n      <td>3</td>\n      <td>10000</td>\n      <td>499</td>\n      <td>[Casual, Racing, Simulation, Sports, Strategy,...</td>\n      <td>Coins Collector Simulator</td>\n      <td>Atomic Fabrik, Cristian Manolachi</td>\n      <td>0.625000</td>\n    </tr>\n    <tr>\n      <th>56632</th>\n      <td>1466190</td>\n      <td>9</td>\n      <td>10</td>\n      <td>10000</td>\n      <td>499</td>\n      <td>[Indie, Action, Casual, RPG, Action RPG, Arcad...</td>\n      <td>You Arrive in a Town</td>\n      <td>Bunny Box Games</td>\n      <td>0.473684</td>\n    </tr>\n    <tr>\n      <th>56633</th>\n      <td>1853990</td>\n      <td>2</td>\n      <td>0</td>\n      <td>10000</td>\n      <td>1999</td>\n      <td>[Relaxing, Nature, Walking Simulator, Procedur...</td>\n      <td>Hidden Treasures in the Forest of Dreams</td>\n      <td>Paleo Games LLC</td>\n      <td>1.000000</td>\n    </tr>\n    <tr>\n      <th>56634</th>\n      <td>1503000</td>\n      <td>3</td>\n      <td>0</td>\n      <td>10000</td>\n      <td>1299</td>\n      <td>[Early Access, Fighting, Arcade, Indie, Casual...</td>\n      <td>The Chaos Gene</td>\n      <td>Andrew T Productions</td>\n      <td>1.000000</td>\n    </tr>\n  </tbody>\n</table>\n<p>56635 rows × 9 columns</p>\n</div>"
     },
     "execution_count": 107,
     "metadata": {},
     "output_type": "execute_result"
    }
   ],
   "source": [
    "rate = []\n",
    "for i in range(len(df_spy['positive'])):\n",
    "    positive_rate = int(df_spy['positive'][i])\n",
    "    negative_rate = int(df_spy['negative'][i])\n",
    "    if positive_rate+negative_rate == 0:\n",
    "        res = None\n",
    "    else:\n",
    "        res = positive_rate/(positive_rate+negative_rate)\n",
    "    rate.append(res)\n",
    "df_spy['rate'] = rate\n",
    "df_spy"
   ],
   "metadata": {
    "collapsed": false,
    "pycharm": {
     "name": "#%%\n"
    }
   }
  },
  {
   "cell_type": "code",
   "execution_count": 108,
   "outputs": [
    {
     "name": "stdout",
     "output_type": "stream",
     "text": [
      "We now on the 0 steam_appid\n",
      "We now on the 100 steam_appid\n",
      "We now on the 200 steam_appid\n",
      "We now on the 300 steam_appid\n",
      "We now on the 400 steam_appid\n",
      "We now on the 500 steam_appid\n",
      "We now on the 600 steam_appid\n",
      "We now on the 700 steam_appid\n",
      "We now on the 800 steam_appid\n",
      "We now on the 900 steam_appid\n",
      "We now on the 1000 steam_appid\n",
      "We now on the 1100 steam_appid\n",
      "We now on the 1200 steam_appid\n",
      "We now on the 1300 steam_appid\n",
      "We now on the 1400 steam_appid\n",
      "We now on the 1500 steam_appid\n",
      "We now on the 1600 steam_appid\n",
      "We now on the 1700 steam_appid\n",
      "We now on the 1800 steam_appid\n",
      "We now on the 1900 steam_appid\n",
      "We now on the 2000 steam_appid\n",
      "We now on the 2100 steam_appid\n",
      "We now on the 2200 steam_appid\n",
      "We now on the 2300 steam_appid\n",
      "We now on the 2400 steam_appid\n",
      "We now on the 2500 steam_appid\n",
      "We now on the 2600 steam_appid\n",
      "We now on the 2700 steam_appid\n",
      "We now on the 2800 steam_appid\n",
      "We now on the 2900 steam_appid\n",
      "We now on the 3000 steam_appid\n",
      "We now on the 3100 steam_appid\n",
      "We now on the 3200 steam_appid\n",
      "We now on the 3300 steam_appid\n",
      "We now on the 3400 steam_appid\n",
      "We now on the 3500 steam_appid\n",
      "We now on the 3600 steam_appid\n",
      "We now on the 3700 steam_appid\n",
      "We now on the 3800 steam_appid\n",
      "We now on the 3900 steam_appid\n",
      "We now on the 4000 steam_appid\n",
      "We now on the 4100 steam_appid\n",
      "We now on the 4200 steam_appid\n",
      "We now on the 4300 steam_appid\n",
      "We now on the 4400 steam_appid\n",
      "We now on the 4500 steam_appid\n",
      "We now on the 4600 steam_appid\n",
      "We now on the 4700 steam_appid\n",
      "We now on the 4800 steam_appid\n",
      "We now on the 4900 steam_appid\n",
      "We now on the 5000 steam_appid\n",
      "We now on the 5100 steam_appid\n",
      "We now on the 5200 steam_appid\n",
      "We now on the 5300 steam_appid\n",
      "We now on the 5400 steam_appid\n",
      "We now on the 5500 steam_appid\n",
      "We now on the 5600 steam_appid\n",
      "We now on the 5700 steam_appid\n",
      "We now on the 5800 steam_appid\n",
      "We now on the 5900 steam_appid\n",
      "We now on the 6000 steam_appid\n",
      "We now on the 6100 steam_appid\n",
      "We now on the 6200 steam_appid\n",
      "We now on the 6300 steam_appid\n",
      "We now on the 6400 steam_appid\n",
      "We now on the 6500 steam_appid\n",
      "We now on the 6600 steam_appid\n",
      "We now on the 6700 steam_appid\n",
      "We now on the 6800 steam_appid\n",
      "We now on the 6900 steam_appid\n",
      "We now on the 7000 steam_appid\n",
      "We now on the 7100 steam_appid\n",
      "We now on the 7200 steam_appid\n",
      "We now on the 7300 steam_appid\n",
      "We now on the 7400 steam_appid\n",
      "We now on the 7500 steam_appid\n",
      "We now on the 7600 steam_appid\n",
      "We now on the 7700 steam_appid\n",
      "We now on the 7800 steam_appid\n",
      "We now on the 7900 steam_appid\n",
      "We now on the 8000 steam_appid\n",
      "We now on the 8100 steam_appid\n",
      "We now on the 8200 steam_appid\n",
      "We now on the 8300 steam_appid\n",
      "We now on the 8400 steam_appid\n",
      "We now on the 8500 steam_appid\n",
      "We now on the 8600 steam_appid\n",
      "We now on the 8700 steam_appid\n",
      "We now on the 8800 steam_appid\n",
      "We now on the 8900 steam_appid\n",
      "We now on the 9000 steam_appid\n",
      "We now on the 9100 steam_appid\n",
      "We now on the 9200 steam_appid\n",
      "We now on the 9300 steam_appid\n",
      "We now on the 9400 steam_appid\n",
      "We now on the 9500 steam_appid\n",
      "We now on the 9600 steam_appid\n",
      "We now on the 9700 steam_appid\n",
      "We now on the 9800 steam_appid\n",
      "We now on the 9900 steam_appid\n",
      "We now on the 10000 steam_appid\n",
      "We now on the 10100 steam_appid\n",
      "We now on the 10200 steam_appid\n",
      "We now on the 10300 steam_appid\n",
      "We now on the 10400 steam_appid\n",
      "We now on the 10500 steam_appid\n",
      "We now on the 10600 steam_appid\n",
      "We now on the 10700 steam_appid\n",
      "We now on the 10800 steam_appid\n",
      "We now on the 10900 steam_appid\n",
      "We now on the 11000 steam_appid\n",
      "We now on the 11100 steam_appid\n",
      "We now on the 11200 steam_appid\n",
      "We now on the 11300 steam_appid\n",
      "We now on the 11400 steam_appid\n",
      "We now on the 11500 steam_appid\n",
      "We now on the 11600 steam_appid\n",
      "We now on the 11700 steam_appid\n",
      "We now on the 11800 steam_appid\n",
      "We now on the 11900 steam_appid\n",
      "We now on the 12000 steam_appid\n",
      "We now on the 12100 steam_appid\n",
      "We now on the 12200 steam_appid\n",
      "We now on the 12300 steam_appid\n",
      "We now on the 12400 steam_appid\n",
      "We now on the 12500 steam_appid\n",
      "We now on the 12600 steam_appid\n",
      "We now on the 12700 steam_appid\n",
      "We now on the 12800 steam_appid\n",
      "We now on the 12900 steam_appid\n",
      "We now on the 13000 steam_appid\n",
      "We now on the 13100 steam_appid\n",
      "We now on the 13200 steam_appid\n",
      "We now on the 13300 steam_appid\n",
      "We now on the 13400 steam_appid\n",
      "We now on the 13500 steam_appid\n",
      "We now on the 13600 steam_appid\n",
      "We now on the 13700 steam_appid\n",
      "We now on the 13800 steam_appid\n",
      "We now on the 13900 steam_appid\n",
      "We now on the 14000 steam_appid\n",
      "We now on the 14100 steam_appid\n",
      "We now on the 14200 steam_appid\n",
      "We now on the 14300 steam_appid\n",
      "We now on the 14400 steam_appid\n",
      "We now on the 14500 steam_appid\n",
      "We now on the 14600 steam_appid\n",
      "We now on the 14700 steam_appid\n",
      "We now on the 14800 steam_appid\n",
      "We now on the 14900 steam_appid\n",
      "We now on the 15000 steam_appid\n",
      "We now on the 15100 steam_appid\n",
      "We now on the 15200 steam_appid\n",
      "We now on the 15300 steam_appid\n",
      "We now on the 15400 steam_appid\n",
      "We now on the 15500 steam_appid\n",
      "We now on the 15600 steam_appid\n",
      "We now on the 15700 steam_appid\n",
      "We now on the 15800 steam_appid\n",
      "We now on the 15900 steam_appid\n",
      "We now on the 16000 steam_appid\n",
      "We now on the 16100 steam_appid\n",
      "We now on the 16200 steam_appid\n",
      "We now on the 16300 steam_appid\n",
      "We now on the 16400 steam_appid\n",
      "We now on the 16500 steam_appid\n",
      "We now on the 16600 steam_appid\n",
      "We now on the 16700 steam_appid\n",
      "We now on the 16800 steam_appid\n",
      "We now on the 16900 steam_appid\n",
      "We now on the 17000 steam_appid\n",
      "We now on the 17100 steam_appid\n",
      "We now on the 17200 steam_appid\n",
      "We now on the 17300 steam_appid\n",
      "We now on the 17400 steam_appid\n",
      "We now on the 17500 steam_appid\n",
      "We now on the 17600 steam_appid\n",
      "We now on the 17700 steam_appid\n",
      "We now on the 17800 steam_appid\n",
      "We now on the 17900 steam_appid\n",
      "We now on the 18000 steam_appid\n",
      "We now on the 18100 steam_appid\n",
      "We now on the 18200 steam_appid\n",
      "We now on the 18300 steam_appid\n",
      "We now on the 18400 steam_appid\n",
      "We now on the 18500 steam_appid\n",
      "We now on the 18600 steam_appid\n",
      "We now on the 18700 steam_appid\n",
      "We now on the 18800 steam_appid\n",
      "We now on the 18900 steam_appid\n",
      "We now on the 19000 steam_appid\n",
      "We now on the 19100 steam_appid\n",
      "We now on the 19200 steam_appid\n",
      "We now on the 19300 steam_appid\n",
      "We now on the 19400 steam_appid\n",
      "We now on the 19500 steam_appid\n",
      "We now on the 19600 steam_appid\n",
      "We now on the 19700 steam_appid\n",
      "We now on the 19800 steam_appid\n",
      "We now on the 19900 steam_appid\n",
      "We now on the 20000 steam_appid\n",
      "We now on the 20100 steam_appid\n",
      "We now on the 20200 steam_appid\n",
      "We now on the 20300 steam_appid\n",
      "We now on the 20400 steam_appid\n",
      "We now on the 20500 steam_appid\n",
      "We now on the 20600 steam_appid\n",
      "We now on the 20700 steam_appid\n",
      "We now on the 20800 steam_appid\n",
      "We now on the 20900 steam_appid\n",
      "We now on the 21000 steam_appid\n",
      "We now on the 21100 steam_appid\n",
      "We now on the 21200 steam_appid\n",
      "We now on the 21300 steam_appid\n",
      "We now on the 21400 steam_appid\n",
      "We now on the 21500 steam_appid\n",
      "We now on the 21600 steam_appid\n",
      "We now on the 21700 steam_appid\n",
      "We now on the 21800 steam_appid\n",
      "We now on the 21900 steam_appid\n",
      "We now on the 22000 steam_appid\n",
      "We now on the 22100 steam_appid\n",
      "We now on the 22200 steam_appid\n",
      "We now on the 22300 steam_appid\n",
      "We now on the 22400 steam_appid\n",
      "We now on the 22500 steam_appid\n",
      "We now on the 22600 steam_appid\n",
      "We now on the 22700 steam_appid\n",
      "We now on the 22800 steam_appid\n",
      "We now on the 22900 steam_appid\n",
      "We now on the 23000 steam_appid\n",
      "We now on the 23100 steam_appid\n",
      "We now on the 23200 steam_appid\n",
      "We now on the 23300 steam_appid\n",
      "We now on the 23400 steam_appid\n",
      "We now on the 23500 steam_appid\n",
      "We now on the 23600 steam_appid\n",
      "We now on the 23700 steam_appid\n",
      "We now on the 23800 steam_appid\n",
      "We now on the 23900 steam_appid\n",
      "We now on the 24000 steam_appid\n",
      "We now on the 24100 steam_appid\n",
      "We now on the 24200 steam_appid\n",
      "We now on the 24300 steam_appid\n",
      "We now on the 24400 steam_appid\n",
      "We now on the 24500 steam_appid\n",
      "We now on the 24600 steam_appid\n",
      "We now on the 24700 steam_appid\n",
      "We now on the 24800 steam_appid\n",
      "We now on the 24900 steam_appid\n",
      "We now on the 25000 steam_appid\n",
      "We now on the 25100 steam_appid\n",
      "We now on the 25200 steam_appid\n",
      "We now on the 25300 steam_appid\n",
      "We now on the 25400 steam_appid\n",
      "We now on the 25500 steam_appid\n",
      "We now on the 25600 steam_appid\n",
      "We now on the 25700 steam_appid\n",
      "We now on the 25800 steam_appid\n",
      "We now on the 25900 steam_appid\n",
      "We now on the 26000 steam_appid\n",
      "We now on the 26100 steam_appid\n",
      "We now on the 26200 steam_appid\n",
      "We now on the 26300 steam_appid\n",
      "We now on the 26400 steam_appid\n",
      "We now on the 26500 steam_appid\n",
      "We now on the 26600 steam_appid\n",
      "We now on the 26700 steam_appid\n",
      "We now on the 26800 steam_appid\n",
      "We now on the 26900 steam_appid\n",
      "We now on the 27000 steam_appid\n",
      "We now on the 27100 steam_appid\n",
      "We now on the 27200 steam_appid\n",
      "We now on the 27300 steam_appid\n",
      "We now on the 27400 steam_appid\n",
      "We now on the 27500 steam_appid\n",
      "We now on the 27600 steam_appid\n",
      "We now on the 27700 steam_appid\n",
      "We now on the 27800 steam_appid\n",
      "We now on the 27900 steam_appid\n",
      "We now on the 28000 steam_appid\n",
      "We now on the 28100 steam_appid\n",
      "We now on the 28200 steam_appid\n",
      "We now on the 28300 steam_appid\n",
      "We now on the 28400 steam_appid\n",
      "We now on the 28500 steam_appid\n",
      "We now on the 28600 steam_appid\n",
      "We now on the 28700 steam_appid\n",
      "We now on the 28800 steam_appid\n",
      "We now on the 28900 steam_appid\n",
      "We now on the 29000 steam_appid\n",
      "We now on the 29100 steam_appid\n",
      "We now on the 29200 steam_appid\n",
      "We now on the 29300 steam_appid\n",
      "We now on the 29400 steam_appid\n",
      "We now on the 29500 steam_appid\n",
      "We now on the 29600 steam_appid\n",
      "We now on the 29700 steam_appid\n",
      "We now on the 29800 steam_appid\n",
      "We now on the 29900 steam_appid\n",
      "We now on the 30000 steam_appid\n",
      "We now on the 30100 steam_appid\n",
      "We now on the 30200 steam_appid\n",
      "We now on the 30300 steam_appid\n",
      "We now on the 30400 steam_appid\n",
      "We now on the 30500 steam_appid\n",
      "We now on the 30600 steam_appid\n",
      "We now on the 30700 steam_appid\n",
      "We now on the 30800 steam_appid\n",
      "We now on the 30900 steam_appid\n",
      "We now on the 31000 steam_appid\n",
      "We now on the 31100 steam_appid\n",
      "We now on the 31200 steam_appid\n",
      "We now on the 31300 steam_appid\n",
      "We now on the 31400 steam_appid\n",
      "We now on the 31500 steam_appid\n",
      "We now on the 31600 steam_appid\n",
      "We now on the 31700 steam_appid\n",
      "We now on the 31800 steam_appid\n",
      "We now on the 31900 steam_appid\n",
      "We now on the 32000 steam_appid\n",
      "We now on the 32100 steam_appid\n",
      "We now on the 32200 steam_appid\n",
      "We now on the 32300 steam_appid\n",
      "We now on the 32400 steam_appid\n",
      "We now on the 32500 steam_appid\n",
      "We now on the 32600 steam_appid\n",
      "We now on the 32700 steam_appid\n",
      "We now on the 32800 steam_appid\n",
      "We now on the 32900 steam_appid\n",
      "We now on the 33000 steam_appid\n",
      "We now on the 33100 steam_appid\n",
      "We now on the 33200 steam_appid\n",
      "We now on the 33300 steam_appid\n",
      "We now on the 33400 steam_appid\n",
      "We now on the 33500 steam_appid\n",
      "We now on the 33600 steam_appid\n",
      "We now on the 33700 steam_appid\n",
      "We now on the 33800 steam_appid\n",
      "We now on the 33900 steam_appid\n",
      "We now on the 34000 steam_appid\n",
      "We now on the 34100 steam_appid\n",
      "We now on the 34200 steam_appid\n",
      "We now on the 34300 steam_appid\n",
      "We now on the 34400 steam_appid\n",
      "We now on the 34500 steam_appid\n",
      "We now on the 34600 steam_appid\n",
      "We now on the 34700 steam_appid\n",
      "We now on the 34800 steam_appid\n",
      "We now on the 34900 steam_appid\n",
      "We now on the 35000 steam_appid\n",
      "We now on the 35100 steam_appid\n",
      "We now on the 35200 steam_appid\n",
      "We now on the 35300 steam_appid\n",
      "We now on the 35400 steam_appid\n",
      "We now on the 35500 steam_appid\n",
      "We now on the 35600 steam_appid\n",
      "We now on the 35700 steam_appid\n",
      "We now on the 35800 steam_appid\n",
      "We now on the 35900 steam_appid\n",
      "We now on the 36000 steam_appid\n",
      "We now on the 36100 steam_appid\n",
      "We now on the 36200 steam_appid\n",
      "We now on the 36300 steam_appid\n",
      "We now on the 36400 steam_appid\n",
      "We now on the 36500 steam_appid\n",
      "We now on the 36600 steam_appid\n",
      "We now on the 36700 steam_appid\n",
      "We now on the 36800 steam_appid\n",
      "We now on the 36900 steam_appid\n",
      "We now on the 37000 steam_appid\n",
      "We now on the 37100 steam_appid\n",
      "We now on the 37200 steam_appid\n",
      "We now on the 37300 steam_appid\n",
      "We now on the 37400 steam_appid\n",
      "We now on the 37500 steam_appid\n",
      "We now on the 37600 steam_appid\n",
      "We now on the 37700 steam_appid\n",
      "We now on the 37800 steam_appid\n",
      "We now on the 37900 steam_appid\n",
      "We now on the 38000 steam_appid\n",
      "We now on the 38100 steam_appid\n",
      "We now on the 38200 steam_appid\n",
      "We now on the 38300 steam_appid\n",
      "We now on the 38400 steam_appid\n",
      "We now on the 38500 steam_appid\n",
      "We now on the 38600 steam_appid\n",
      "We now on the 38700 steam_appid\n",
      "We now on the 38800 steam_appid\n",
      "We now on the 38900 steam_appid\n",
      "We now on the 39000 steam_appid\n",
      "We now on the 39100 steam_appid\n",
      "We now on the 39200 steam_appid\n",
      "We now on the 39300 steam_appid\n",
      "We now on the 39400 steam_appid\n",
      "We now on the 39500 steam_appid\n",
      "We now on the 39600 steam_appid\n",
      "We now on the 39700 steam_appid\n",
      "We now on the 39800 steam_appid\n",
      "We now on the 39900 steam_appid\n",
      "We now on the 40000 steam_appid\n",
      "We now on the 40100 steam_appid\n",
      "We now on the 40200 steam_appid\n",
      "We now on the 40300 steam_appid\n",
      "We now on the 40400 steam_appid\n",
      "We now on the 40500 steam_appid\n",
      "We now on the 40600 steam_appid\n",
      "We now on the 40700 steam_appid\n",
      "We now on the 40800 steam_appid\n",
      "We now on the 40900 steam_appid\n",
      "We now on the 41000 steam_appid\n",
      "We now on the 41100 steam_appid\n",
      "We now on the 41200 steam_appid\n",
      "We now on the 41300 steam_appid\n",
      "We now on the 41400 steam_appid\n",
      "We now on the 41500 steam_appid\n",
      "We now on the 41600 steam_appid\n",
      "We now on the 41700 steam_appid\n",
      "We now on the 41800 steam_appid\n",
      "We now on the 41900 steam_appid\n",
      "We now on the 42000 steam_appid\n",
      "We now on the 42100 steam_appid\n",
      "We now on the 42200 steam_appid\n",
      "We now on the 42300 steam_appid\n",
      "We now on the 42400 steam_appid\n",
      "We now on the 42500 steam_appid\n",
      "We now on the 42600 steam_appid\n",
      "We now on the 42700 steam_appid\n",
      "We now on the 42800 steam_appid\n",
      "We now on the 42900 steam_appid\n",
      "We now on the 43000 steam_appid\n",
      "We now on the 43100 steam_appid\n",
      "We now on the 43200 steam_appid\n",
      "We now on the 43300 steam_appid\n",
      "We now on the 43400 steam_appid\n",
      "We now on the 43500 steam_appid\n",
      "We now on the 43600 steam_appid\n",
      "We now on the 43700 steam_appid\n",
      "We now on the 43800 steam_appid\n",
      "We now on the 43900 steam_appid\n",
      "We now on the 44000 steam_appid\n",
      "We now on the 44100 steam_appid\n",
      "We now on the 44200 steam_appid\n",
      "We now on the 44300 steam_appid\n",
      "We now on the 44400 steam_appid\n",
      "We now on the 44500 steam_appid\n",
      "We now on the 44600 steam_appid\n",
      "We now on the 44700 steam_appid\n",
      "We now on the 44800 steam_appid\n",
      "We now on the 44900 steam_appid\n",
      "We now on the 45000 steam_appid\n",
      "We now on the 45100 steam_appid\n",
      "We now on the 45200 steam_appid\n",
      "We now on the 45300 steam_appid\n",
      "We now on the 45400 steam_appid\n",
      "We now on the 45500 steam_appid\n",
      "We now on the 45600 steam_appid\n",
      "We now on the 45700 steam_appid\n",
      "We now on the 45800 steam_appid\n",
      "We now on the 45900 steam_appid\n",
      "We now on the 46000 steam_appid\n",
      "We now on the 46100 steam_appid\n",
      "We now on the 46200 steam_appid\n",
      "We now on the 46300 steam_appid\n",
      "We now on the 46400 steam_appid\n",
      "We now on the 46500 steam_appid\n",
      "We now on the 46600 steam_appid\n",
      "We now on the 46700 steam_appid\n",
      "We now on the 46800 steam_appid\n",
      "We now on the 46900 steam_appid\n",
      "We now on the 47000 steam_appid\n",
      "We now on the 47100 steam_appid\n",
      "We now on the 47200 steam_appid\n",
      "We now on the 47300 steam_appid\n",
      "We now on the 47400 steam_appid\n",
      "We now on the 47500 steam_appid\n",
      "We now on the 47600 steam_appid\n",
      "We now on the 47700 steam_appid\n",
      "We now on the 47800 steam_appid\n",
      "We now on the 47900 steam_appid\n",
      "We now on the 48000 steam_appid\n",
      "We now on the 48100 steam_appid\n",
      "We now on the 48200 steam_appid\n",
      "We now on the 48300 steam_appid\n",
      "We now on the 48400 steam_appid\n",
      "We now on the 48500 steam_appid\n",
      "We now on the 48600 steam_appid\n",
      "We now on the 48700 steam_appid\n",
      "We now on the 48800 steam_appid\n",
      "We now on the 48900 steam_appid\n",
      "We now on the 49000 steam_appid\n",
      "We now on the 49100 steam_appid\n",
      "We now on the 49200 steam_appid\n",
      "We now on the 49300 steam_appid\n",
      "We now on the 49400 steam_appid\n",
      "We now on the 49500 steam_appid\n",
      "We now on the 49600 steam_appid\n",
      "We now on the 49700 steam_appid\n",
      "We now on the 49800 steam_appid\n",
      "We now on the 49900 steam_appid\n",
      "We now on the 50000 steam_appid\n",
      "We now on the 50100 steam_appid\n",
      "We now on the 50200 steam_appid\n",
      "We now on the 50300 steam_appid\n",
      "We now on the 50400 steam_appid\n",
      "We now on the 50500 steam_appid\n",
      "We now on the 50600 steam_appid\n",
      "We now on the 50700 steam_appid\n",
      "We now on the 50800 steam_appid\n",
      "We now on the 50900 steam_appid\n",
      "We now on the 51000 steam_appid\n",
      "We now on the 51100 steam_appid\n",
      "We now on the 51200 steam_appid\n",
      "We now on the 51300 steam_appid\n",
      "We now on the 51400 steam_appid\n",
      "We now on the 51500 steam_appid\n",
      "We now on the 51600 steam_appid\n",
      "We now on the 51700 steam_appid\n",
      "We now on the 51800 steam_appid\n",
      "We now on the 51900 steam_appid\n",
      "We now on the 52000 steam_appid\n",
      "We now on the 52100 steam_appid\n",
      "We now on the 52200 steam_appid\n",
      "We now on the 52300 steam_appid\n",
      "We now on the 52400 steam_appid\n",
      "We now on the 52500 steam_appid\n",
      "We now on the 52600 steam_appid\n",
      "We now on the 52700 steam_appid\n",
      "We now on the 52800 steam_appid\n",
      "We now on the 52900 steam_appid\n",
      "We now on the 53000 steam_appid\n",
      "We now on the 53100 steam_appid\n",
      "We now on the 53200 steam_appid\n",
      "We now on the 53300 steam_appid\n",
      "We now on the 53400 steam_appid\n",
      "We now on the 53500 steam_appid\n",
      "We now on the 53600 steam_appid\n",
      "We now on the 53700 steam_appid\n",
      "We now on the 53800 steam_appid\n",
      "We now on the 53900 steam_appid\n",
      "We now on the 54000 steam_appid\n",
      "We now on the 54100 steam_appid\n",
      "We now on the 54200 steam_appid\n",
      "We now on the 54300 steam_appid\n",
      "We now on the 54400 steam_appid\n",
      "We now on the 54500 steam_appid\n",
      "We now on the 54600 steam_appid\n",
      "We now on the 54700 steam_appid\n",
      "We now on the 54800 steam_appid\n",
      "We now on the 54900 steam_appid\n",
      "We now on the 55000 steam_appid\n",
      "We now on the 55100 steam_appid\n",
      "We now on the 55200 steam_appid\n",
      "We now on the 55300 steam_appid\n",
      "We now on the 55400 steam_appid\n",
      "We now on the 55500 steam_appid\n",
      "We now on the 55600 steam_appid\n",
      "We now on the 55700 steam_appid\n",
      "We now on the 55800 steam_appid\n",
      "We now on the 55900 steam_appid\n",
      "We now on the 56000 steam_appid\n",
      "We now on the 56100 steam_appid\n",
      "We now on the 56200 steam_appid\n",
      "We now on the 56300 steam_appid\n",
      "We now on the 56400 steam_appid\n",
      "143\n"
     ]
    }
   ],
   "source": [
    "miss_count = 0\n",
    "miss_index = []\n",
    "hit_index = []\n",
    "rate_list = []\n",
    "price_list = []\n",
    "owners_list = []\n",
    "tags_list = []\n",
    "for i in range(len(df['steam_appid'])):\n",
    "    find_flag = 1\n",
    "    target = df['steam_appid'][i]\n",
    "    res = df_spy[df_spy.appid == target].index.to_list()\n",
    "    if res == []:\n",
    "        find_flag = 0\n",
    "    else:\n",
    "        hit_index.append(res[0])\n",
    "    if i % 100 == 0:\n",
    "        print('We now on the ' + str(i) +' steam_appid')\n",
    "    if find_flag == 0:\n",
    "        miss_count += 1\n",
    "        hit_index.append(0)\n",
    "        miss_index.append(i)\n",
    "    else:\n",
    "        continue\n",
    "print(miss_count)"
   ],
   "metadata": {
    "collapsed": false,
    "pycharm": {
     "name": "#%%\n"
    }
   }
  },
  {
   "cell_type": "code",
   "execution_count": 109,
   "outputs": [
    {
     "data": {
      "text/plain": "                                           name steam_appid  release_date  \\\n0                                        Dota 2         570        2013.0   \n1              Counter-Strike: Global Offensive         730        2012.0   \n2                           PUBG: BATTLEGROUNDS      578080        2017.0   \n3                                     New World     1063730        2021.0   \n4                               Team Fortress 2         440        2007.0   \n...                                         ...         ...           ...   \n56341                                   Crawler     1506770        2021.0   \n56342                 Coins Collector Simulator     1868280        2022.0   \n56343                      You Arrive in a Town     1466190        2021.0   \n56344  Hidden Treasures in the Forest of Dreams     1853990        2022.0   \n56345                            The Chaos Gene     1503000        2021.0   \n\n      is_free required_age      rate  price     owners  \\\n0        True            0  0.829342      0  350000000   \n1        True            0  0.882848      0   75000000   \n2        True            0  0.565037      0   75000000   \n3       False            0  0.680567   3999   75000000   \n4        True            0  0.936167      0   75000000   \n...       ...          ...       ...    ...        ...   \n56341   False            0  0.416667    399      10000   \n56342   False            0  0.625000    499      10000   \n56343   False            0  0.473684    499      10000   \n56344   False            0  1.000000   1999      10000   \n56345   False            0  1.000000   1299      10000   \n\n                                                    tags  \n0      [Free to Play, MOBA, Multiplayer, Strategy, e-...  \n1      [FPS, Shooter, Multiplayer, Competitive, Actio...  \n2      [Survival, Shooter, Multiplayer, Battle Royale...  \n3      [Massively Multiplayer, Open World, MMORPG, RP...  \n4      [Free to Play, Hero Shooter, Multiplayer, FPS,...  \n...                                                  ...  \n56341  [Adventure, Action RPG, Exploration, Dungeon C...  \n56342  [Casual, Racing, Simulation, Sports, Strategy,...  \n56343  [Indie, Action, Casual, RPG, Action RPG, Arcad...  \n56344  [Relaxing, Nature, Walking Simulator, Procedur...  \n56345  [Early Access, Fighting, Arcade, Indie, Casual...  \n\n[56346 rows x 9 columns]",
      "text/html": "<div>\n<style scoped>\n    .dataframe tbody tr th:only-of-type {\n        vertical-align: middle;\n    }\n\n    .dataframe tbody tr th {\n        vertical-align: top;\n    }\n\n    .dataframe thead th {\n        text-align: right;\n    }\n</style>\n<table border=\"1\" class=\"dataframe\">\n  <thead>\n    <tr style=\"text-align: right;\">\n      <th></th>\n      <th>name</th>\n      <th>steam_appid</th>\n      <th>release_date</th>\n      <th>is_free</th>\n      <th>required_age</th>\n      <th>rate</th>\n      <th>price</th>\n      <th>owners</th>\n      <th>tags</th>\n    </tr>\n  </thead>\n  <tbody>\n    <tr>\n      <th>0</th>\n      <td>Dota 2</td>\n      <td>570</td>\n      <td>2013.0</td>\n      <td>True</td>\n      <td>0</td>\n      <td>0.829342</td>\n      <td>0</td>\n      <td>350000000</td>\n      <td>[Free to Play, MOBA, Multiplayer, Strategy, e-...</td>\n    </tr>\n    <tr>\n      <th>1</th>\n      <td>Counter-Strike: Global Offensive</td>\n      <td>730</td>\n      <td>2012.0</td>\n      <td>True</td>\n      <td>0</td>\n      <td>0.882848</td>\n      <td>0</td>\n      <td>75000000</td>\n      <td>[FPS, Shooter, Multiplayer, Competitive, Actio...</td>\n    </tr>\n    <tr>\n      <th>2</th>\n      <td>PUBG: BATTLEGROUNDS</td>\n      <td>578080</td>\n      <td>2017.0</td>\n      <td>True</td>\n      <td>0</td>\n      <td>0.565037</td>\n      <td>0</td>\n      <td>75000000</td>\n      <td>[Survival, Shooter, Multiplayer, Battle Royale...</td>\n    </tr>\n    <tr>\n      <th>3</th>\n      <td>New World</td>\n      <td>1063730</td>\n      <td>2021.0</td>\n      <td>False</td>\n      <td>0</td>\n      <td>0.680567</td>\n      <td>3999</td>\n      <td>75000000</td>\n      <td>[Massively Multiplayer, Open World, MMORPG, RP...</td>\n    </tr>\n    <tr>\n      <th>4</th>\n      <td>Team Fortress 2</td>\n      <td>440</td>\n      <td>2007.0</td>\n      <td>True</td>\n      <td>0</td>\n      <td>0.936167</td>\n      <td>0</td>\n      <td>75000000</td>\n      <td>[Free to Play, Hero Shooter, Multiplayer, FPS,...</td>\n    </tr>\n    <tr>\n      <th>...</th>\n      <td>...</td>\n      <td>...</td>\n      <td>...</td>\n      <td>...</td>\n      <td>...</td>\n      <td>...</td>\n      <td>...</td>\n      <td>...</td>\n      <td>...</td>\n    </tr>\n    <tr>\n      <th>56341</th>\n      <td>Crawler</td>\n      <td>1506770</td>\n      <td>2021.0</td>\n      <td>False</td>\n      <td>0</td>\n      <td>0.416667</td>\n      <td>399</td>\n      <td>10000</td>\n      <td>[Adventure, Action RPG, Exploration, Dungeon C...</td>\n    </tr>\n    <tr>\n      <th>56342</th>\n      <td>Coins Collector Simulator</td>\n      <td>1868280</td>\n      <td>2022.0</td>\n      <td>False</td>\n      <td>0</td>\n      <td>0.625000</td>\n      <td>499</td>\n      <td>10000</td>\n      <td>[Casual, Racing, Simulation, Sports, Strategy,...</td>\n    </tr>\n    <tr>\n      <th>56343</th>\n      <td>You Arrive in a Town</td>\n      <td>1466190</td>\n      <td>2021.0</td>\n      <td>False</td>\n      <td>0</td>\n      <td>0.473684</td>\n      <td>499</td>\n      <td>10000</td>\n      <td>[Indie, Action, Casual, RPG, Action RPG, Arcad...</td>\n    </tr>\n    <tr>\n      <th>56344</th>\n      <td>Hidden Treasures in the Forest of Dreams</td>\n      <td>1853990</td>\n      <td>2022.0</td>\n      <td>False</td>\n      <td>0</td>\n      <td>1.000000</td>\n      <td>1999</td>\n      <td>10000</td>\n      <td>[Relaxing, Nature, Walking Simulator, Procedur...</td>\n    </tr>\n    <tr>\n      <th>56345</th>\n      <td>The Chaos Gene</td>\n      <td>1503000</td>\n      <td>2021.0</td>\n      <td>False</td>\n      <td>0</td>\n      <td>1.000000</td>\n      <td>1299</td>\n      <td>10000</td>\n      <td>[Early Access, Fighting, Arcade, Indie, Casual...</td>\n    </tr>\n  </tbody>\n</table>\n<p>56346 rows × 9 columns</p>\n</div>"
     },
     "execution_count": 109,
     "metadata": {},
     "output_type": "execute_result"
    }
   ],
   "source": [
    "for i in hit_index:\n",
    "    rate_list.append(df_spy['rate'][i])\n",
    "    price_list.append(int(df_spy['price'][i]))\n",
    "    owners_list.append(df_spy['owners'][i])\n",
    "    tags_list.append(df_spy['tags'][i])\n",
    "df['rate'] = rate_list\n",
    "df['price'] = price_list\n",
    "df['owners'] = owners_list\n",
    "df['tags'] = tags_list\n",
    "\n",
    "df = df.drop(labels = miss_index, axis = 0, inplace=False).reset_index(drop=True)\n",
    "df"
   ],
   "metadata": {
    "collapsed": false,
    "pycharm": {
     "name": "#%%\n"
    }
   }
  },
  {
   "cell_type": "code",
   "execution_count": 110,
   "outputs": [],
   "source": [
    "'''\n",
    "We need to remove all the Early Access tag in the tags because Early Access can not be counted as a game genre\n",
    "'''\n",
    "early_index = []\n",
    "for i in range(len(df['tags'])):\n",
    "    if \"Early Access\" in df['tags'][i]:\n",
    "        early_index.append(i)\n",
    "df = df.drop(labels = early_index, axis = 0, inplace=False).reset_index(drop=True)\n"
   ],
   "metadata": {
    "collapsed": false,
    "pycharm": {
     "name": "#%%\n"
    }
   }
  },
  {
   "cell_type": "code",
   "execution_count": 111,
   "outputs": [],
   "source": [
    "df = df.drop(df[df['release_date'].isnull() ==True].index, axis = 0, inplace=False).reset_index(drop=True)\n",
    "\n",
    "df['release_date'] = df['release_date'].astype(int)"
   ],
   "metadata": {
    "collapsed": false,
    "pycharm": {
     "name": "#%%\n"
    }
   }
  },
  {
   "cell_type": "code",
   "execution_count": 112,
   "outputs": [
    {
     "data": {
      "text/plain": "                                           name steam_appid  release_date  \\\n0                                        Dota 2         570          2013   \n1              Counter-Strike: Global Offensive         730          2012   \n2                                     New World     1063730          2021   \n3                               Team Fortress 2         440          2007   \n4                                 Apex Legends™     1172470          2020   \n...                                         ...         ...           ...   \n49541                             VEHICLES FURY      749290          2017   \n49542                                   Crawler     1506770          2021   \n49543                 Coins Collector Simulator     1868280          2022   \n49544                      You Arrive in a Town     1466190          2021   \n49545  Hidden Treasures in the Forest of Dreams     1853990          2022   \n\n      is_free required_age      rate  price     owners  \\\n0        True            0  0.829342      0  350000000   \n1        True            0  0.882848      0   75000000   \n2       False            0  0.680567   3999   75000000   \n3        True            0  0.936167      0   75000000   \n4        True            0  0.858303      0   75000000   \n...       ...          ...       ...    ...        ...   \n49541   False            0  0.166667   1499      10000   \n49542   False            0  0.416667    399      10000   \n49543   False            0  0.625000    499      10000   \n49544   False            0  0.473684    499      10000   \n49545   False            0  1.000000   1999      10000   \n\n                                                    tags  \n0      [Free to Play, MOBA, Multiplayer, Strategy, e-...  \n1      [FPS, Shooter, Multiplayer, Competitive, Actio...  \n2      [Massively Multiplayer, Open World, MMORPG, RP...  \n3      [Free to Play, Hero Shooter, Multiplayer, FPS,...  \n4      [Free to Play, Multiplayer, Battle Royale, Sho...  \n...                                                  ...  \n49541                            [Action, Indie, Racing]  \n49542  [Adventure, Action RPG, Exploration, Dungeon C...  \n49543  [Casual, Racing, Simulation, Sports, Strategy,...  \n49544  [Indie, Action, Casual, RPG, Action RPG, Arcad...  \n49545  [Relaxing, Nature, Walking Simulator, Procedur...  \n\n[49546 rows x 9 columns]",
      "text/html": "<div>\n<style scoped>\n    .dataframe tbody tr th:only-of-type {\n        vertical-align: middle;\n    }\n\n    .dataframe tbody tr th {\n        vertical-align: top;\n    }\n\n    .dataframe thead th {\n        text-align: right;\n    }\n</style>\n<table border=\"1\" class=\"dataframe\">\n  <thead>\n    <tr style=\"text-align: right;\">\n      <th></th>\n      <th>name</th>\n      <th>steam_appid</th>\n      <th>release_date</th>\n      <th>is_free</th>\n      <th>required_age</th>\n      <th>rate</th>\n      <th>price</th>\n      <th>owners</th>\n      <th>tags</th>\n    </tr>\n  </thead>\n  <tbody>\n    <tr>\n      <th>0</th>\n      <td>Dota 2</td>\n      <td>570</td>\n      <td>2013</td>\n      <td>True</td>\n      <td>0</td>\n      <td>0.829342</td>\n      <td>0</td>\n      <td>350000000</td>\n      <td>[Free to Play, MOBA, Multiplayer, Strategy, e-...</td>\n    </tr>\n    <tr>\n      <th>1</th>\n      <td>Counter-Strike: Global Offensive</td>\n      <td>730</td>\n      <td>2012</td>\n      <td>True</td>\n      <td>0</td>\n      <td>0.882848</td>\n      <td>0</td>\n      <td>75000000</td>\n      <td>[FPS, Shooter, Multiplayer, Competitive, Actio...</td>\n    </tr>\n    <tr>\n      <th>2</th>\n      <td>New World</td>\n      <td>1063730</td>\n      <td>2021</td>\n      <td>False</td>\n      <td>0</td>\n      <td>0.680567</td>\n      <td>3999</td>\n      <td>75000000</td>\n      <td>[Massively Multiplayer, Open World, MMORPG, RP...</td>\n    </tr>\n    <tr>\n      <th>3</th>\n      <td>Team Fortress 2</td>\n      <td>440</td>\n      <td>2007</td>\n      <td>True</td>\n      <td>0</td>\n      <td>0.936167</td>\n      <td>0</td>\n      <td>75000000</td>\n      <td>[Free to Play, Hero Shooter, Multiplayer, FPS,...</td>\n    </tr>\n    <tr>\n      <th>4</th>\n      <td>Apex Legends™</td>\n      <td>1172470</td>\n      <td>2020</td>\n      <td>True</td>\n      <td>0</td>\n      <td>0.858303</td>\n      <td>0</td>\n      <td>75000000</td>\n      <td>[Free to Play, Multiplayer, Battle Royale, Sho...</td>\n    </tr>\n    <tr>\n      <th>...</th>\n      <td>...</td>\n      <td>...</td>\n      <td>...</td>\n      <td>...</td>\n      <td>...</td>\n      <td>...</td>\n      <td>...</td>\n      <td>...</td>\n      <td>...</td>\n    </tr>\n    <tr>\n      <th>49541</th>\n      <td>VEHICLES FURY</td>\n      <td>749290</td>\n      <td>2017</td>\n      <td>False</td>\n      <td>0</td>\n      <td>0.166667</td>\n      <td>1499</td>\n      <td>10000</td>\n      <td>[Action, Indie, Racing]</td>\n    </tr>\n    <tr>\n      <th>49542</th>\n      <td>Crawler</td>\n      <td>1506770</td>\n      <td>2021</td>\n      <td>False</td>\n      <td>0</td>\n      <td>0.416667</td>\n      <td>399</td>\n      <td>10000</td>\n      <td>[Adventure, Action RPG, Exploration, Dungeon C...</td>\n    </tr>\n    <tr>\n      <th>49543</th>\n      <td>Coins Collector Simulator</td>\n      <td>1868280</td>\n      <td>2022</td>\n      <td>False</td>\n      <td>0</td>\n      <td>0.625000</td>\n      <td>499</td>\n      <td>10000</td>\n      <td>[Casual, Racing, Simulation, Sports, Strategy,...</td>\n    </tr>\n    <tr>\n      <th>49544</th>\n      <td>You Arrive in a Town</td>\n      <td>1466190</td>\n      <td>2021</td>\n      <td>False</td>\n      <td>0</td>\n      <td>0.473684</td>\n      <td>499</td>\n      <td>10000</td>\n      <td>[Indie, Action, Casual, RPG, Action RPG, Arcad...</td>\n    </tr>\n    <tr>\n      <th>49545</th>\n      <td>Hidden Treasures in the Forest of Dreams</td>\n      <td>1853990</td>\n      <td>2022</td>\n      <td>False</td>\n      <td>0</td>\n      <td>1.000000</td>\n      <td>1999</td>\n      <td>10000</td>\n      <td>[Relaxing, Nature, Walking Simulator, Procedur...</td>\n    </tr>\n  </tbody>\n</table>\n<p>49546 rows × 9 columns</p>\n</div>"
     },
     "execution_count": 112,
     "metadata": {},
     "output_type": "execute_result"
    }
   ],
   "source": [
    "df"
   ],
   "metadata": {
    "collapsed": false,
    "pycharm": {
     "name": "#%%\n"
    }
   }
  },
  {
   "cell_type": "code",
   "execution_count": 113,
   "outputs": [
    {
     "name": "stdout",
     "output_type": "stream",
     "text": [
      "<class 'numpy.int32'>\n"
     ]
    }
   ],
   "source": [
    "print(type(df['release_date'][0]))"
   ],
   "metadata": {
    "collapsed": false,
    "pycharm": {
     "name": "#%%\n"
    }
   }
  },
  {
   "cell_type": "code",
   "execution_count": 116,
   "outputs": [],
   "source": [
    "df.to_csv('data.csv')"
   ],
   "metadata": {
    "collapsed": false,
    "pycharm": {
     "name": "#%%\n"
    }
   }
  },
  {
   "cell_type": "code",
   "execution_count": 115,
   "outputs": [
    {
     "name": "stdout",
     "output_type": "stream",
     "text": [
      "['Free to Play', 'MOBA', 'Multiplayer', 'Strategy', 'e-sports', 'Team-Based', 'Competitive', 'Action', 'Online Co-Op', 'PvP', 'Difficult', 'Co-op', 'RTS', 'Tower Defense', 'Fantasy', 'RPG', 'Character Customization', 'Replay Value', 'Action RPG']\n"
     ]
    }
   ],
   "source": [
    "print(df['tags'][0])"
   ],
   "metadata": {
    "collapsed": false,
    "pycharm": {
     "name": "#%%\n"
    }
   }
  }
 ],
 "metadata": {
  "kernelspec": {
   "display_name": "Python 3",
   "language": "python",
   "name": "python3"
  },
  "language_info": {
   "codemirror_mode": {
    "name": "ipython",
    "version": 2
   },
   "file_extension": ".py",
   "mimetype": "text/x-python",
   "name": "python",
   "nbconvert_exporter": "python",
   "pygments_lexer": "ipython2",
   "version": "2.7.6"
  }
 },
 "nbformat": 4,
 "nbformat_minor": 0
}