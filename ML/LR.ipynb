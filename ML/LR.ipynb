{
 "cells": [
  {
   "cell_type": "code",
   "execution_count": null,
   "metadata": {},
   "outputs": [],
   "source": [
    "import csv\n",
    "import pandas\n",
    "from sklearn.datasets import load_diabetes\n"
   ]
  },
  {
   "cell_type": "code",
   "execution_count": null,
   "metadata": {},
   "outputs": [],
   "source": [
    "diabetes = load_diabetes()\n",
    "print diabetes.keys()\n",
    "data = diabetes.data #real -0.2<x<0.2\n",
    "target = diabetes.target #integer 25<y<346\n",
    "print data.shape\n",
    "print target.shape\n",
    "print data[:5]\n",
    "print target[:5]"
   ]
  }
 ],
 "metadata": {
  "kernelspec": {
   "display_name": "Python 3.8.13 ('Stats401')",
   "language": "python",
   "name": "python3"
  },
  "language_info": {
   "name": "python",
   "version": "3.8.13"
  },
  "orig_nbformat": 4,
  "vscode": {
   "interpreter": {
    "hash": "b4ef51dd3d5d910ac746ac1683f2c390c23c6a09eed67103056f8da87ba5243e"
   }
  }
 },
 "nbformat": 4,
 "nbformat_minor": 2
}
